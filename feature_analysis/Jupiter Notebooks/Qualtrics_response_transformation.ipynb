{
 "cells": [
  {
   "cell_type": "code",
   "execution_count": 145,
   "metadata": {},
   "outputs": [
    {
     "name": "stdout",
     "output_type": "stream",
     "text": [
      "Index(['StartDate', 'EndDate', 'Status', 'IPAddress', 'Progress',\n",
      "       'Duration (in seconds)', 'Finished', 'RecordedDate', 'ResponseId',\n",
      "       'RecipientLastName', 'RecipientFirstName', 'RecipientEmail',\n",
      "       'ExternalReference', 'LocationLatitude', 'LocationLongitude',\n",
      "       'DistributionChannel', 'UserLanguage', 'heartatk', 'consent',\n",
      "       'scenario_1_action', 'scenario_1_person', 's1t_First Click',\n",
      "       's1t_Last Click', 's1t_Page Submit', 's1t_Click Count',\n",
      "       'scenario_2_action', 'scenario_2_person', 's2t_First Click',\n",
      "       's2t_Last Click', 's2t_Page Submit', 's2t_Click Count',\n",
      "       'scenario_3_action', 'scenario_3_person', 's3t_First Click',\n",
      "       's3t_Last Click', 's3t_Page Submit', 's3t_Click Count',\n",
      "       'scenario_4_action', 'scenario_4_person', 's4t_First Click',\n",
      "       's4t_Last Click', 's4t_Page Submit', 's4t_Click Count',\n",
      "       'scenario_5_action', 'scenario_5_person', 's5t_First Click',\n",
      "       's5t_Last Click', 's5t_Page Submit', 's5t_Click Count', 'AC', 'gender',\n",
      "       'age', 'Q16', 'q_1_id', 'q_2_id', 'q_3_id', 'q_4_id', 'q_5_id',\n",
      "       'q_1_text', 'q_2_text', 'q_3_text', 'q_4_text', 'q_5_text',\n",
      "       'q_1_is_modified', 'q_2_is_modified', 'q_3_is_modified',\n",
      "       'q_4_is_modified', 'q_5_is_modified', 'surveycode'],\n",
      "      dtype='object')\n"
     ]
    }
   ],
   "source": [
    "import pandas as pd\n",
    "import numpy as np\n",
    "\n",
    "responses = pd.read_csv(\"../datasets/AITA_responses.csv\")\n",
    "print(responses.columns)"
   ]
  },
  {
   "cell_type": "code",
   "execution_count": 146,
   "metadata": {},
   "outputs": [
    {
     "name": "stdout",
     "output_type": "stream",
     "text": [
      "(1474, 69)\n"
     ]
    }
   ],
   "source": [
    "print(responses.shape)"
   ]
  },
  {
   "cell_type": "code",
   "execution_count": 147,
   "metadata": {},
   "outputs": [
    {
     "name": "stdout",
     "output_type": "stream",
     "text": [
      "100                        1350\n",
      "10                           34\n",
      "23                           18\n",
      "74                           18\n",
      "35                           13\n",
      "48                           12\n",
      "6                            10\n",
      "77                            8\n",
      "61                            5\n",
      "3                             4\n",
      "Progress                      1\n",
      "{\"ImportId\":\"progress\"}       1\n",
      "Name: Progress, dtype: int64\n",
      "875\n"
     ]
    }
   ],
   "source": [
    "print(responses['Progress'].value_counts())\n",
    "print(responses['q_3_is_modified'].isna().sum())\n"
   ]
  },
  {
   "cell_type": "code",
   "execution_count": 148,
   "metadata": {},
   "outputs": [
    {
     "name": "stdout",
     "output_type": "stream",
     "text": [
      "(773, 69)\n",
      "{1: {'action': 46, 'person': 44}, 2: {'action': 39, 'person': 37}, 3: {'action': 39, 'person': 37}, 4: {'action': 39, 'person': 37}, 5: {'action': 39, 'person': 37}}\n",
      "{1: {'action': 40, 'person': 38}, 2: {'action': 33, 'person': 31}, 3: {'action': 33, 'person': 31}, 4: {'action': 33, 'person': 31}, 5: {'action': 33, 'person': 31}}\n"
     ]
    }
   ],
   "source": [
    "df = responses.loc[(responses[\"AC\"] ==\"1\")& (responses[\"consent\"] ==\"1\")]\n",
    "\n",
    "print(df.shape) #should be around 770\n",
    "colMax = {1: {\"action\":df[\"scenario_1_action\"].astype(\"int\").max(), \"person\":df[\"scenario_1_person\"].astype(\"int\").max()}, 2: {\"action\":df[\"scenario_2_action\"].astype(\"int\").max(), \"person\":df[\"scenario_2_person\"].astype(\"int\").max()}, 3: {\"action\":df[\"scenario_3_action\"].astype(\"int\").max(), \"person\":df[\"scenario_3_person\"].astype(\"int\").max()}, 4: {\"action\":df[\"scenario_4_action\"].astype(\"int\").max(), \"person\":df[\"scenario_4_person\"].astype(\"int\").max()}, 5: {\"action\":df[\"scenario_5_action\"].astype(\"int\").max(), \"person\":df[\"scenario_5_person\"].astype(\"int\").max()}, }\n",
    "colMin = {1: {\"action\":df[\"scenario_1_action\"].astype(\"int\").min(), \"person\":df[\"scenario_1_person\"].astype(\"int\").min()}, 2: {\"action\":df[\"scenario_2_action\"].astype(\"int\").min(), \"person\":df[\"scenario_2_person\"].astype(\"int\").min()}, 3: {\"action\":df[\"scenario_3_action\"].astype(\"int\").min(), \"person\":df[\"scenario_3_person\"].astype(\"int\").min()}, 4: {\"action\":df[\"scenario_4_action\"].astype(\"int\").min(), \"person\":df[\"scenario_4_person\"].astype(\"int\").min()}, 5: {\"action\":df[\"scenario_5_action\"].astype(\"int\").min(), \"person\":df[\"scenario_5_person\"].astype(\"int\").min()}, }\n",
    "print(colMax)\n",
    "print(colMin)"
   ]
  },
  {
   "cell_type": "code",
   "execution_count": 155,
   "metadata": {},
   "outputs": [
    {
     "name": "stdout",
     "output_type": "stream",
     "text": [
      "shitty\n",
      "shitty\n",
      "shitty\n"
     ]
    }
   ],
   "source": [
    "def recodeValues(columnIdx, isAction, value):\n",
    "    key = \"action\" if isAction else \"person\"\n",
    "    curColMax = colMax[columnIdx][key]\n",
    "    curColMin = colMin[columnIdx][key]\n",
    "    if curColMax-curColMin >6:\n",
    "        raise Exception('Range too large') \n",
    "    else:\n",
    "        return value-curColMin+1\n",
    "    \n",
    "\n",
    "new_format =[]\n",
    "# New format is: id, is_modified, answer_action,answer_person\n",
    "for index, row in df.iterrows():\n",
    "\n",
    "    age = -1 if str(row[\"age\"]).strip().lower() == \"nan\" else int(row[\"age\"])\n",
    "    #TODO:Skip nan gender & age?\n",
    "    if str(row[\"gender\"]).strip().lower() == \"nan\":\n",
    "        print(\"shitty\")\n",
    "        #continue\n",
    "\n",
    "    r1 = [row[\"q_1_id\"], 1 if row[\"q_1_is_modified\"] == \"true\" else -1, recodeValues(1, True, int(row[\"scenario_1_action\"])), recodeValues(1, False, int(row[\"scenario_1_person\"])), age, row[\"gender\"]]\n",
    "    r2 = [row[\"q_2_id\"], 1 if row[\"q_2_is_modified\"] == \"true\" else -1, recodeValues(2, True, int(row[\"scenario_2_action\"])), recodeValues(2, False, int(row[\"scenario_2_person\"])), age, row[\"gender\"]]\n",
    "    r3 = [row[\"q_3_id\"], 1 if row[\"q_3_is_modified\"] == \"true\" else -1, recodeValues(3, True, int(row[\"scenario_3_action\"])), recodeValues(3, False, int(row[\"scenario_3_person\"])), age, row[\"gender\"]]\n",
    "    r4 = [row[\"q_4_id\"], 1 if row[\"q_4_is_modified\"] == \"true\" else -1, recodeValues(4, True, int(row[\"scenario_4_action\"])), recodeValues(4, False, int(row[\"scenario_4_person\"])), age, row[\"gender\"]]\n",
    "    r5 = [row[\"q_5_id\"], 1 if row[\"q_5_is_modified\"] == \"true\" else -1, recodeValues(5, True, int(row[\"scenario_5_action\"])), recodeValues(5, False, int(row[\"scenario_5_person\"])), age, row[\"gender\"]]\n",
    "    new_format += [r1, r2,r3,r4,r5]\n",
    "\n",
    "df_new_format = pd.DataFrame(np.array(new_format), columns=['scenarioId', 'isModified', 'scenarioAction', 'scenarioPerson', \"age\", \"gender\"], )\n",
    "df_new_format[\"isModified\"] = df_new_format[\"isModified\"].astype(\"int\")\n",
    "df_new_format[\"scenarioAction\"] = df_new_format[\"scenarioAction\"].astype(\"int\")\n",
    "df_new_format[\"scenarioPerson\"] = df_new_format[\"scenarioPerson\"].astype(\"int\")\n",
    "df_new_format[\"age\"] = df_new_format[\"age\"].astype(\"int\")"
   ]
  },
  {
   "cell_type": "code",
   "execution_count": 156,
   "metadata": {},
   "outputs": [
    {
     "name": "stdout",
     "output_type": "stream",
     "text": [
      "(3865, 6)\n",
      "scenarioId        object\n",
      "isModified         int64\n",
      "scenarioAction     int64\n",
      "scenarioPerson     int64\n",
      "age                int64\n",
      "gender            object\n",
      "dtype: object\n"
     ]
    }
   ],
   "source": [
    "print(df_new_format.shape)\n",
    "print(df_new_format.dtypes)"
   ]
  },
  {
   "cell_type": "code",
   "execution_count": 169,
   "metadata": {},
   "outputs": [
    {
     "name": "stdout",
     "output_type": "stream",
     "text": [
      " 1    1959\n",
      "-1    1906\n",
      "Name: isModified, dtype: int64\n",
      "scenarioId        0\n",
      "isModified        0\n",
      "scenarioAction    0\n",
      "scenarioPerson    0\n",
      "age               0\n",
      "gender            0\n",
      "dtype: int64\n",
      "scenarioId         0\n",
      "isModified         0\n",
      "scenarioAction     0\n",
      "scenarioPerson     0\n",
      "age                0\n",
      "gender            15\n",
      "dtype: int64\n"
     ]
    }
   ],
   "source": [
    "print(df_new_format['isModified'].value_counts())\n",
    "print(df_new_format.isna().sum())\n",
    "print(df_new_format.isin(['nan']).sum(axis=0))"
   ]
  },
  {
   "cell_type": "code",
   "execution_count": 158,
   "metadata": {},
   "outputs": [
    {
     "data": {
      "image/png": "[encoded data removed]",
      "text/plain": [
       "<Figure size 432x288 with 4 Axes>"
      ]
     },
     "metadata": {
      "needs_background": "light"
     },
     "output_type": "display_data"
    }
   ],
   "source": [
    "hist = df_new_format.hist(bins=30)"
   ]
  },
  {
   "cell_type": "code",
   "execution_count": 159,
   "metadata": {},
   "outputs": [],
   "source": [
    "df_new_format.to_excel(\"aita_data_transformed.xlsx\")"
   ]
  }
 ],
 "metadata": {
  "interpreter": {
   "hash": "916dbcbb3f70747c44a77c7bcd40155683ae19c65e1c03b4aa3499c5328201f1"
  },
  "kernelspec": {
   "display_name": "Python 3.8.10 64-bit",
   "language": "python",
   "name": "python3"
  },
  "language_info": {
   "codemirror_mode": {
    "name": "ipython",
    "version": 3
   },
   "file_extension": ".py",
   "mimetype": "text/x-python",
   "name": "python",
   "nbconvert_exporter": "python",
   "pygments_lexer": "ipython3",
   "version": "3.8.10"
  },
  "orig_nbformat": 4
 },
 "nbformat": 4,
 "nbformat_minor": 2
}
