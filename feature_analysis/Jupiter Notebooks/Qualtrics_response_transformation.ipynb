{
 "cells": [
  {
   "cell_type": "code",
   "execution_count": 103,
   "metadata": {},
   "outputs": [
    {
     "name": "stdout",
     "output_type": "stream",
     "text": [
      "Index(['feature Name', 'percentile', 'feature value', 'post_id',\n",
      "       'y_pred_actual', 'y_pred_orig', 'y_pred_mod', 'Δ', 'liwc_femal_orig',\n",
      "       'liwc_femal_mod', 'comment', 'post_text'],\n",
      "      dtype='object')\n"
     ]
    }
   ],
   "source": [
    "import pandas as pd\n",
    "import numpy as np\n",
    "\n",
    "responses = pd.read_csv(\"../datasets/liwc_female_responses.csv\")\n",
    "liwc_vals = pd.read_csv(\"../datasets/liwc_female_orig_mod_vals.csv\")\n",
    "print(liwc_vals.columns)"
   ]
  },
  {
   "cell_type": "code",
   "execution_count": 104,
   "metadata": {},
   "outputs": [
    {
     "name": "stdout",
     "output_type": "stream",
     "text": [
      "(1474, 69)\n"
     ]
    }
   ],
   "source": [
    "print(responses.shape)"
   ]
  },
  {
   "cell_type": "code",
   "execution_count": 105,
   "metadata": {},
   "outputs": [
    {
     "name": "stdout",
     "output_type": "stream",
     "text": [
      "1                                                                 773\n",
      "2                                                                 125\n",
      "3                                                                  91\n",
      "5                                                                  63\n",
      "4                                                                  54\n",
      "In this task, you read five passages that all dealt with what?      1\n",
      "{\"ImportId\":\"QID73\"}                                                1\n",
      "Name: AC, dtype: int64\n",
      "875\n"
     ]
    }
   ],
   "source": [
    "print(responses['AC'].value_counts())\n",
    "print(responses['q_3_is_modified'].isna().sum())\n"
   ]
  },
  {
   "cell_type": "code",
   "execution_count": 106,
   "metadata": {},
   "outputs": [
    {
     "name": "stdout",
     "output_type": "stream",
     "text": [
      "(1206, 69)\n",
      "{1: {'action': 46, 'person': 44}, 2: {'action': 39, 'person': 37}, 3: {'action': 39, 'person': 37}, 4: {'action': 39, 'person': 37}, 5: {'action': 39, 'person': 37}}\n",
      "{1: {'action': 40, 'person': 38}, 2: {'action': 33, 'person': 31}, 3: {'action': 33, 'person': 31}, 4: {'action': 33, 'person': 31}, 5: {'action': 33, 'person': 31}}\n"
     ]
    }
   ],
   "source": [
    "df = responses.loc[(responses[\"heartatk\"] ==\"4\")& (responses[\"consent\"] ==\"1\")]\n",
    "\n",
    "df_fil = df.dropna(subset=[\"scenario_1_action\", \"scenario_2_action\", \"scenario_3_action\", \"scenario_4_action\", \"scenario_5_action\"])\n",
    "df_fil = df_fil.dropna(subset=[\"scenario_1_person\", \"scenario_2_person\", \"scenario_3_person\", \"scenario_4_person\", \"scenario_5_person\"])\n",
    "print(df.shape) #should be around 770\n",
    "colMax = {1: {\"action\":df_fil[\"scenario_1_action\"].astype(\"int\").max(), \"person\":df_fil[\"scenario_1_person\"].astype(\"int\").max()}, 2: {\"action\":df_fil[\"scenario_2_action\"].astype(\"int\").max(), \"person\":df_fil[\"scenario_2_person\"].astype(\"int\").max()}, 3: {\"action\":df_fil[\"scenario_3_action\"].astype(\"int\").max(), \"person\":df_fil[\"scenario_3_person\"].astype(\"int\").max()}, 4: {\"action\":df_fil[\"scenario_4_action\"].astype(\"int\").max(), \"person\":df_fil[\"scenario_4_person\"].astype(\"int\").max()}, 5: {\"action\":df_fil[\"scenario_5_action\"].astype(\"int\").max(), \"person\":df_fil[\"scenario_5_person\"].astype(\"int\").max()}, }\n",
    "colMin = {1: {\"action\":df_fil[\"scenario_1_action\"].astype(\"int\").min(), \"person\":df_fil[\"scenario_1_person\"].astype(\"int\").min()}, 2: {\"action\":df_fil[\"scenario_2_action\"].astype(\"int\").min(), \"person\":df_fil[\"scenario_2_person\"].astype(\"int\").min()}, 3: {\"action\":df_fil[\"scenario_3_action\"].astype(\"int\").min(), \"person\":df_fil[\"scenario_3_person\"].astype(\"int\").min()}, 4: {\"action\":df_fil[\"scenario_4_action\"].astype(\"int\").min(), \"person\":df_fil[\"scenario_4_person\"].astype(\"int\").min()}, 5: {\"action\":df_fil[\"scenario_5_action\"].astype(\"int\").min(), \"person\":df_fil[\"scenario_5_person\"].astype(\"int\").min()}, }\n",
    "print(colMax)\n",
    "print(colMin)"
   ]
  },
  {
   "cell_type": "code",
   "execution_count": 107,
   "metadata": {},
   "outputs": [
    {
     "name": "stdout",
     "output_type": "stream",
     "text": [
      "45    267\n",
      "46    253\n",
      "44    251\n",
      "40    128\n",
      "43    114\n",
      "42     86\n",
      "41     73\n",
      "Name: scenario_1_action, dtype: int64\n",
      "(1206, 69)\n"
     ]
    }
   ],
   "source": [
    "print(df['scenario_1_action'].value_counts())\n",
    "print(df.shape)"
   ]
  },
  {
   "cell_type": "code",
   "execution_count": 108,
   "metadata": {},
   "outputs": [
    {
     "name": "stdout",
     "output_type": "stream",
     "text": [
      "NAN values: 108\n"
     ]
    }
   ],
   "source": [
    "\n",
    "def recodeValues(columnIdx, isAction, value):\n",
    "    if str(value).strip().lower()==\"nan\":\n",
    "        return None\n",
    "    value = int(value)\n",
    "    return value - colMin[columnIdx][\"action\" if isAction else \"person\"] +1\n",
    "    \n",
    "def getLiwcVals(type, id):\n",
    "    col = \"liwc_femal_orig\" if type == \"orig\" else \"liwc_femal_mod\"\n",
    "    to_ret =liwc_vals.loc[liwc_vals[\"post_id\"]==id][col].item()\n",
    "    return float(to_ret)\n",
    "    \n",
    "new_format =[]\n",
    "# New format is: id, is_modified, answer_action,answer_person\n",
    "badEntryCounter=0\n",
    "for index, row in df.iterrows():\n",
    "    dmy = str(row[\"gender\"]).strip().lower()\n",
    "    gender = None\n",
    "    if dmy == \"4\":\n",
    "        gender =1\n",
    "    elif dmy==\"5\":\n",
    "        gender = -1\n",
    "    elif dmy==\"6\":\n",
    "        gender = 2\n",
    "    elif dmy==\"7\":\n",
    "        gender=3\n",
    "    else:\n",
    "        badEntryCounter+=1\n",
    "\n",
    "    for i in range(1,6):\n",
    "        r_id = row[f\"q_{i}_id\"]\n",
    "\n",
    "        r_isMod = 1 if row[f\"q_{i}_is_modified\"] == \"true\" else -1\n",
    "        r_action =  recodeValues(i, True, row[f\"scenario_{i}_action\"])\n",
    "        r_person = recodeValues(i, False, row[f\"scenario_{i}_person\"])\n",
    "        r_age = None if str(row[\"age\"]).strip().lower() == \"nan\" else int(row[\"age\"])\n",
    "        r_gender = gender\n",
    "        r_responseId = row[\"ResponseId\"]\n",
    "        r_ac = row[\"AC\"]\n",
    "        r_liwcOrig = getLiwcVals(\"orig\", r_id)\n",
    "        r_liwcMod = getLiwcVals(\"modified\", r_id)\n",
    "\n",
    "        r_i = [r_id, r_isMod, r_action, r_person, r_age, r_gender, r_responseId, r_ac, r_liwcOrig, r_liwcMod ]\n",
    "        new_format.append(r_i)\n",
    "\n",
    "\n",
    "print(\"NAN values:\",badEntryCounter)\n",
    "df_new_format = pd.DataFrame(np.array(new_format), columns=['scenarioId', 'isModified', 'scenarioAction', 'scenarioPerson', \"age\", \"gender\", \"responseId\", \"acResponse\", \"liwcOriginal\", \"liwcModified\"], )\n",
    "df_new_format[\"isModified\"] = df_new_format[\"isModified\"].astype(\"Int64\")\n",
    "df_new_format[\"scenarioAction\"] = df_new_format[\"scenarioAction\"].astype(\"Int64\")\n",
    "df_new_format[\"scenarioPerson\"] = df_new_format[\"scenarioPerson\"].astype(\"Int64\")\n",
    "df_new_format[\"gender\"] = df_new_format[\"gender\"].astype(\"Int64\")\n",
    "df_new_format[\"age\"] = df_new_format[\"age\"].astype(\"Int64\")\n",
    "df_new_format[\"liwcOriginal\"] = df_new_format[\"liwcOriginal\"].astype(\"Float64\")\n",
    "df_new_format[\"liwcModified\"] = df_new_format[\"liwcModified\"].astype(\"Float64\")"
   ]
  },
  {
   "cell_type": "code",
   "execution_count": 109,
   "metadata": {},
   "outputs": [
    {
     "name": "stdout",
     "output_type": "stream",
     "text": [
      "(6030, 10)\n",
      "scenarioId         object\n",
      "isModified          Int64\n",
      "scenarioAction      Int64\n",
      "scenarioPerson      Int64\n",
      "age                 Int64\n",
      "gender              Int64\n",
      "responseId         object\n",
      "acResponse         object\n",
      "liwcOriginal      Float64\n",
      "liwcModified      Float64\n",
      "dtype: object\n"
     ]
    }
   ],
   "source": [
    "print(df_new_format.shape)\n",
    "print(df_new_format.dtypes)"
   ]
  },
  {
   "cell_type": "code",
   "execution_count": 110,
   "metadata": {},
   "outputs": [
    {
     "name": "stdout",
     "output_type": "stream",
     "text": [
      "4    1108\n",
      "5     981\n",
      "1     870\n",
      "6     821\n",
      "3     768\n",
      "2     669\n",
      "7     503\n",
      "Name: scenarioPerson, dtype: Int64\n",
      "0     0.81\n",
      "1    10.87\n",
      "2    15.63\n",
      "3    19.39\n",
      "4    21.43\n",
      "5     1.69\n",
      "6     4.83\n",
      "7     4.15\n",
      "8     0.81\n",
      "9     7.14\n",
      "Name: liwcOriginal, dtype: Float64\n",
      "scenarioId          0\n",
      "isModified          0\n",
      "scenarioAction    310\n",
      "scenarioPerson    310\n",
      "age               540\n",
      "gender            540\n",
      "responseId          0\n",
      "acResponse        500\n",
      "liwcOriginal        0\n",
      "liwcModified        0\n",
      "dtype: int64\n",
      "scenarioId        0\n",
      "isModified        0\n",
      "scenarioAction    0\n",
      "scenarioPerson    0\n",
      "age               0\n",
      "gender            0\n",
      "responseId        0\n",
      "acResponse        0\n",
      "liwcOriginal      0\n",
      "liwcModified      0\n",
      "dtype: int64\n"
     ]
    }
   ],
   "source": [
    "print(df_new_format['scenarioPerson'].value_counts())\n",
    "print(df_new_format[\"liwcOriginal\"].head(10))\n",
    "print(df_new_format.isna().sum())\n",
    "print(df_new_format.isin(['nan']).sum(axis=0))"
   ]
  },
  {
   "cell_type": "code",
   "execution_count": 111,
   "metadata": {},
   "outputs": [
    {
     "data": {
      "image/png": "[encoded data removed]",
      "text/plain": [
       "<Figure size 432x288 with 9 Axes>"
      ]
     },
     "metadata": {
      "needs_background": "light"
     },
     "output_type": "display_data"
    }
   ],
   "source": [
    "hist = df_new_format.hist(bins=30)"
   ]
  },
  {
   "cell_type": "code",
   "execution_count": 112,
   "metadata": {},
   "outputs": [],
   "source": [
    "df_new_format.to_excel(\"aita_data_transformed.xlsx\", index=False)"
   ]
  },
  {
   "cell_type": "code",
   "execution_count": null,
   "metadata": {},
   "outputs": [],
   "source": []
  }
 ],
 "metadata": {
  "interpreter": {
   "hash": "916dbcbb3f70747c44a77c7bcd40155683ae19c65e1c03b4aa3499c5328201f1"
  },
  "kernelspec": {
   "display_name": "Python 3.8.10 64-bit",
   "language": "python",
   "name": "python3"
  },
  "language_info": {
   "codemirror_mode": {
    "name": "ipython",
    "version": 3
   },
   "file_extension": ".py",
   "mimetype": "text/x-python",
   "name": "python",
   "nbconvert_exporter": "python",
   "pygments_lexer": "ipython3",
   "version": "3.8.10"
  },
  "orig_nbformat": 4
 },
 "nbformat": 4,
 "nbformat_minor": 2
}
