{
 "cells": [
  {
   "cell_type": "code",
   "execution_count": 86,
   "metadata": {},
   "outputs": [
    {
     "name": "stdout",
     "output_type": "stream",
     "text": [
      "Index(['post_id', 'liwc_female orig', 'AHR original predict',\n",
      "       'AHR original actual', 'AHR modified predict', 'liwc_female mod',\n",
      "       'conditional_feature_value', 'notes'],\n",
      "      dtype='object')\n",
      "Index(['StartDate', 'EndDate', 'Status', 'IPAddress', 'Progress',\n",
      "       'Duration (in seconds)', 'Finished', 'RecordedDate', 'ResponseId',\n",
      "       'RecipientLastName', 'RecipientFirstName', 'RecipientEmail',\n",
      "       'ExternalReference', 'LocationLatitude', 'LocationLongitude',\n",
      "       'DistributionChannel', 'UserLanguage', 'heartatk', 'consent',\n",
      "       'scenario_1_action', 'scenario_1_person', 's1t_First Click',\n",
      "       's1t_Last Click', 's1t_Page Submit', 's1t_Click Count',\n",
      "       'scenario_2_action', 'scenario_2_person', 's2t_First Click',\n",
      "       's2t_Last Click', 's2t_Page Submit', 's2t_Click Count',\n",
      "       'scenario_3_action', 'scenario_3_person', 's3t_First Click',\n",
      "       's3t_Last Click', 's3t_Page Submit', 's3t_Click Count',\n",
      "       'scenario_4_action', 'scenario_4_person', 's4t_First Click',\n",
      "       's4t_Last Click', 's4t_Page Submit', 's4t_Click Count',\n",
      "       'scenario_5_action', 'scenario_5_person', 's5t_First Click',\n",
      "       's5t_Last Click', 's5t_Page Submit', 's5t_Click Count', 'AC', 'gender',\n",
      "       'age', 'Q16', 'q_1_id', 'q_2_id', 'q_3_id', 'q_4_id', 'q_5_id',\n",
      "       'q_1_text', 'q_2_text', 'q_3_text', 'q_4_text', 'q_5_text',\n",
      "       'q_1_is_modified', 'q_2_is_modified', 'q_3_is_modified',\n",
      "       'q_4_is_modified', 'q_5_is_modified', 'surveycode', 'q_1_is_would',\n",
      "       'q_2_is_would', 'q_3_is_would', 'q_4_is_would', 'q_5_is_would'],\n",
      "      dtype='object')\n"
     ]
    }
   ],
   "source": [
    "import pandas as pd\n",
    "import numpy as np\n",
    "\n",
    "pathDict = {\n",
    "   # \"femaleV1\":{\"rsp\":\"liwc_female_responses\", \"vals\":\"liwc_female_orig_mod_vals\", \"mod_feat\":\"liwc_femal_mod\", \"orig_feat\":\"liwc_femal_orig\"},\n",
    "    \"femaleV2\":{\"rsp\":\"liwc_female_v2_responses\", \"vals\":\"liwc_female_orig_mod_vals\", \"mod_feat\":\"liwc_femal_mod\", \"orig_feat\":\"liwc_femal_orig\"},\n",
    "    \"my_mine\":{\"rsp\":\"my_mine_responses_v2\", \"vals\":\"my_mine_orig_mod_vals\", \"mod_feat\":\"my_mine_mod\", \"orig_feat\":\"my_mine_orig\"},\n",
    "    \"cond\":{\"rsp\":\"mine conditional v2\", \"vals\":\"cond_orig_mod_vals\", \"mod_feat\":\"liwc_female mod\", \"orig_feat\":\"liwc_female orig\"},\n",
    "}\n",
    "experiment = \"cond\"\n",
    "responses = pd.read_csv(\"../datasets/\"+pathDict[experiment][\"rsp\"]+\".csv\") #Options: \"liwc_female_responses.csv\", \"liwc_female_v2_responses.csv\"\n",
    "liwc_vals = pd.read_csv(\"../datasets/\"+pathDict[experiment][\"vals\"]+\".csv\") #Options: \"liwc_female_orig_mod_vals.csv\", \"my_mine_orig_mod_vals.csv\"\n",
    "print(liwc_vals.columns)\n",
    "print(responses.columns)"
   ]
  },
  {
   "cell_type": "code",
   "execution_count": 87,
   "metadata": {},
   "outputs": [
    {
     "name": "stdout",
     "output_type": "stream",
     "text": [
      "(910, 74)\n",
      "invalid acs 46\n",
      "Number of participants: 864 removed 19 => 845\n"
     ]
    }
   ],
   "source": [
    "print(responses.shape)\n",
    "valid_AC_count = responses.loc[(responses['AC'] == \"1\") | (responses['AC'] == \"2\") |(responses['AC'] == \"3\") |(responses['AC'] == \"4\") |(responses['AC'] == \"5\")].shape[0]\n",
    "invalid_AC_count = responses.loc[(responses['AC'] != \"1\") & (responses['AC'] != \"2\") &(responses['AC'] != \"3\") &(responses['AC'] != \"4\") &(responses['AC'] != \"5\")].shape[0]\n",
    "correct_AC_count = responses.loc[(responses['AC'] == \"1\") ].shape[0]\n",
    "incorrect_AC_count = valid_AC_count-correct_AC_count\n",
    "print(\"invalid acs\", invalid_AC_count)\n",
    "print(\"Number of participants:\", valid_AC_count, \"removed\", incorrect_AC_count, \"=>\", correct_AC_count)\n"
   ]
  },
  {
   "cell_type": "code",
   "execution_count": 88,
   "metadata": {},
   "outputs": [
    {
     "name": "stdout",
     "output_type": "stream",
     "text": [
      "1                                                                 845\n",
      "2                                                                   9\n",
      "3                                                                   6\n",
      "4                                                                   3\n",
      "In this task, you read five passages that all dealt with what?      1\n",
      "{\"ImportId\":\"QID73\"}                                                1\n",
      "5                                                                   1\n",
      "Name: AC, dtype: int64\n",
      "443\n"
     ]
    }
   ],
   "source": [
    "print(responses['AC'].value_counts())\n",
    "print(responses['q_3_is_modified'].isna().sum())\n"
   ]
  },
  {
   "cell_type": "code",
   "execution_count": 89,
   "metadata": {},
   "outputs": [
    {
     "name": "stdout",
     "output_type": "stream",
     "text": [
      "(902, 74)\n",
      "{1: {'action': 46, 'person': 44}, 2: {'action': 39, 'person': 37}, 3: {'action': 39, 'person': 37}, 4: {'action': 39, 'person': 37}, 5: {'action': 39, 'person': 37}}\n",
      "{1: {'action': 40, 'person': 38}, 2: {'action': 33, 'person': 31}, 3: {'action': 33, 'person': 31}, 4: {'action': 33, 'person': 31}, 5: {'action': 33, 'person': 31}}\n"
     ]
    }
   ],
   "source": [
    "df = responses.loc[(responses[\"heartatk\"] ==\"4\")& (responses[\"consent\"] ==\"1\")]\n",
    "\n",
    "df_fil = df.dropna(subset=[\"scenario_1_action\", \"scenario_2_action\", \"scenario_3_action\", \"scenario_4_action\", \"scenario_5_action\"])\n",
    "df_fil = df_fil.dropna(subset=[\"scenario_1_person\", \"scenario_2_person\", \"scenario_3_person\", \"scenario_4_person\", \"scenario_5_person\"])\n",
    "df_fil = df_fil.dropna(subset=[\"q_1_id\", \"q_2_id\", \"q_3_id\", \"q_4_id\", \"q_5_id\"])\n",
    "print(df.shape)\n",
    "colMax = {1: {\"action\":df_fil[\"scenario_1_action\"].astype(\"int\").max(), \"person\":df_fil[\"scenario_1_person\"].astype(\"int\").max()}, 2: {\"action\":df_fil[\"scenario_2_action\"].astype(\"int\").max(), \"person\":df_fil[\"scenario_2_person\"].astype(\"int\").max()}, 3: {\"action\":df_fil[\"scenario_3_action\"].astype(\"int\").max(), \"person\":df_fil[\"scenario_3_person\"].astype(\"int\").max()}, 4: {\"action\":df_fil[\"scenario_4_action\"].astype(\"int\").max(), \"person\":df_fil[\"scenario_4_person\"].astype(\"int\").max()}, 5: {\"action\":df_fil[\"scenario_5_action\"].astype(\"int\").max(), \"person\":df_fil[\"scenario_5_person\"].astype(\"int\").max()}, }\n",
    "colMin = {1: {\"action\":df_fil[\"scenario_1_action\"].astype(\"int\").min(), \"person\":df_fil[\"scenario_1_person\"].astype(\"int\").min()}, 2: {\"action\":df_fil[\"scenario_2_action\"].astype(\"int\").min(), \"person\":df_fil[\"scenario_2_person\"].astype(\"int\").min()}, 3: {\"action\":df_fil[\"scenario_3_action\"].astype(\"int\").min(), \"person\":df_fil[\"scenario_3_person\"].astype(\"int\").min()}, 4: {\"action\":df_fil[\"scenario_4_action\"].astype(\"int\").min(), \"person\":df_fil[\"scenario_4_person\"].astype(\"int\").min()}, 5: {\"action\":df_fil[\"scenario_5_action\"].astype(\"int\").min(), \"person\":df_fil[\"scenario_5_person\"].astype(\"int\").min()}, }\n",
    "print(colMax)\n",
    "print(colMin)"
   ]
  },
  {
   "cell_type": "code",
   "execution_count": 90,
   "metadata": {},
   "outputs": [
    {
     "name": "stdout",
     "output_type": "stream",
     "text": [
      "40    282\n",
      "41    143\n",
      "42    126\n",
      "44    120\n",
      "43     91\n",
      "46     64\n",
      "45     62\n",
      "Name: scenario_1_action, dtype: int64\n",
      "(902, 74)\n"
     ]
    }
   ],
   "source": [
    "print(df['scenario_1_action'].value_counts())\n",
    "print(df.shape)"
   ]
  },
  {
   "cell_type": "code",
   "execution_count": 91,
   "metadata": {},
   "outputs": [
    {
     "name": "stdout",
     "output_type": "stream",
     "text": [
      "NAN values: 38\n",
      "Number of participanst 910 \n",
      "  removed through AC= 0 \n",
      "removed through invalid response= 46 \n",
      "final number of participants=> 864 \n",
      "Total removed  46\n",
      "TRANSFORMED OUTPUT STILL CONTAINS ATTENTION CHECK\n"
     ]
    }
   ],
   "source": [
    "import math\n",
    "from urllib import response\n",
    "csv_col_modified = pathDict[experiment][\"mod_feat\"] \n",
    "csv_col_orig = pathDict[experiment][\"orig_feat\"]  \n",
    "\n",
    "def is_float(element) -> bool:\n",
    "    try:\n",
    "        float(element)\n",
    "        return True\n",
    "    except ValueError:\n",
    "        return False\n",
    "\n",
    "def recodeValues(columnIdx, isAction, value):\n",
    "    if str(value).strip().lower()==\"nan\":\n",
    "        return None\n",
    "    value = int(value)\n",
    "    return value - colMin[columnIdx][\"action\" if isAction else \"person\"] +1\n",
    "    \n",
    "def getLiwcVals(type, id):\n",
    "    col = csv_col_orig if type == \"orig\" else csv_col_modified\n",
    "    #print(id)\n",
    "    to_ret =liwc_vals.loc[liwc_vals[\"post_id\"]==id][col].item()\n",
    "    return float(to_ret)\n",
    "    \n",
    "new_format =[]\n",
    "# New format is: id, is_modified, answer_action,answer_person\n",
    "\n",
    "ac_fail_count = 0\n",
    "badEntryCounter=0\n",
    "participants =0\n",
    "for index, row in df.iterrows():\n",
    "    if \"2022-08-01\" in row[\"StartDate\"]:\n",
    "        continue\n",
    "        print(row[\"StartDate\"])\n",
    "    dmy = str(row[\"gender\"]).strip().lower()\n",
    "    gender = None\n",
    "    if dmy == \"4\":\n",
    "        participants+=1\n",
    "        gender =1\n",
    "    elif dmy==\"5\":\n",
    "        gender = -1\n",
    "        participants+=1\n",
    "    elif dmy==\"6\":\n",
    "        gender = 2\n",
    "        participants+=1\n",
    "    elif dmy==\"7\":\n",
    "        gender=3\n",
    "        participants+=1\n",
    "    else:\n",
    "        badEntryCounter+=1\n",
    "\n",
    "    for i in range(1,6):\n",
    "        r_id = row[f\"q_{i}_id\"]\n",
    "        #print(type(r_id))\n",
    "        if  (is_float(r_id) and math.isnan(r_id)) or (r_id.isnumeric() and math.isnan(int(r_id))):\n",
    "            badEntryCounter+=1\n",
    "            #not sure if bad entry counter is correct or should be diveded by 4\n",
    "            continue\n",
    "       \n",
    "        r_isMod = 1 if row[f\"q_{i}_is_modified\"] == \"true\" else -1\n",
    "        r_action =  recodeValues(i, True, row[f\"scenario_{i}_action\"])\n",
    "        r_person = recodeValues(i, False, row[f\"scenario_{i}_person\"])\n",
    "        r_age = None if str(row[\"age\"]).strip().lower() == \"nan\" else int(math.floor(float(row[\"age\"]))) if \".\" in row[\"age\"] else int(row[\"age\"])\n",
    "        r_gender = gender\n",
    "        r_responseId = row[\"ResponseId\"]\n",
    "        r_ac = row[\"AC\"]\n",
    "        \n",
    "        \n",
    "        \n",
    "\n",
    "        \n",
    "\n",
    "        #print(r_id)\n",
    "        if \"IMTA for getting a cat\" in r_id:\n",
    "            r_id = \"k5kh4d\"\n",
    "        r_liwcOrig = getLiwcVals(\"orig\", r_id)\n",
    "        r_liwcMod = getLiwcVals(\"modified\", r_id)\n",
    "        cond_low = [\"k5n8gp\",\"ayuhfj\",\"d7rqv7\",\"da5lf4\",\"d8tktt\",\"di121p\",\"e6gioh\",\"kbfqn0\",\"d7bwco\",\"lflkbi\",\"ghb1qd\",\"dq7o60\",\"c16a49\",\"azhjxy\",\"b6ex3u\",\"bt96e5\",\"jmyghg\",\"acx62a\",\"cwd2sm\",\"d11pwp\"]\n",
    "        cond_high=[\"bkd310\",\"j0rubv\",\"dhswh1\",\"hptojb\",\"eq475l\",\"Ds0fwd\",\"ikxa0t\",\"jpgxl6\",\"bt8iou\",\"ec7ciw\",\"ehyyhk\",\"ck5jvn\",\"m46pif\",\"lol9kc\",\"bs5p6l\",\"dn6075\",\"jncy5t\",\"hql2q4\",\"cjudzm\",\"n2wjkt\"]\n",
    "        r_is_cond_high = 1 if r_id in cond_high else -1\n",
    "        r_i = [r_id, r_isMod, r_action, r_person, r_age, r_gender, r_responseId, r_ac, r_liwcOrig, r_liwcMod, r_is_cond_high ]\n",
    "        new_format.append(r_i)\n",
    "    \n",
    "    \n",
    "\n",
    "\n",
    "print(\"NAN values:\",badEntryCounter)\n",
    "df_new_format = pd.DataFrame(np.array(new_format), columns=['scenarioId', 'isModified', 'scenarioAction', 'scenarioPerson', \"age\", \"gender\", \"responseId\", \"acResponse\", \"originalFeatureValue\", \"modifiedFeatureValue\", \"isConditionalHigh\"], )\n",
    "df_new_format[\"isModified\"] = df_new_format[\"isModified\"].astype(\"float\").astype(\"Int64\")\n",
    "df_new_format[\"scenarioAction\"] = df_new_format[\"scenarioAction\"].astype(\"float\").astype(\"Int64\")\n",
    "df_new_format[\"scenarioPerson\"] = df_new_format[\"scenarioPerson\"].astype(\"float\").astype(\"Int64\")\n",
    "df_new_format[\"gender\"] = df_new_format[\"gender\"].astype(\"float\").astype(\"Int64\")\n",
    "df_new_format[\"age\"] = df_new_format[\"age\"].astype(\"float\").astype(\"Int64\")\n",
    "df_new_format[\"originalFeatureValue\"] = df_new_format[\"originalFeatureValue\"].astype(\"float\").astype(\"Float64\")\n",
    "df_new_format[\"modifiedFeatureValue\"] = df_new_format[\"modifiedFeatureValue\"].astype(\"float\").astype(\"Float64\")\n",
    "df_new_format[\"isConditionalHigh\"] = df_new_format[\"isConditionalHigh\"].astype(\"float\").astype(\"Int64\")\n",
    "df_new_format[\"acResponse\"] = df_new_format[\"acResponse\"].astype(\"float\").astype(\"Int64\")\n",
    "\n",
    "\n",
    "nr_invalid = responses.shape[0]-participants\n",
    "print(\"Number of participanst\", str(responses.shape[0]), \"\\n  removed through AC=\", str(ac_fail_count),\"\\nremoved through invalid response=\", str(nr_invalid), \"\\nfinal number of participants=>\", str(responses.shape[0]-ac_fail_count-nr_invalid),\"\\nTotal removed \", str(nr_invalid+ac_fail_count) )\n",
    "print(\"TRANSFORMED OUTPUT STILL CONTAINS ATTENTION CHECK\")"
   ]
  },
  {
   "cell_type": "code",
   "execution_count": 92,
   "metadata": {},
   "outputs": [
    {
     "name": "stdout",
     "output_type": "stream",
     "text": [
      "4510\n",
      "sum 4510\n",
      "chiSquare Power_divergenceResult(statistic=32.829268292682926, pvalue=0.7462569949002829)\n"
     ]
    },
    {
     "data": {
      "image/png": "[encoded data removed]",
      "text/plain": [
       "<Figure size 432x288 with 1 Axes>"
      ]
     },
     "metadata": {
      "needs_background": "light"
     },
     "output_type": "display_data"
    }
   ],
   "source": [
    "from collections import Counter\n",
    "\n",
    "ids = list(map(lambda x:x[0],df_new_format[[\"scenarioId\"]].values.tolist()))\n",
    "\n",
    "print(len(ids))\n",
    "id_counter = Counter(ids)\n",
    "#df_new_format[[\"scenarioId\"]].apply(pd.value_counts).plot(kind='bar', subplots=True)\n",
    "#print(df_new_format.shape)\n",
    "#print(df_new_format.dtypes)\n",
    "\n",
    "df_counter = pd.DataFrame.from_dict(id_counter, orient='index')\n",
    "df_counter.plot(kind='bar')\n",
    "print(\"sum\", np.sum(list(id_counter.values())))\n",
    "from scipy.stats import chisquare\n",
    "import random\n",
    "rnd  = [random.randint(1, 20) for i in range(640)]\n",
    "\n",
    "print(\"chiSquare\", chisquare(list(id_counter.values())))\n",
    "\n"
   ]
  },
  {
   "cell_type": "code",
   "execution_count": 93,
   "metadata": {},
   "outputs": [
    {
     "name": "stdout",
     "output_type": "stream",
     "text": [
      "scenarioId                0\n",
      "isModified                0\n",
      "scenarioAction          134\n",
      "scenarioPerson          134\n",
      "age                     190\n",
      "gender                  190\n",
      "responseId                0\n",
      "acResponse              190\n",
      "originalFeatureValue      0\n",
      "modifiedFeatureValue      0\n",
      "isConditionalHigh         0\n",
      "dtype: int64\n",
      "scenarioId              0\n",
      "isModified              0\n",
      "scenarioAction          0\n",
      "scenarioPerson          0\n",
      "age                     0\n",
      "gender                  0\n",
      "responseId              0\n",
      "acResponse              0\n",
      "originalFeatureValue    0\n",
      "modifiedFeatureValue    0\n",
      "isConditionalHigh       0\n",
      "dtype: int64\n"
     ]
    }
   ],
   "source": [
    "#print(df_new_format['scenarioPerson'].value_counts())\n",
    "#print(df_new_format[\"originalFeatureValue\"].head(10))\n",
    "print(df_new_format.isna().sum())\n",
    "print(df_new_format.isin(['nan']).sum(axis=0))"
   ]
  },
  {
   "cell_type": "code",
   "execution_count": 94,
   "metadata": {},
   "outputs": [
    {
     "data": {
      "image/png": "[encoded data removed]",
      "text/plain": [
       "<Figure size 432x288 with 9 Axes>"
      ]
     },
     "metadata": {
      "needs_background": "light"
     },
     "output_type": "display_data"
    }
   ],
   "source": [
    "hist = df_new_format.hist(bins=30)"
   ]
  },
  {
   "cell_type": "markdown",
   "metadata": {},
   "source": []
  },
  {
   "cell_type": "markdown",
   "metadata": {},
   "source": [
    "# average and std"
   ]
  },
  {
   "cell_type": "code",
   "execution_count": 95,
   "metadata": {},
   "outputs": [
    {
     "name": "stdout",
     "output_type": "stream",
     "text": [
      "<IntegerArray>\n",
      "[1, -1]\n",
      "Length: 2, dtype: Int64\n"
     ]
    }
   ],
   "source": [
    "print(df_new_format['isConditionalHigh'].unique())\n"
   ]
  },
  {
   "cell_type": "code",
   "execution_count": 96,
   "metadata": {},
   "outputs": [
    {
     "name": "stdout",
     "output_type": "stream",
     "text": [
      "MODIFIED\n",
      "(1058, 11)        isModified  scenarioAction  scenarioPerson          age       gender  \\\n",
      "count      1058.0     1058.000000     1058.000000  1058.000000  1058.000000   \n",
      "mean          1.0        3.107750        3.056711    39.573724    -0.265595   \n",
      "std           0.0        1.851057        1.461132    12.945441     1.000647   \n",
      "min           1.0        1.000000        1.000000    14.000000    -1.000000   \n",
      "25%           1.0        1.000000        2.000000    30.000000    -1.000000   \n",
      "50%           1.0        3.000000        3.000000    37.000000    -1.000000   \n",
      "75%           1.0        5.000000        4.000000    47.000000     1.000000   \n",
      "max           1.0        7.000000        7.000000    81.000000     3.000000   \n",
      "\n",
      "       acResponse  originalFeatureValue  modifiedFeatureValue  \\\n",
      "count      1058.0           1058.000000           1058.000000   \n",
      "mean          1.0              7.698904              1.113516   \n",
      "std           0.0              4.434247              1.339418   \n",
      "min           1.0              0.000000              0.000000   \n",
      "25%           1.0              4.350000              0.320000   \n",
      "50%           1.0              8.050000              0.510000   \n",
      "75%           1.0             11.110000              1.840000   \n",
      "max           1.0             14.750000              4.670000   \n",
      "\n",
      "       isConditionalHigh  \n",
      "count             1058.0  \n",
      "mean                -1.0  \n",
      "std                  0.0  \n",
      "min                 -1.0  \n",
      "25%                 -1.0  \n",
      "50%                 -1.0  \n",
      "75%                 -1.0  \n",
      "max                 -1.0  \n",
      "UNMODIFIED\n",
      "(1055, 11)        isModified  scenarioAction  scenarioPerson          age       gender  \\\n",
      "count      1055.0     1055.000000     1055.000000  1055.000000  1055.000000   \n",
      "mean         -1.0        3.132701        3.116588    38.542180    -0.257820   \n",
      "std           0.0        1.894620        1.452166    12.560437     1.008443   \n",
      "min          -1.0        1.000000        1.000000    18.000000    -1.000000   \n",
      "25%          -1.0        1.000000        2.000000    29.000000    -1.000000   \n",
      "50%          -1.0        3.000000        3.000000    36.000000    -1.000000   \n",
      "75%          -1.0        5.000000        4.000000    46.000000     1.000000   \n",
      "max          -1.0        7.000000        7.000000    84.000000     3.000000   \n",
      "\n",
      "       acResponse  originalFeatureValue  modifiedFeatureValue  \\\n",
      "count      1055.0           1055.000000           1055.000000   \n",
      "mean          1.0              7.420123              1.087915   \n",
      "std           0.0              4.469913              1.307515   \n",
      "min           1.0              0.000000              0.000000   \n",
      "25%           1.0              3.520000              0.320000   \n",
      "50%           1.0              6.930000              0.510000   \n",
      "75%           1.0             11.110000              1.840000   \n",
      "max           1.0             14.750000              4.670000   \n",
      "\n",
      "       isConditionalHigh  \n",
      "count             1055.0  \n",
      "mean                -1.0  \n",
      "std                  0.0  \n",
      "min                 -1.0  \n",
      "25%                 -1.0  \n",
      "50%                 -1.0  \n",
      "75%                 -1.0  \n",
      "max                 -1.0  \n"
     ]
    }
   ],
   "source": [
    "#get average AHR for modified and unmodified\n",
    "df_analyzed= df_new_format.loc[df_new_format['acResponse'] == 1]\n",
    "\n",
    "#study 3\n",
    "df_analyzed= df_analyzed.loc[df_analyzed['isConditionalHigh'] == -1]\n",
    "\n",
    "df_modified = df_analyzed.loc[df_analyzed['isModified'] == 1]\n",
    "df_unmodified = df_analyzed.loc[df_analyzed['isModified'] == -1]\n",
    "print(\"MODIFIED\")\n",
    "print(df_modified.shape, df_modified.describe())\n",
    "print(\"UNMODIFIED\")\n",
    "print(df_unmodified.shape, df_unmodified.describe())"
   ]
  },
  {
   "cell_type": "code",
   "execution_count": 98,
   "metadata": {},
   "outputs": [
    {
     "name": "stdout",
     "output_type": "stream",
     "text": [
      "     scenarioId  isModified  scenarioAction  scenarioPerson  age  gender  \\\n",
      "1437     n2wjkt           1               2               4   36       1   \n",
      "1633     n2wjkt           1               1               3   38      -1   \n",
      "4266     n2wjkt           1               2               3   31      -1   \n",
      "1119     n2wjkt           1               4               4   65      -1   \n",
      "2630     n2wjkt           1               2               2   58       1   \n",
      "\n",
      "             responseId  acResponse  originalFeatureValue  \\\n",
      "1437  R_3MMYI1qa0vuLWMj           1                 21.15   \n",
      "1633  R_1n2guKtYnQbmmPN           1                 21.15   \n",
      "4266  R_1CJgtbIjIqBj4KM           1                 21.15   \n",
      "1119  R_3J7VdBBIFa9Zyf6           1                 21.15   \n",
      "2630  R_1CDblalHdtbw3PT           1                 21.15   \n",
      "\n",
      "      modifiedFeatureValue  isConditionalHigh  \n",
      "1437                  1.92                  1  \n",
      "1633                  1.92                  1  \n",
      "4266                  1.92                  1  \n",
      "1119                  1.92                  1  \n",
      "2630                  1.92                  1  \n",
      "     scenarioId  isModified  scenarioAction  scenarioPerson  age  gender  \\\n",
      "1401     bkd310          -1               5               5   26       1   \n",
      "3047     bkd310          -1               5               5   56      -1   \n",
      "4237     bkd310          -1               3               4   38       1   \n",
      "4230     bkd310          -1               2               3   34      -1   \n",
      "3784     bkd310          -1               2               2   36      -1   \n",
      "\n",
      "             responseId  acResponse  originalFeatureValue  \\\n",
      "1401  R_O2r0DgwwLWRmpoJ           1                  0.97   \n",
      "3047  R_242EAUVFfwD9ZPy           1                  0.97   \n",
      "4237  R_2qeHY0v4jCVrycQ           1                  0.97   \n",
      "4230  R_8vx79w9Dm5hlCpj           1                  0.97   \n",
      "3784  R_3dFmtFeLtZXilcH           1                  0.97   \n",
      "\n",
      "      modifiedFeatureValue  isConditionalHigh  \n",
      "1401                  5.81                  1  \n",
      "3047                  5.81                  1  \n",
      "4237                  5.81                  1  \n",
      "4230                  5.81                  1  \n",
      "3784                  5.81                  1  \n",
      "['n2wjkt', 'cjudzm', 'hql2q4', 'jncy5t', 'dn6075', 'bs5p6l', 'lol9kc', 'm46pif', 'ck5jvn', 'ehyyhk', 'ec7ciw', 'bt8iou', 'jpgxl6', 'ikxa0t', 'Ds0fwd', 'eq475l', 'hptojb', 'dhswh1', 'j0rubv', 'bkd310']\n",
      "['n2wjkt', 'cjudzm', 'hql2q4', 'jncy5t', 'dn6075', 'bs5p6l', 'lol9kc', 'm46pif', 'ck5jvn', 'ehyyhk']\n",
      "['ec7ciw', 'bt8iou', 'jpgxl6', 'ikxa0t', 'Ds0fwd', 'eq475l', 'hptojb', 'dhswh1', 'j0rubv', 'bkd310']\n"
     ]
    },
    {
     "data": {
      "image/png": "[encoded data removed]",
      "text/plain": [
       "<Figure size 720x360 with 1 Axes>"
      ]
     },
     "metadata": {
      "needs_background": "light"
     },
     "output_type": "display_data"
    }
   ],
   "source": [
    "import matplotlib.pyplot as plt\n",
    "df_analyzed= df_new_format.loc[df_new_format['acResponse'] == 1]\n",
    "\n",
    "df_analyzed= df_analyzed.loc[df_analyzed['isConditionalHigh'] == 1]#only for study 3\n",
    "\n",
    "df_modified = df_analyzed.loc[df_analyzed['isModified'] == 1].sort_values(by=['originalFeatureValue'], ascending=False)\n",
    "df_unmodified = df_analyzed.loc[df_analyzed['isModified'] == -1].sort_values(by=['modifiedFeatureValue'], ascending=False)\n",
    "\n",
    "print(df_modified.head(5))\n",
    "print(df_unmodified.head(5))\n",
    "\n",
    "modified_scenarioId_sorted = df_modified[\"scenarioId\"].unique().tolist()\n",
    "unmodified_scenarioId_sorted = df_unmodified[\"scenarioId\"].unique().tolist()\n",
    "\n",
    "if len(modified_scenarioId_sorted)!= 20:\n",
    "    raise Exception(\"not 20 modified scearios ids\", len(modified_scenarioId_sorted))\n",
    "\n",
    "if len(unmodified_scenarioId_sorted)!= 20:\n",
    "    raise Exception(\"not 20 modified scearios ids\", len(unmodified_scenarioId_sorted))\n",
    "\n",
    "print(modified_scenarioId_sorted)\n",
    "print(modified_scenarioId_sorted[:10])\n",
    "print(modified_scenarioId_sorted[-10:])\n",
    "\n",
    "df_mod_h = df_modified.loc[df_modified['scenarioId'].isin(modified_scenarioId_sorted[:10])]\n",
    "df_mod_l = df_modified.loc[df_modified['scenarioId'].isin(modified_scenarioId_sorted[-10:])]\n",
    "\n",
    "df_umod_h = df_unmodified.loc[df_unmodified['scenarioId'].isin(unmodified_scenarioId_sorted[:10])]\n",
    "df_umod_l = df_unmodified.loc[df_unmodified['scenarioId'].isin(unmodified_scenarioId_sorted[-10:])]\n",
    "\n",
    "\n",
    "# Numbers of pairs of bars you want\n",
    "N = 4\n",
    "# Data on X-axis\n",
    "\n",
    "# Specify the values of blue bars (height)\n",
    "low_feature = (df_umod_l[\"scenarioAction\"].mean(), df_umod_l[\"scenarioPerson\"].mean(),df_mod_l[\"scenarioAction\"].mean(), df_mod_l[\"scenarioPerson\"].mean())\n",
    "# Specify the values of orange bars (height)\n",
    "high_feature = (df_umod_h[\"scenarioAction\"].mean(), df_umod_h[\"scenarioPerson\"].mean(),df_mod_h[\"scenarioAction\"].mean(), df_mod_h[\"scenarioPerson\"].mean())\n",
    "\n",
    "# Position of bars on x-axis\n",
    "ind = np.arange(N)\n",
    "\n",
    "# Figure size\n",
    "plt.figure(figsize=(10,5))\n",
    "\n",
    "# Width of a bar \n",
    "width = 0.3       \n",
    "\n",
    "# Plotting\n",
    "plt.bar(ind, low_feature , width, label='Low FSPP Group')\n",
    "plt.bar(ind + width, high_feature, width, label='High FSPP Group')\n",
    "\n",
    "plt.ylabel('Mean judgment value')\n",
    "#plt.title('Comparison of average moral judgment of actions and person in the 10 highest and lowest LIWC Female posts for modified and unmodified posts.')\n",
    "\n",
    "# xticks()\n",
    "# First argument - A list of positions at which ticks should be placed\n",
    "# Second argument -  A list of labels to place at the given locations\n",
    "plt.xticks(ind + width / 2, ('Original Post, Actions', 'Original Post, Person', 'Modified Post, Actions', 'Modified Post, Person'))\n",
    "\n",
    "# Finding the best position for legends and putting it\n",
    "plt.legend(loc=(\"best\"))\n",
    "plt.show()"
   ]
  },
  {
   "cell_type": "code",
   "execution_count": 99,
   "metadata": {},
   "outputs": [
    {
     "name": "stdout",
     "output_type": "stream",
     "text": [
      "  scenarioId  isModified  scenarioAction  scenarioPerson  age  gender  \\\n",
      "0     hptojb           1               5               4   39      -1   \n",
      "1     hptojb           1               4               4   51       1   \n",
      "2     hptojb           1               6               4   67       1   \n",
      "3     hptojb          -1               7               4   56      -1   \n",
      "4     hptojb          -1               7               5   43       1   \n",
      "5     hptojb          -1               6               4   22       1   \n",
      "6     hptojb           1               2               2   31       1   \n",
      "7     hptojb          -1               4               3   35      -1   \n",
      "8     hptojb          -1               2               2   32      -1   \n",
      "9     hptojb           1               2               3   30       2   \n",
      "\n",
      "          responseId  acResponse  originalFeatureValue  modifiedFeatureValue  \\\n",
      "0  R_SNJEYE2fFbkLwo9           1                  3.28                   0.0   \n",
      "1  R_Y0vxsHUnnM6OFwd           1                  3.28                   0.0   \n",
      "2  R_2qmIc2SGcUqytfq           1                  3.28                   0.0   \n",
      "3  R_2PpawYLp6k55LUm           1                  3.28                   0.0   \n",
      "4  R_1PRFD3QCEr3tDK7           1                  3.28                   0.0   \n",
      "5  R_3nwwm1X8ZMaAd11           1                  3.28                   0.0   \n",
      "6  R_5oLKt2j9sDto2s1           1                  3.28                   0.0   \n",
      "7  R_1FhQLxE22ax8lkw           2                  3.28                   0.0   \n",
      "8  R_RlwtudMUFA7auFX           1                  3.28                   0.0   \n",
      "9  R_1puJvIzcQPP2NkW           1                  3.28                   0.0   \n",
      "\n",
      "   isConditionalHigh  topic_nr  \n",
      "0                  1         4  \n",
      "1                  1         4  \n",
      "2                  1         4  \n",
      "3                  1         4  \n",
      "4                  1         4  \n",
      "5                  1         4  \n",
      "6                  1         4  \n",
      "7                  1         4  \n",
      "8                  1         4  \n",
      "9                  1         4  \n"
     ]
    }
   ],
   "source": [
    "#merge with topic ids:\n",
    "id_to_topics = pd.read_csv(\"../datasets/id_to_topics.csv\")\n",
    "df_new_format = df_new_format.merge(id_to_topics, left_on=\"scenarioId\", right_on=\"post_id\", suffixes=('', '_DROP')).filter(regex='^(?!.*_DROP)')\n",
    "df_new_format=df_new_format.drop(columns=['post_id'])\n",
    "print(df_new_format.head(10))\n",
    "df_new_format.to_excel(pathDict[experiment][\"rsp\"]+\"-transformed_final.xlsx\", index=False)"
   ]
  },
  {
   "cell_type": "code",
   "execution_count": null,
   "metadata": {},
   "outputs": [],
   "source": [
    "df_new = df_new_format.dropna(axis='rows')\n",
    "\n",
    "id_dict = {}\n",
    "for index, row in df_new.iterrows():\n",
    "    id = row[\"scenarioId\"]\n",
    "    jdgAction = row[\"scenarioAction\"]\n",
    "    jdgPerson = row[\"scenarioPerson\"]\n",
    "    \n",
    "    isMod = row[\"isModified\"]\n",
    "    if id in id_dict:\n",
    "        tmp = id_dict[id]\n",
    "        tmp[\"action\"+str(isMod)].append(jdgAction)\n",
    "        tmp[\"person\"+str(isMod)].append(jdgPerson)\n",
    "        id_dict[id] = tmp\n",
    "    else:\n",
    "        tmp = {}\n",
    "        if isMod > 0:\n",
    "            tmp[\"action-1\"] = []\n",
    "            tmp[\"person-1\"] = []\n",
    "            tmp[\"action1\"] = [jdgAction]\n",
    "            tmp[\"person1\"] = [jdgPerson]\n",
    "        else: \n",
    "            tmp[\"action1\"] = []\n",
    "            tmp[\"person1\"] = []\n",
    "            tmp[\"action-1\"] = [jdgAction]\n",
    "            tmp[\"person-1\"] = [jdgPerson]\n",
    "        id_dict[id] = tmp\n"
   ]
  },
  {
   "cell_type": "code",
   "execution_count": null,
   "metadata": {},
   "outputs": [
    {
     "name": "stdout",
     "output_type": "stream",
     "text": [
      "(20, 8)\n"
     ]
    }
   ],
   "source": [
    "import statistics\n",
    "data = []\n",
    "for index, row in liwc_vals.iterrows():\n",
    "    AHR_orig = row[\"AHR original actual\"]\n",
    "    my_mine_orig = row[\"my_mine_orig\"]\n",
    "    my_mine_modified = row[\"my_mine_mod\"]\n",
    "    id = row[\"post_id\"]\n",
    "    actionModified = statistics.mean(id_dict[id][\"action1\"])\n",
    "    personModified = statistics.mean(id_dict[id][\"person1\"])\n",
    "    actionOrig = statistics.mean(id_dict[id][\"action-1\"])\n",
    "    personOrig = statistics.mean(id_dict[id][\"person-1\"])\n",
    "    tmp_row =[id, AHR_orig, my_mine_orig, actionOrig, personOrig, my_mine_modified, actionModified, personModified]\n",
    "    tmp_row_np = np.array(list(map(lambda x:str(x), tmp_row)))\n",
    "    data.append(tmp_row_np)\n",
    "\n",
    "np_data = np.array(data,dtype=object)\n",
    "print(np_data.shape)\n",
    "\n",
    "df_dunno = pd.DataFrame(np_data,\n",
    "                   columns=['post_id', 'asshole_ratio_original', 'my_mine_original', \"action_avg_original\", \"person_avg_original\", \"my_mine_modified\",\"action_avg_modified\", \"person_avg_modified\"])\n",
    "\n",
    "df_dunno.to_excel(\"my_mine_transformed_final.xlsx\",index=False)"
   ]
  },
  {
   "cell_type": "code",
   "execution_count": null,
   "metadata": {},
   "outputs": [],
   "source": []
  }
 ],
 "metadata": {
  "interpreter": {
   "hash": "916dbcbb3f70747c44a77c7bcd40155683ae19c65e1c03b4aa3499c5328201f1"
  },
  "kernelspec": {
   "display_name": "Python 3.8.10 64-bit",
   "language": "python",
   "name": "python3"
  },
  "language_info": {
   "codemirror_mode": {
    "name": "ipython",
    "version": 3
   },
   "file_extension": ".py",
   "mimetype": "text/x-python",
   "name": "python",
   "nbconvert_exporter": "python",
   "pygments_lexer": "ipython3",
   "version": "3.8.10"
  },
  "orig_nbformat": 4
 },
 "nbformat": 4,
 "nbformat_minor": 2
}
