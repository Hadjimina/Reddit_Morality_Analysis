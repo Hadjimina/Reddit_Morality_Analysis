{
 "cells": [
  {
   "cell_type": "code",
   "execution_count": 1,
   "metadata": {},
   "outputs": [
    {
     "name": "stdout",
     "output_type": "stream",
     "text": [
      "Index(['post_id', 'liwc_female orig', 'AHR original predict',\n",
      "       'AHR original actual', 'AHR modified predict', 'liwc_female mod',\n",
      "       'conditional_feature_value', 'notes'],\n",
      "      dtype='object')\n",
      "Index(['StartDate', 'EndDate', 'Status', 'IPAddress', 'Progress',\n",
      "       'Duration (in seconds)', 'Finished', 'RecordedDate', 'ResponseId',\n",
      "       'RecipientLastName', 'RecipientFirstName', 'RecipientEmail',\n",
      "       'ExternalReference', 'LocationLatitude', 'LocationLongitude',\n",
      "       'DistributionChannel', 'UserLanguage', 'heartatk', 'consent',\n",
      "       'scenario_1_action', 'scenario_1_person', 's1t_First Click',\n",
      "       's1t_Last Click', 's1t_Page Submit', 's1t_Click Count',\n",
      "       'scenario_2_action', 'scenario_2_person', 's2t_First Click',\n",
      "       's2t_Last Click', 's2t_Page Submit', 's2t_Click Count',\n",
      "       'scenario_3_action', 'scenario_3_person', 's3t_First Click',\n",
      "       's3t_Last Click', 's3t_Page Submit', 's3t_Click Count',\n",
      "       'scenario_4_action', 'scenario_4_person', 's4t_First Click',\n",
      "       's4t_Last Click', 's4t_Page Submit', 's4t_Click Count',\n",
      "       'scenario_5_action', 'scenario_5_person', 's5t_First Click',\n",
      "       's5t_Last Click', 's5t_Page Submit', 's5t_Click Count', 'AC', 'gender',\n",
      "       'age', 'Q16', 'q_1_id', 'q_2_id', 'q_3_id', 'q_4_id', 'q_5_id',\n",
      "       'q_1_text', 'q_2_text', 'q_3_text', 'q_4_text', 'q_5_text',\n",
      "       'q_1_is_modified', 'q_2_is_modified', 'q_3_is_modified',\n",
      "       'q_4_is_modified', 'q_5_is_modified', 'surveycode', 'q_1_is_would',\n",
      "       'q_2_is_would', 'q_3_is_would', 'q_4_is_would', 'q_5_is_would'],\n",
      "      dtype='object')\n"
     ]
    }
   ],
   "source": [
    "import pandas as pd\n",
    "import numpy as np\n",
    "\n",
    "pathDict = {\n",
    "    \"femaleV1\":{\"rsp\":\"liwc_female_responses\", \"vals\":\"liwc_female_orig_mod_vals\", \"mod_feat\":\"liwc_femal_mod\", \"orig_feat\":\"liwc_femal_orig\"},\n",
    "    \"femaleV2\":{\"rsp\":\"liwc_female_v2_responses\", \"vals\":\"liwc_female_orig_mod_vals\", \"mod_feat\":\"liwc_femal_mod\", \"orig_feat\":\"liwc_femal_orig\"},\n",
    "    \"my_mine\":{\"rsp\":\"my_mine_responses_v2\", \"vals\":\"my_mine_orig_mod_vals\", \"mod_feat\":\"my_mine_mod\", \"orig_feat\":\"my_mine_orig\"},\n",
    "    \"cond\":{\"rsp\":\"dummy\", \"vals\":\"cond_orig_mod_vals\", \"mod_feat\":\"liwc_female mod\", \"orig_feat\":\"liwc_female orig\"},\n",
    "}\n",
    "experiment = \"cond\"\n",
    "responses = pd.read_csv(\"../datasets/\"+pathDict[experiment][\"rsp\"]+\".csv\") #Options: \"liwc_female_responses.csv\", \"liwc_female_v2_responses.csv\"\n",
    "liwc_vals = pd.read_csv(\"../datasets/\"+pathDict[experiment][\"vals\"]+\".csv\") #Options: \"liwc_female_orig_mod_vals.csv\", \"my_mine_orig_mod_vals.csv\"\n",
    "print(liwc_vals.columns)\n",
    "print(responses.columns)"
   ]
  },
  {
   "cell_type": "code",
   "execution_count": 2,
   "metadata": {},
   "outputs": [
    {
     "name": "stdout",
     "output_type": "stream",
     "text": [
      "(35, 74)\n"
     ]
    }
   ],
   "source": [
    "print(responses.shape)\n"
   ]
  },
  {
   "cell_type": "code",
   "execution_count": 3,
   "metadata": {},
   "outputs": [
    {
     "name": "stdout",
     "output_type": "stream",
     "text": [
      "1                                                                 32\n",
      "In this task, you read five passages that all dealt with what?     1\n",
      "{\"ImportId\":\"QID73\"}                                               1\n",
      "3                                                                  1\n",
      "Name: AC, dtype: int64\n",
      "16\n"
     ]
    }
   ],
   "source": [
    "print(responses['AC'].value_counts())\n",
    "print(responses['q_3_is_modified'].isna().sum())\n"
   ]
  },
  {
   "cell_type": "code",
   "execution_count": 4,
   "metadata": {},
   "outputs": [
    {
     "name": "stdout",
     "output_type": "stream",
     "text": [
      "(33, 74)\n",
      "{1: {'action': 46, 'person': 44}, 2: {'action': 39, 'person': 36}, 3: {'action': 39, 'person': 36}, 4: {'action': 39, 'person': 37}, 5: {'action': 39, 'person': 37}}\n",
      "{1: {'action': 40, 'person': 38}, 2: {'action': 33, 'person': 31}, 3: {'action': 33, 'person': 31}, 4: {'action': 33, 'person': 31}, 5: {'action': 33, 'person': 31}}\n"
     ]
    }
   ],
   "source": [
    "df = responses.loc[(responses[\"heartatk\"] ==\"4\")& (responses[\"consent\"] ==\"1\")]\n",
    "\n",
    "df_fil = df.dropna(subset=[\"scenario_1_action\", \"scenario_2_action\", \"scenario_3_action\", \"scenario_4_action\", \"scenario_5_action\"])\n",
    "df_fil = df_fil.dropna(subset=[\"scenario_1_person\", \"scenario_2_person\", \"scenario_3_person\", \"scenario_4_person\", \"scenario_5_person\"])\n",
    "df_fil = df_fil.dropna(subset=[\"q_1_id\", \"q_2_id\", \"q_3_id\", \"q_4_id\", \"q_5_id\"])\n",
    "print(df.shape)\n",
    "colMax = {1: {\"action\":df_fil[\"scenario_1_action\"].astype(\"int\").max(), \"person\":df_fil[\"scenario_1_person\"].astype(\"int\").max()}, 2: {\"action\":df_fil[\"scenario_2_action\"].astype(\"int\").max(), \"person\":df_fil[\"scenario_2_person\"].astype(\"int\").max()}, 3: {\"action\":df_fil[\"scenario_3_action\"].astype(\"int\").max(), \"person\":df_fil[\"scenario_3_person\"].astype(\"int\").max()}, 4: {\"action\":df_fil[\"scenario_4_action\"].astype(\"int\").max(), \"person\":df_fil[\"scenario_4_person\"].astype(\"int\").max()}, 5: {\"action\":df_fil[\"scenario_5_action\"].astype(\"int\").max(), \"person\":df_fil[\"scenario_5_person\"].astype(\"int\").max()}, }\n",
    "colMin = {1: {\"action\":df_fil[\"scenario_1_action\"].astype(\"int\").min(), \"person\":df_fil[\"scenario_1_person\"].astype(\"int\").min()}, 2: {\"action\":df_fil[\"scenario_2_action\"].astype(\"int\").min(), \"person\":df_fil[\"scenario_2_person\"].astype(\"int\").min()}, 3: {\"action\":df_fil[\"scenario_3_action\"].astype(\"int\").min(), \"person\":df_fil[\"scenario_3_person\"].astype(\"int\").min()}, 4: {\"action\":df_fil[\"scenario_4_action\"].astype(\"int\").min(), \"person\":df_fil[\"scenario_4_person\"].astype(\"int\").min()}, 5: {\"action\":df_fil[\"scenario_5_action\"].astype(\"int\").min(), \"person\":df_fil[\"scenario_5_person\"].astype(\"int\").min()}, }\n",
    "print(colMax)\n",
    "print(colMin)"
   ]
  },
  {
   "cell_type": "code",
   "execution_count": 5,
   "metadata": {},
   "outputs": [
    {
     "name": "stdout",
     "output_type": "stream",
     "text": [
      "42    11\n",
      "40     6\n",
      "45     5\n",
      "43     4\n",
      "44     3\n",
      "41     3\n",
      "46     1\n",
      "Name: scenario_1_action, dtype: int64\n",
      "(33, 74)\n"
     ]
    }
   ],
   "source": [
    "print(df['scenario_1_action'].value_counts())\n",
    "print(df.shape)"
   ]
  },
  {
   "cell_type": "code",
   "execution_count": 6,
   "metadata": {},
   "outputs": [
    {
     "name": "stdout",
     "output_type": "stream",
     "text": [
      "NAN values: 0\n",
      "TRANSFORMED OUTPUT STILL CONTAINS ATTENTION CHECK\n"
     ]
    }
   ],
   "source": [
    "import math\n",
    "csv_col_modified = pathDict[experiment][\"mod_feat\"] \n",
    "csv_col_orig = pathDict[experiment][\"orig_feat\"]  \n",
    "\n",
    "def is_float(element) -> bool:\n",
    "    try:\n",
    "        float(element)\n",
    "        return True\n",
    "    except ValueError:\n",
    "        return False\n",
    "\n",
    "def recodeValues(columnIdx, isAction, value):\n",
    "    if str(value).strip().lower()==\"nan\":\n",
    "        return None\n",
    "    value = int(value)\n",
    "    return value - colMin[columnIdx][\"action\" if isAction else \"person\"] +1\n",
    "    \n",
    "def getLiwcVals(type, id):\n",
    "    col = csv_col_orig if type == \"orig\" else csv_col_modified\n",
    "    #print(id)\n",
    "    to_ret =liwc_vals.loc[liwc_vals[\"post_id\"]==id][col].item()\n",
    "    return float(to_ret)\n",
    "    \n",
    "new_format =[]\n",
    "# New format is: id, is_modified, answer_action,answer_person\n",
    "badEntryCounter=0\n",
    "for index, row in df.iterrows():\n",
    "    if \"2022-08-01\" in row[\"StartDate\"]:\n",
    "        continue\n",
    "        print(row[\"StartDate\"])\n",
    "    dmy = str(row[\"gender\"]).strip().lower()\n",
    "    gender = None\n",
    "    if dmy == \"4\":\n",
    "        gender =1\n",
    "    elif dmy==\"5\":\n",
    "        gender = -1\n",
    "    elif dmy==\"6\":\n",
    "        gender = 2\n",
    "    elif dmy==\"7\":\n",
    "        gender=3\n",
    "    else:\n",
    "        badEntryCounter+=1\n",
    "\n",
    "    for i in range(1,6):\n",
    "        r_id = row[f\"q_{i}_id\"]\n",
    "        #print(type(r_id))\n",
    "        if  (is_float(r_id) and math.isnan(r_id)) or (r_id.isnumeric() and math.isnan(int(r_id))):\n",
    "            badEntryCounter+=1\n",
    "            #not sure if bad entry counter is correct or should be diveded by 4\n",
    "            continue\n",
    "       \n",
    "        r_isMod = 1 if row[f\"q_{i}_is_modified\"] == \"true\" else -1\n",
    "        r_action =  recodeValues(i, True, row[f\"scenario_{i}_action\"])\n",
    "        r_person = recodeValues(i, False, row[f\"scenario_{i}_person\"])\n",
    "        r_age = None if str(row[\"age\"]).strip().lower() == \"nan\" else int(math.floor(float(row[\"age\"]))) if \".\" in row[\"age\"] else int(row[\"age\"])\n",
    "        r_gender = gender\n",
    "        r_responseId = row[\"ResponseId\"]\n",
    "        r_ac = row[\"AC\"]\n",
    "\n",
    "        #print(r_id)\n",
    "        if \"IMTA for getting a cat\" in r_id:\n",
    "            r_id = \"k5kh4d\"\n",
    "        r_liwcOrig = getLiwcVals(\"orig\", r_id)\n",
    "        r_liwcMod = getLiwcVals(\"modified\", r_id)\n",
    "        cond_low = [\"k5n8gp\",\"ayuhfj\",\"d7rqv7\",\"da5lf4\",\"d8tktt\",\"di121p\",\"e6gioh\",\"kbfqn0\",\"d7bwco\",\"lflkbi\",\"ghb1qd\",\"dq7o60\",\"c16a49\",\"azhjxy\",\"b6ex3u\",\"bt96e5\",\"jmyghg\",\"acx62a\",\"cwd2sm\",\"d11pwp\"]\n",
    "        cond_high=[\"d2z9tl\",\"j0rubv\",\"dhswh1\",\"hptojb\",\"eq475l\",\"Ds0fwd\",\"ikxa0t\",\"jpgxl6\",\"bt8iou\",\"ec7ciw\",\"ehyyhk\",\"ck5jvn\",\"m46pif\",\"lol9kc\",\"bs5p6l\",\"dn6075\",\"jncy5t\",\"hql2q4\",\"cjudzm\",\"n2wjkt\"]\n",
    "        r_is_cond_high = 1 if r_id in cond_high else -1\n",
    "        r_i = [r_id, r_isMod, r_action, r_person, r_age, r_gender, r_responseId, r_ac, r_liwcOrig, r_liwcMod, r_is_cond_high ]\n",
    "        new_format.append(r_i)\n",
    "\n",
    "\n",
    "print(\"NAN values:\",badEntryCounter)\n",
    "df_new_format = pd.DataFrame(np.array(new_format), columns=['scenarioId', 'isModified', 'scenarioAction', 'scenarioPerson', \"age\", \"gender\", \"responseId\", \"acResponse\", \"originalFeatureValue\", \"modifiedFeatureValue\", \"isConditionalHigh\"], )\n",
    "df_new_format[\"isModified\"] = df_new_format[\"isModified\"].astype(\"float\").astype(\"Int64\")\n",
    "df_new_format[\"scenarioAction\"] = df_new_format[\"scenarioAction\"].astype(\"float\").astype(\"Int64\")\n",
    "df_new_format[\"scenarioPerson\"] = df_new_format[\"scenarioPerson\"].astype(\"float\").astype(\"Int64\")\n",
    "df_new_format[\"gender\"] = df_new_format[\"gender\"].astype(\"float\").astype(\"Int64\")\n",
    "df_new_format[\"age\"] = df_new_format[\"age\"].astype(\"float\").astype(\"Int64\")\n",
    "df_new_format[\"originalFeatureValue\"] = df_new_format[\"originalFeatureValue\"].astype(\"float\").astype(\"Float64\")\n",
    "df_new_format[\"modifiedFeatureValue\"] = df_new_format[\"modifiedFeatureValue\"].astype(\"float\").astype(\"Float64\")\n",
    "df_new_format[\"isConditionalHigh\"] = df_new_format[\"isConditionalHigh\"].astype(\"float\").astype(\"Int64\")\n",
    "\n",
    "\n",
    "\n",
    "print(\"TRANSFORMED OUTPUT STILL CONTAINS ATTENTION CHECK\")"
   ]
  },
  {
   "cell_type": "code",
   "execution_count": 9,
   "metadata": {},
   "outputs": [
    {
     "name": "stdout",
     "output_type": "stream",
     "text": [
      "165\n",
      "        0\n",
      "hptojb  7\n",
      "dq7o60  7\n",
      "ec7ciw  4\n",
      "ayuhfj  4\n",
      "d11pwp  5\n",
      "azhjxy  4\n",
      "di121p  3\n",
      "eq475l  4\n",
      "kbfqn0  4\n",
      "bt96e5  4\n",
      "cwd2sm  4\n",
      "ghb1qd  5\n",
      "d7rqv7  4\n",
      "bs5p6l  4\n",
      "ck5jvn  9\n",
      "d8tktt  5\n",
      "hql2q4  6\n",
      "d7bwco  4\n",
      "m46pif  4\n",
      "e6gioh  5\n",
      "jpgxl6  3\n",
      "ikxa0t  5\n",
      "lflkbi  5\n",
      "bt8iou  3\n",
      "Ds0fwd  3\n",
      "jmyghg  4\n",
      "lol9kc  5\n",
      "dn6075  5\n",
      "c16a49  1\n",
      "da5lf4  5\n",
      "bkd310  2\n",
      "k5n8gp  6\n",
      "cjudzm  2\n",
      "jncy5t  4\n",
      "ehyyhk  5\n",
      "b6ex3u  4\n",
      "dhswh1  2\n",
      "j0rubv  3\n",
      "n2wjkt  2\n",
      "sum 165\n",
      "chiSquare Power_divergenceResult(statistic=21.018181818181812, pvalue=0.9883944867848904)\n"
     ]
    },
    {
     "data": {
      "image/png": "[encoded data removed]",
      "text/plain": [
       "<Figure size 432x288 with 1 Axes>"
      ]
     },
     "metadata": {
      "needs_background": "light"
     },
     "output_type": "display_data"
    }
   ],
   "source": [
    "from collections import Counter\n",
    "\n",
    "ids = list(map(lambda x:x[0],df_new_format[[\"scenarioId\"]].values.tolist()))\n",
    "\n",
    "print(len(ids))\n",
    "id_counter = Counter(ids)\n",
    "#df_new_format[[\"scenarioId\"]].apply(pd.value_counts).plot(kind='bar', subplots=True)\n",
    "#print(df_new_format.shape)\n",
    "#print(df_new_format.dtypes)\n",
    "\n",
    "df_counter = pd.DataFrame.from_dict(id_counter, orient='index')\n",
    "df_counter.plot(kind='bar')\n",
    "print(\"sum\", np.sum(list(id_counter.values())))\n",
    "from scipy.stats import chisquare\n",
    "import random\n",
    "rnd  = [random.randint(1, 20) for i in range(640)]\n",
    "\n",
    "print(\"chiSquare\", chisquare(list(id_counter.values())))\n",
    "\n"
   ]
  },
  {
   "cell_type": "code",
   "execution_count": 9,
   "metadata": {},
   "outputs": [
    {
     "name": "stdout",
     "output_type": "stream",
     "text": [
      "scenarioId              0\n",
      "isModified              0\n",
      "scenarioAction          3\n",
      "scenarioPerson          3\n",
      "age                     5\n",
      "gender                  5\n",
      "responseId              0\n",
      "acResponse              5\n",
      "originalFeatureValue    0\n",
      "modifiedFeatureValue    0\n",
      "isConditionalHigh       0\n",
      "dtype: int64\n",
      "scenarioId              0\n",
      "isModified              0\n",
      "scenarioAction          0\n",
      "scenarioPerson          0\n",
      "age                     0\n",
      "gender                  0\n",
      "responseId              0\n",
      "acResponse              0\n",
      "originalFeatureValue    0\n",
      "modifiedFeatureValue    0\n",
      "isConditionalHigh       0\n",
      "dtype: int64\n"
     ]
    }
   ],
   "source": [
    "#print(df_new_format['scenarioPerson'].value_counts())\n",
    "#print(df_new_format[\"originalFeatureValue\"].head(10))\n",
    "print(df_new_format.isna().sum())\n",
    "print(df_new_format.isin(['nan']).sum(axis=0))"
   ]
  },
  {
   "cell_type": "code",
   "execution_count": 8,
   "metadata": {},
   "outputs": [
    {
     "ename": "NameError",
     "evalue": "name 'df_new_format' is not defined",
     "output_type": "error",
     "traceback": [
      "\u001b[0;31m---------------------------------------------------------------------------\u001b[0m",
      "\u001b[0;31mNameError\u001b[0m                                 Traceback (most recent call last)",
      "\u001b[1;32m/home/philipp/Documents/Coding/Reddit_Morality_Analysis/feature_analysis/Jupiter Notebooks/Qualtrics_response_transformation.ipynb Cell 9\u001b[0m in \u001b[0;36m<module>\u001b[0;34m\u001b[0m\n\u001b[0;32m----> <a href='vscode-notebook-cell://wsl%2Bubuntu-20.04/home/philipp/Documents/Coding/Reddit_Morality_Analysis/feature_analysis/Jupiter%20Notebooks/Qualtrics_response_transformation.ipynb#ch0000008vscode-remote?line=0'>1</a>\u001b[0m hist \u001b[39m=\u001b[39m df_new_format\u001b[39m.\u001b[39mhist(bins\u001b[39m=\u001b[39m\u001b[39m30\u001b[39m)\n",
      "\u001b[0;31mNameError\u001b[0m: name 'df_new_format' is not defined"
     ]
    }
   ],
   "source": [
    "hist = df_new_format.hist(bins=30)"
   ]
  },
  {
   "cell_type": "code",
   "execution_count": 26,
   "metadata": {},
   "outputs": [],
   "source": [
    "df_new_format.to_excel(pathDict[experiment][\"rsp\"]+\"-transformed_final.xlsx\", index=False)"
   ]
  },
  {
   "cell_type": "code",
   "execution_count": 24,
   "metadata": {},
   "outputs": [],
   "source": [
    "df_new = df_new_format.dropna(axis='rows')\n",
    "\n",
    "id_dict = {}\n",
    "for index, row in df_new.iterrows():\n",
    "    id = row[\"scenarioId\"]\n",
    "    jdgAction = row[\"scenarioAction\"]\n",
    "    jdgPerson = row[\"scenarioPerson\"]\n",
    "    \n",
    "    isMod = row[\"isModified\"]\n",
    "    if id in id_dict:\n",
    "        tmp = id_dict[id]\n",
    "        tmp[\"action\"+str(isMod)].append(jdgAction)\n",
    "        tmp[\"person\"+str(isMod)].append(jdgPerson)\n",
    "        id_dict[id] = tmp\n",
    "    else:\n",
    "        tmp = {}\n",
    "        if isMod > 0:\n",
    "            tmp[\"action-1\"] = []\n",
    "            tmp[\"person-1\"] = []\n",
    "            tmp[\"action1\"] = [jdgAction]\n",
    "            tmp[\"person1\"] = [jdgPerson]\n",
    "        else: \n",
    "            tmp[\"action1\"] = []\n",
    "            tmp[\"person1\"] = []\n",
    "            tmp[\"action-1\"] = [jdgAction]\n",
    "            tmp[\"person-1\"] = [jdgPerson]\n",
    "        id_dict[id] = tmp\n"
   ]
  },
  {
   "cell_type": "code",
   "execution_count": 25,
   "metadata": {},
   "outputs": [
    {
     "name": "stdout",
     "output_type": "stream",
     "text": [
      "(20, 8)\n"
     ]
    }
   ],
   "source": [
    "import statistics\n",
    "data = []\n",
    "for index, row in liwc_vals.iterrows():\n",
    "    AHR_orig = row[\"AHR original actual\"]\n",
    "    my_mine_orig = row[\"my_mine_orig\"]\n",
    "    my_mine_modified = row[\"my_mine_mod\"]\n",
    "    id = row[\"post_id\"]\n",
    "    actionModified = statistics.mean(id_dict[id][\"action1\"])\n",
    "    personModified = statistics.mean(id_dict[id][\"person1\"])\n",
    "    actionOrig = statistics.mean(id_dict[id][\"action-1\"])\n",
    "    personOrig = statistics.mean(id_dict[id][\"person-1\"])\n",
    "    tmp_row =[id, AHR_orig, my_mine_orig, actionOrig, personOrig, my_mine_modified, actionModified, personModified]\n",
    "    tmp_row_np = np.array(list(map(lambda x:str(x), tmp_row)))\n",
    "    data.append(tmp_row_np)\n",
    "\n",
    "np_data = np.array(data,dtype=object)\n",
    "print(np_data.shape)\n",
    "\n",
    "df_dunno = pd.DataFrame(np_data,\n",
    "                   columns=['post_id', 'asshole_ratio_original', 'my_mine_original', \"action_avg_original\", \"person_avg_original\", \"my_mine_modified\",\"action_avg_modified\", \"person_avg_modified\"])\n",
    "\n",
    "df_dunno.to_excel(\"my_mine_transformed_final.xlsx\",index=False)"
   ]
  },
  {
   "cell_type": "code",
   "execution_count": null,
   "metadata": {},
   "outputs": [],
   "source": []
  }
 ],
 "metadata": {
  "interpreter": {
   "hash": "916dbcbb3f70747c44a77c7bcd40155683ae19c65e1c03b4aa3499c5328201f1"
  },
  "kernelspec": {
   "display_name": "Python 3.8.10 64-bit",
   "language": "python",
   "name": "python3"
  },
  "language_info": {
   "codemirror_mode": {
    "name": "ipython",
    "version": 3
   },
   "file_extension": ".py",
   "mimetype": "text/x-python",
   "name": "python",
   "nbconvert_exporter": "python",
   "pygments_lexer": "ipython3",
   "version": "3.8.10"
  },
  "orig_nbformat": 4
 },
 "nbformat": 4,
 "nbformat_minor": 2
}
