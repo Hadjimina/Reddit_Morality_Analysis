{
 "cells": [
  {
   "cell_type": "code",
   "execution_count": 1,
   "metadata": {},
   "outputs": [
    {
     "name": "stdout",
     "output_type": "stream",
     "text": [
      "(618203, 11)\n",
      "0.5 0.5\n",
      "(30857, 16)\n"
     ]
    },
    {
     "data": {
      "image/png": "[encoded data removed]",
      "text/plain": [
       "<Figure size 432x288 with 1 Axes>"
      ]
     },
     "metadata": {
      "needs_background": "light"
     },
     "output_type": "display_data"
    },
    {
     "data": {
      "image/png": "[encoded data removed]",
      "text/plain": [
       "<Figure size 432x288 with 1 Axes>"
      ]
     },
     "metadata": {
      "needs_background": "light"
     },
     "output_type": "display_data"
    }
   ],
   "source": [
    "import pandas as pd\n",
    "import numpy as np\n",
    "\n",
    "\n",
    "def opposite_jdgmt(judg):\n",
    "    if \"NTA\" in judg:\n",
    "        rtn = judg.replace(\"NTA\", \"YTA\")\n",
    "    elif \"NAH\" in judg:\n",
    "        rtn = judg.replace(\"NAH\", \"ESH\")\n",
    "    elif \"YTA\" in judg:\n",
    "        rtn = judg.replace(\"YTA\", \"NTA\")\n",
    "    elif \"ESH\" in judg:\n",
    "        rtn = judg.replace(\"ESH\", \"NAH\")\n",
    "    elif \"INFO\" in judg:\n",
    "        rtn = judg\n",
    "\n",
    "    return rtn+\"_neg_vals\"\n",
    "\n",
    "# mapping is either \"clip\", meaning negative votes are just set to 0, or \"oppossite\", meaning we use the mapping table in \"opposite_jdgmt\"\n",
    "def map_negative_values(df, acros, mapping=\"clip\"):\n",
    "\n",
    "    if mapping == \"opposite\" or mapping == \"map\":\n",
    "        #print(\"Map = opposite\")\n",
    "        for k in acros.keys():\n",
    "            acr = acros[k]\n",
    "\n",
    "            if k == \"info\":\n",
    "                continue\n",
    "\n",
    "            # create temporary columns containing zeros and only negative votes for each vote type (except info)\n",
    "            df[acr+\"_neg_vals\"] = 0\n",
    "            df.loc[df[acr] < 0, acr+\"_neg_vals\"] = df[acr]*-1\n",
    "            df.loc[df[acr] < 0, acr] = 0\n",
    "\n",
    "        for k in acros.keys():\n",
    "            if k == \"info\":\n",
    "                continue\n",
    "            acr = acros[k]\n",
    "            # set negative values to 0 & add opposite judgement vote\n",
    "            df[acr] = df[acr] + df[opposite_jdgmt(acr)]\n",
    "\n",
    "    elif mapping == \"clip\":\n",
    "        #print(\"Map = clip\")\n",
    "        for k in acros.keys():\n",
    "            acr = acros[k]\n",
    "            df.loc[df[acr] < 0, acr] = 0\n",
    "\n",
    "    return df\n",
    "\n",
    "def get_correct_posts(post_requirements, df, doFilter=True):\n",
    "    params = {\n",
    "        \"predict\": \"ratio\",\n",
    "        \"weighted\": True,\n",
    "        \"mapping\": \"map\"\n",
    "    }\n",
    "\n",
    "    params[\"ratio\"] = 0.5 if params[\"predict\"] == \"ratio\" else 0.3\n",
    "    \n",
    "    ratio = params[\"ratio\"]\n",
    "    print(1-ratio,ratio)\n",
    "    keys = [\"info\", \"yta\", \"nah\", \"esh\", \"nta\"]\n",
    "    weight = \"weighted_\" if params[\"weighted\"] else \"\"\n",
    "    values = [\"reactions_\"+weight+k.upper() for k in keys]\n",
    "    acros = dict(zip(keys, values))\n",
    "\n",
    "    df = map_negative_values(df, acros, mapping=params[\"mapping\"])\n",
    "    if params[\"predict\"] == \"ratio\":\n",
    "        tmp = df[acros[\"yta\"]] + df[acros[\"nah\"]] + \\\n",
    "            df[acros[\"esh\"]]+df[acros[\"nta\"]]\n",
    "        tmp = tmp[tmp != 0]\n",
    "        tmp = (df[acros[\"yta\"]]+df[acros[\"esh\"]])/tmp\n",
    "        df[\"Y\"] = tmp\n",
    "\n",
    "        #WHY DOES THIS REMOVE POSTS?\n",
    "        if doFilter:\n",
    "            df = df.loc[(1-ratio <= df[\"Y\"]) | (df[\"Y\"] <= ratio)]\n",
    "    elif params[\"predict\"] == \"class\":\n",
    "        df[\"YTA_ratio\"] = df[acros[\"yta\"]] / \\\n",
    "            (df[acros[\"info\"]] + df[acros[\"yta\"]] +\n",
    "                df[acros[\"nah\"]]+df[acros[\"esh\"]]+df[acros[\"nta\"]])\n",
    "\n",
    "        # drop all rows where the majority is not YTA or NTA\n",
    "        df = df.loc[((df[acros[\"yta\"]] > df[acros[\"info\"]]) & (df[acros[\"yta\"]] > df[acros[\"nah\"]]) & (df[acros[\"yta\"]] > df[acros[\"esh\"]])) | (\n",
    "            (df[acros[\"nta\"]] > df[acros[\"info\"]]) & (df[acros[\"nta\"]] > df[acros[\"nah\"]]) & (df[\"reactions_weighted_NTA\"] > df[acros[\"esh\"]]))]\n",
    "\n",
    "        # drop all rows that are not \"extreme\" enough\n",
    "        df = df.loc[(1-ratio <= df[\"YTA_ratio\"]) | (df[\"YTA_ratio\"] <= ratio)]\n",
    "        print(\"CHECK REGARDING FILTERING\")\n",
    "\n",
    "    if doFilter:\n",
    "        for k, v in post_requirements.items():\n",
    "            df = df.loc[(df[k] >= v), :]\n",
    "\n",
    "    #df = df[df.columns.intersection(features_to_analyse+[\"post_id\"])]\n",
    "    return df\n",
    "\n",
    "# [\"liwc_female\", \"liwc_discrep\", \"liwc_home\", \"writing_sty_focus_i_poss_norm\"] \"foundations_07                    AuthorityVirtue\"\n",
    "features_to_analyse = [\"liwc_female\", ]\n",
    "conditionalFeature = \"writing_sty_focus_i_poss_norm\"\n",
    "conditionalWidth = 16\n",
    "reactions_to_keep = [\"reactions_weighted_YTA\", \"reactions_weighted_NTA\",\n",
    "                     \"reactions_weighted_ESH\", \"reactions_weighted_NAH\", \"reactions_weighted_INFO\", ]+[conditionalFeature]\n",
    "USE_CONDITIONAL = False #len(conditionalFeature) > 0 \n",
    "\n",
    "post_requirements = {  # requirement: key >= value in post\n",
    "        \"post_num_comments\": 10,\n",
    "        \"post_score\": 10,\n",
    "        \"post_ratio\": 0.7,\n",
    "    }\n",
    "\n",
    "#df = pd.read_csv(\"../datasets/prepend_done.csv\")\n",
    "df = pd.read_csv(\"../datasets/prepend_done.csv\",\n",
    "                 usecols=features_to_analyse+reactions_to_keep+list(post_requirements.keys())+[\"post_id\"])\n",
    "\n",
    "df.hist(column=conditionalFeature,bins=100)\n",
    "df.hist(column=features_to_analyse[0],bins=100)\n",
    "print(df.shape)\n",
    "df = get_correct_posts(post_requirements, df, doFilter=True)\n",
    "print(df.shape)\n",
    "\n",
    "\n",
    "df_txt = pd.read_csv(\"../datasets/id_to_text.csv\")\n",
    "#lst = list(filter(lambda x: \"sty\" in x, list(df.columns)))\n",
    "# print(lst)\n"
   ]
  },
  {
   "cell_type": "code",
   "execution_count": 2,
   "metadata": {},
   "outputs": [
    {
     "name": "stdout",
     "output_type": "stream",
     "text": [
      "['post_id', 'post_num_comments', 'reactions_weighted_YTA', 'reactions_weighted_NTA', 'reactions_weighted_INFO', 'reactions_weighted_ESH', 'reactions_weighted_NAH', 'writing_sty_focus_i_poss_norm', 'liwc_female', 'post_score', 'post_ratio', 'reactions_weighted_YTA_neg_vals', 'reactions_weighted_NAH_neg_vals', 'reactions_weighted_ESH_neg_vals', 'reactions_weighted_NTA_neg_vals', 'Y']\n",
      "(0.05263428373805477, 2.2061695615728696e-20)\n"
     ]
    }
   ],
   "source": [
    "#get pearson\n",
    "print(list(df.columns))\n",
    "from scipy.stats import pearsonr\n",
    "\n",
    "ft_col = df[features_to_analyse[0]]\n",
    "y_col = df[\"Y\"]\n",
    "print(pearsonr(ft_col,y_col))\n",
    "#df.to_csv(\"/mnt/c/Users/Philipp/Desktop/dataset_prepend_y_filtered.csv\",index=False)"
   ]
  },
  {
   "cell_type": "markdown",
   "metadata": {},
   "source": [
    "## Get top and bottom 16 RANGE of conditional feature"
   ]
  },
  {
   "cell_type": "code",
   "execution_count": 2,
   "metadata": {},
   "outputs": [
    {
     "name": "stdout",
     "output_type": "stream",
     "text": [
      "(29204, 16) (3, 16)\n",
      "(30857, 16)\n"
     ]
    }
   ],
   "source": [
    "\n",
    "condMin = df[conditionalFeature].min()\n",
    "condMax = df[conditionalFeature].max()\n",
    "if condMin<0:\n",
    "    raise ValueError('conditional feature has a min value lower than 0....')\n",
    "dfCondBottom = df[((df[conditionalFeature] < condMax*(conditionalWidth/100)))]\n",
    "dfCondTop = df[(df[conditionalFeature] > condMax*((100-conditionalWidth)/100))]\n",
    "dfCond = [dfCondBottom, dfCondTop]\n",
    "print(dfCond[0].shape, dfCond[1].shape)\n",
    "print(df.shape)\n",
    "#Only 5 posts come from top range, rest of all posts comes from bottom\n"
   ]
  },
  {
   "cell_type": "markdown",
   "metadata": {},
   "source": [
    "## Acros Range"
   ]
  },
  {
   "cell_type": "code",
   "execution_count": 4,
   "metadata": {},
   "outputs": [
    {
     "name": "stdout",
     "output_type": "stream",
     "text": [
      "0.0 21.43\n",
      "(30857, 16)\n",
      "0.0 1.0715\n",
      "bucket 0 size:11034\n",
      "1.0715 2.143\n",
      "bucket 5 size:2825\n",
      "2.143 3.2144999999999997\n",
      "bucket 10 size:2633\n",
      "3.2144999999999997 4.286\n",
      "bucket 15 size:2664\n",
      "4.286 5.3575\n",
      "bucket 20 size:2811\n",
      "5.3575 6.428999999999999\n",
      "bucket 25 size:2633\n",
      "6.428999999999999 7.500499999999999\n",
      "bucket 30 size:2173\n",
      "7.500499999999999 8.572\n",
      "bucket 35 size:1659\n",
      "8.572 9.6435\n",
      "bucket 40 size:1086\n",
      "9.6435 10.715\n",
      "bucket 45 size:641\n",
      "10.715 11.786499999999998\n",
      "bucket 50 size:381\n",
      "11.786499999999998 12.857999999999999\n",
      "bucket 55 size:166\n",
      "12.857999999999999 13.929499999999999\n",
      "bucket 60 size:84\n",
      "13.929499999999999 15.000999999999998\n",
      "bucket 65 size:35\n",
      "15.000999999999998 16.072499999999998\n",
      "bucket 70 size:14\n",
      "16.072499999999998 17.144\n",
      "bucket 75 size:8\n",
      "17.144 18.2155\n",
      "bucket 80 size:6\n",
      "18.2155 19.287\n",
      "bucket 85 size:1\n",
      "19.287 20.3585\n",
      "bucket 90 size:1\n",
      "20.3585 21.43\n",
      "bucket 95 size:2\n"
     ]
    }
   ],
   "source": [
    "data = []\n",
    "nr_bins = 21\n",
    "bin_size = 100/(nr_bins-1)\n",
    "quantile = 100\n",
    "\n",
    "#if dfCond[0].shape[0] > 380000 or dfCond[0].shape[0] > 380000 :\n",
    "#    print(\"WARNING: we probably want to use the filtered output. Check above to make sure you use doFilter = True. Otherwise we sample posts that our ML model has never seen\")\n",
    "\n",
    "for i in range(len(dfCond) if USE_CONDITIONAL else 1  ):\n",
    "    for feat in features_to_analyse:\n",
    "\n",
    "        \n",
    "        clipped_df = dfCond[i] if USE_CONDITIONAL else df\n",
    "        min_v = clipped_df[feat].min()\n",
    "        max_v = clipped_df[feat].max()\n",
    "        print(min_v,  max_v)\n",
    "        print(clipped_df.shape)\n",
    "        #if quantile < 100:\n",
    "        #    print(df.shape)\n",
    "        #    \n",
    "        #    clipped_df = df[(np.percentile(df[feat], 100-quantile) < df[feat]) & (\n",
    "        #        df[feat] < np.percentile(df[feat],quantile ))]\n",
    "        #    print(clipped_df.shape)\n",
    "        #min_v = clipped_df[feat].min()\n",
    "        #max_v = clipped_df[feat].max()\n",
    "        #print(min_v, max_v)\n",
    "        bin_mins = np.linspace(min_v, max_v, num=nr_bins, endpoint=True)\n",
    "        decinels = np.linspace(0, 100, num=nr_bins, endpoint=True)\n",
    "\n",
    "        for i in range(len(bin_mins)-1):\n",
    "            print(bin_mins[i], bin_mins[i+1] )\n",
    "            df_sample = clipped_df.loc[((bin_mins[i] <= clipped_df[feat]) &\n",
    "                                (clipped_df[feat] <= bin_mins[i+1]))]\n",
    "\n",
    "            print(f\"bucket {int(i*bin_size)} size:\"+str(len(df_sample)))\n",
    "\n",
    "           \n",
    "            \n",
    "            \n",
    "            if len(df_sample) > 0:\n",
    "                smpl_id = df_sample['post_id'].sample(n=1, random_state=41).iloc[0]\n",
    "                smpl_value = str(df_sample[df_sample[\"post_id\"]\n",
    "                                    == smpl_id][feat].iloc[0])\n",
    "                smpl_value_cond = str(df_sample[df_sample[\"post_id\"]\n",
    "                                    == smpl_id][conditionalFeature].iloc[0])\n",
    "                smpl_text = df_txt.loc[df_txt[\"post_id\"]\n",
    "                                    == smpl_id].iloc[0][\"post_text\"]\n",
    "                smpl_y = df_sample[df_sample[\"post_id\"]\n",
    "                                    == smpl_id][\"Y\"].iloc[0]\n",
    "            else:\n",
    "                print(f\"No posts found for {feat} from {int(i*bin_size)}%\")\n",
    "                smpl_id= smpl_value=smpl_value_cond=smpl_text=smpl_y = \"_POST NOT FOUND_\"\n",
    "                \n",
    "                \n",
    "              \n",
    "           \n",
    "            cur = [feat,f\"{int(i*bin_size)}%\",conditionalFeature, \n",
    "                smpl_value, smpl_value_cond, smpl_y,smpl_id, smpl_text]\n",
    "            data.append(cur)\n",
    "            \n",
    "\n",
    "    np_data = np.array(data)\n",
    "    df_ft_smpl = pd.DataFrame(data=data, columns=[\n",
    "                            \"feature Name\", \"range\",\"conditional feature\", \"feature value\",\"conditional feature value\", \"y\", \"post_id\", \"post_text\"])\n",
    "    df_ft_smpl.to_excel(\"feature_samples.xlsx\", index=False)\n",
    "\n",
    "\n"
   ]
  },
  {
   "cell_type": "markdown",
   "metadata": {},
   "source": [
    "## Get top and bottom 16 PERCENTILE of a conditional feature"
   ]
  },
  {
   "cell_type": "code",
   "execution_count": 2,
   "metadata": {},
   "outputs": [
    {
     "name": "stdout",
     "output_type": "stream",
     "text": [
      "(4906, 16)\n",
      "(4930, 16)\n",
      "(30857, 16)\n"
     ]
    }
   ],
   "source": [
    "dfCondTop = df[(df[conditionalFeature] > np.percentile(df[conditionalFeature],100-conditionalWidth))]\n",
    "dfCondBottom = df[((df[conditionalFeature] < np.percentile(df[conditionalFeature],conditionalWidth)))]\n",
    "print(dfCondTop.shape)\n",
    "print(dfCondBottom.shape)\n",
    "print(df.shape)\n",
    "dfCond = [dfCondBottom, dfCondTop]\n",
    "\n",
    "\n"
   ]
  },
  {
   "cell_type": "markdown",
   "metadata": {},
   "source": [
    "## Across percentiles"
   ]
  },
  {
   "cell_type": "code",
   "execution_count": 5,
   "metadata": {},
   "outputs": [
    {
     "name": "stdout",
     "output_type": "stream",
     "text": [
      "0.0 0.12676056\n",
      "(30857, 15)\n",
      "Index(['post_id', 'post_num_comments', 'reactions_weighted_YTA',\n",
      "       'reactions_weighted_NTA', 'reactions_weighted_INFO',\n",
      "       'reactions_weighted_ESH', 'reactions_weighted_NAH',\n",
      "       'writing_sty_focus_i_poss_norm', 'post_score', 'post_ratio',\n",
      "       'reactions_weighted_YTA_neg_vals', 'reactions_weighted_NAH_neg_vals',\n",
      "       'reactions_weighted_ESH_neg_vals', 'reactions_weighted_NTA_neg_vals',\n",
      "       'Y'],\n",
      "      dtype='object')\n",
      "Bucket (size 1554) = from: perc [0.0-5.0], value [0.0-0.0048076925]\n",
      "Bucket (size 1545) = from: perc [5.0-10.0], value [0.0048076925-0.007867828000000006]\n",
      "Bucket (size 1548) = from: perc [10.0-15.0], value [0.007867828000000006-0.010067114]\n",
      "Bucket (size 1552) = from: perc [15.0-20.0], value [0.010067114-0.012019231]\n",
      "Bucket (size 1561) = from: perc [20.0-25.0], value [0.012019231-0.013793103]\n",
      "Bucket (size 1551) = from: perc [25.0-30.0], value [0.013793103-0.0154639175]\n",
      "Bucket (size 1571) = from: perc [30.0-35.0], value [0.0154639175-0.017142856]\n",
      "Bucket (size 1559) = from: perc [35.0-40.0], value [0.017142856-0.018796992]\n",
      "Bucket (size 1549) = from: perc [40.0-45.0], value [0.018796992-0.020560747]\n",
      "Bucket (size 1544) = from: perc [45.0-50.0], value [0.020560747-0.022375215]\n",
      "Bucket (size 1548) = from: perc [50.0-55.0], value [0.022375215-0.024305556]\n",
      "Bucket (size 1572) = from: perc [55.0-60.0], value [0.024305556-0.02631579]\n",
      "Bucket (size 1636) = from: perc [60.0-65.0], value [0.02631579-0.028571429]\n",
      "Bucket (size 1570) = from: perc [65.0-70.0], value [0.028571429-0.031088082]\n",
      "Bucket (size 1549) = from: perc [70.0-75.0], value [0.031088082-0.03380282]\n",
      "Bucket (size 1545) = from: perc [75.0-80.0], value [0.03380282-0.03691275]\n",
      "Bucket (size 1561) = from: perc [80.0-85.0], value [0.03691275-0.040816326]\n",
      "Bucket (size 1554) = from: perc [85.0-90.0], value [0.040816326-0.04610951]\n",
      "Bucket (size 1550) = from: perc [90.0-95.0], value [0.04610951-0.054054055]\n",
      "Bucket (size 1559) = from: perc [95.0-100.0], value [0.054054055-0.12676056]\n"
     ]
    }
   ],
   "source": [
    "data = []\n",
    "nr_bins = 21\n",
    "bin_size = 100/(nr_bins-1)\n",
    "quantile = 100\n",
    "\n",
    "for i in range(len(dfCond)):\n",
    "    for feat in features_to_analyse:\n",
    "\n",
    "        min_v = df[feat].min()\n",
    "        max_v = df[feat].max()\n",
    "        clipped_df = dfCond[i] if USE_CONDITIONAL else df\n",
    "        print(min_v,  max_v)\n",
    "        print(clipped_df.shape)\n",
    "        print(clipped_df.columns)\n",
    "        #if quantile < 100:\n",
    "        #    print(df.shape)\n",
    "        #    \n",
    "        #    clipped_df = df[(np.percentile(df[feat], 100-quantile) < df[feat]) & (\n",
    "        #        df[feat] < np.percentile(df[feat],quantile ))]\n",
    "        #    print(clipped_df.shape)\n",
    "        #min_v = clipped_df[feat].min()\n",
    "        #max_v = clipped_df[feat].max()\n",
    "        #print(min_v, max_v)\n",
    "        #bin_mins = np.linspace(min_v, max_v, num=nr_bins, endpoint=True)\n",
    "        percentiles = np.linspace(0, 100, num=nr_bins, endpoint=True)\n",
    "\n",
    "        for i in range(len(percentiles)-1):\n",
    "            #print(i,bin_mins[i], bin_mins[i+1] )\n",
    "            min_val = np.percentile(clipped_df[feat], percentiles[i])\n",
    "            max_val = np.percentile(clipped_df[feat], percentiles[i+1])\n",
    "            df_sample = clipped_df.loc[((min_val <= clipped_df[feat]) &\n",
    "                                (clipped_df[feat] <= max_val))]\n",
    "            print(f\"Bucket (size {len(df_sample)}) = from: perc [{percentiles[i]}-{percentiles[i+1]}], value [{min_val}-{max_val}]\")\n",
    "            \n",
    "            \n",
    "            if len(df_sample) > 0:\n",
    "                smpl_id = df_sample['post_id'].sample(n=1).iloc[0]\n",
    "                smpl_value = str(df_sample[df_sample[\"post_id\"]\n",
    "                                    == smpl_id][feat].iloc[0])\n",
    "                smpl_text = df_txt.loc[df_txt[\"post_id\"]\n",
    "                                    == smpl_id].iloc[0][\"post_text\"]\n",
    "                smpl_y = df_sample[df_sample[\"post_id\"]\n",
    "                                    == smpl_id][\"Y\"].iloc[0]\n",
    "                smpl_cond_value = str(df_sample[df_sample[\"post_id\"]\n",
    "                                    == smpl_id][conditionalFeature].iloc[0])\n",
    "            else:\n",
    "                print(f\"No posts found for {feat} from {int(100-i*bin_size)}%\")\n",
    "                smpl_id = \"BUCKET EMPTY\"\n",
    "                smpl_value = \"-42\"\n",
    "                smpl_text = \"NA\"\n",
    "\n",
    "            cur = [feat, f\"{int(i*bin_size)}%\",\n",
    "                smpl_value, smpl_y,smpl_id, smpl_text,i,smpl_cond_value]\n",
    "            data.append(cur)\n",
    "\n",
    "    np_data = np.array(data)\n",
    "    df_ft_smpl = pd.DataFrame(data=data, columns=[\n",
    "                            \"feature Name\", \"percentile\", \"feature value\", \"y\", \"post_id\", \"post_text\", \"conditional_bucket\"]+[conditionalFeature])\n",
    "df_ft_smpl.to_excel(\"feature_samples.xlsx\", index=False)"
   ]
  },
  {
   "cell_type": "code",
   "execution_count": null,
   "metadata": {},
   "outputs": [],
   "source": []
  }
 ],
 "metadata": {
  "interpreter": {
   "hash": "916dbcbb3f70747c44a77c7bcd40155683ae19c65e1c03b4aa3499c5328201f1"
  },
  "kernelspec": {
   "display_name": "Python 3.8.10 64-bit",
   "language": "python",
   "name": "python3"
  },
  "language_info": {
   "codemirror_mode": {
    "name": "ipython",
    "version": 3
   },
   "file_extension": ".py",
   "mimetype": "text/x-python",
   "name": "python",
   "nbconvert_exporter": "python",
   "pygments_lexer": "ipython3",
   "version": "3.8.10"
  },
  "orig_nbformat": 4
 },
 "nbformat": 4,
 "nbformat_minor": 2
}
