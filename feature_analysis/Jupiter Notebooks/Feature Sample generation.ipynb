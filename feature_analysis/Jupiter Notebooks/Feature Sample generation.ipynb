{
 "cells": [
  {
   "cell_type": "code",
   "execution_count": 1,
   "metadata": {},
   "outputs": [],
   "source": [
    "import pandas as pd\n",
    "import numpy as np\n",
    "features_to_analyse = [\"liwc_female\", \"liwc_discrep\", \"liwc_home\", \"writing_sty_focus_i_poss_norm\"]\n",
    "ft_max_v= {\"liwc_female\":15, \"liwc_discrep\":8, \"liwc_home\":7, \"writing_sty_focus_i_poss_norm\":0.1}\n",
    "\n",
    "df = pd.read_csv(\"../datasets/prepend_done.csv\", usecols= features_to_analyse+[\"post_id\"])\n",
    "df_txt = pd.read_csv(\"../datasets/id_to_text.csv\")\n",
    "#lst = list(filter(lambda x: \"sty\" in x, list(df.columns)))\n",
    "#print(lst)"
   ]
  },
  {
   "cell_type": "markdown",
   "metadata": {},
   "source": [
    "Extract 1 random sample from each feature \"decinel?\" every 10% (0-10%, 10-20%,...90-10%)"
   ]
  },
  {
   "cell_type": "code",
   "execution_count": 2,
   "metadata": {},
   "outputs": [
    {
     "name": "stdout",
     "output_type": "stream",
     "text": [
      "No posts found for liwc_female from 60-70%\n",
      "No posts found for liwc_female from 70-80%\n",
      "No posts found for liwc_female from 80-90%\n",
      "No posts found for liwc_home from 50-60%\n",
      "No posts found for liwc_home from 70-80%\n",
      "No posts found for liwc_home from 80-90%\n",
      "No posts found for writing_sty_focus_i_poss_norm from 70-80%\n",
      "No posts found for writing_sty_focus_i_poss_norm from 80-90%\n",
      "(40, 5)\n"
     ]
    }
   ],
   "source": [
    "data = []\n",
    "for feat in features_to_analyse:\n",
    "\n",
    "    min_v = df[feat].min()\n",
    "    #manually set max feature value to get less shitty results\n",
    "    max_v = ft_max_v[feat] if True else df[feat].max()\n",
    "\n",
    "    bin_mins = np.linspace(min_v, max_v, num=11,endpoint=True)\n",
    "    decinels = np.linspace(0, 100, num=11,endpoint=True)\n",
    "\n",
    "    for i in range(len(bin_mins)-1):\n",
    "        #print(i,bin_mins[i], bin_mins[i+1] )\n",
    "        df_sample = df.loc[((bin_mins[i]<=df[feat]) & (df[feat]<=bin_mins[i+1]))]\n",
    "        if len(df_sample) > 0:\n",
    "            smpl_id = df_sample['post_id'].sample(n=1, random_state=42).iloc[0]\n",
    "            smpl_value = df_sample[df_sample[\"post_id\"]==smpl_id][feat].iloc[0]\n",
    "            smpl_text = df_txt.loc[df_txt[\"post_id\"]==smpl_id].iloc[0][\"post_text\"]\n",
    "        else:\n",
    "            print(f\"No posts found for {feat} from {i*10}-{(i+1)*10}%\")\n",
    "            smpl_id =\"BUCKET EMPTY\"\n",
    "            smpl_value = \"-42\"\n",
    "            smpl_text = \"NA\"\n",
    "        \n",
    "        cur = [feat,f\"{100-i*10}%\",  smpl_id, smpl_value, smpl_text]\n",
    "        data.append(cur)\n",
    "\n",
    "np_data = np.array(data)\n",
    "df_ft_smpl = pd.DataFrame(data=data, columns=[\"feature Name\", \"percentile\", \"feature value\", \"post_id\",\"post_text\" ])\n",
    "df_ft_smpl.to_excel(\"feature_samples.xlsx\", index=False)\n",
    "#TODO: get searchable LIWC feature PDF"
   ]
  },
  {
   "cell_type": "code",
   "execution_count": null,
   "metadata": {},
   "outputs": [],
   "source": []
  }
 ],
 "metadata": {
  "interpreter": {
   "hash": "916dbcbb3f70747c44a77c7bcd40155683ae19c65e1c03b4aa3499c5328201f1"
  },
  "kernelspec": {
   "display_name": "Python 3.8.10 64-bit",
   "language": "python",
   "name": "python3"
  },
  "language_info": {
   "codemirror_mode": {
    "name": "ipython",
    "version": 3
   },
   "file_extension": ".py",
   "mimetype": "text/x-python",
   "name": "python",
   "nbconvert_exporter": "python",
   "pygments_lexer": "ipython3",
   "version": "3.8.10"
  },
  "orig_nbformat": 4
 },
 "nbformat": 4,
 "nbformat_minor": 2
}
