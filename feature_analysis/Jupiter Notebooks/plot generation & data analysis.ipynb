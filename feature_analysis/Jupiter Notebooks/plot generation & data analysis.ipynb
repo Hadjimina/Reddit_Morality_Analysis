{
 "cells": [
  {
   "cell_type": "code",
   "execution_count": 2,
   "metadata": {},
   "outputs": [
    {
     "name": "stdout",
     "output_type": "stream",
     "text": [
      "['speaker_author_age', 'speaker_author_gender', 'post_id', 'post_num_comments', 'reactions_weighted_YTA', 'reactions_weighted_NTA', 'reactions_weighted_INFO', 'reactions_weighted_ESH', 'reactions_weighted_NAH', 'reactions_weighted_YTA_neg_vals', 'reactions_weighted_NTA_neg_vals', 'reactions_weighted_INFO_neg_vals', 'reactions_weighted_ESH_neg_vals', 'reactions_weighted_NAH_neg_vals', 'writing_sty_!_count', 'writing_sty_\"_count', 'writing_sty_?_count', 'writing_sty_negative_abs', 'writing_sty_trust_abs', 'writing_sty_joy_abs', 'writing_sty_positive_abs', 'writing_sty_fear_abs', 'writing_sty_anger_abs', 'writing_sty_disgust_abs', 'writing_sty_surprise_abs', 'writing_sty_sadness_abs', 'writing_sty_anticipation_abs', 'writing_sty_negative_norm', 'writing_sty_trust_norm', 'writing_sty_joy_norm', 'writing_sty_positive_norm', 'writing_sty_fear_norm', 'writing_sty_anger_norm', 'writing_sty_disgust_norm', 'writing_sty_surprise_norm', 'writing_sty_sadness_norm', 'writing_sty_anticipation_norm', 'writing_sty_aita_count', 'writing_sty_aita_avg_location', 'writing_sty_aita_fst_location', 'writing_sty_aita_lst_location', 'writing_sty_profanity_abs', 'writing_sty_profanity_norm', 'writing_sty_is_wibta', 'writing_sty_past_abs', 'writing_sty_present_abs', 'writing_sty_future_abs', 'writing_sty_past_norm', 'writing_sty_present_norm', 'writing_sty_future_norm', 'writing_sty_active_abs', 'writing_sty_passive_abs', 'writing_sty_active_norm', 'writing_sty_passive_norm', 'writing_sty_sent_polarity', 'writing_sty_sent_subjectivity', 'writing_sty_focus_i_subj_abs', 'writing_sty_focus_you_sg_subj_abs', 'writing_sty_focus_he_subj_abs', 'writing_sty_focus_we_subj_abs', 'writing_sty_focus_you_pl_subj_abs', 'writing_sty_focus_they_subj_abs', 'writing_sty_focus_i_obj_abs', 'writing_sty_focus_you_sg_obj_abs', 'writing_sty_focus_he_obj_abs', 'writing_sty_focus_we_obj_abs', 'writing_sty_focus_you_pl_obj_abs', 'writing_sty_focus_they_obj_abs', 'writing_sty_focus_i_poss_abs', 'writing_sty_focus_you_sg_poss_abs', 'writing_sty_focus_he_poss_abs', 'writing_sty_focus_we_poss_abs', 'writing_sty_focus_you_pl_poss_abs', 'writing_sty_focus_they_poss_abs', 'writing_sty_focus_i_subj_norm', 'writing_sty_focus_you_sg_subj_norm', 'writing_sty_focus_he_subj_norm', 'writing_sty_focus_we_subj_norm', 'writing_sty_focus_you_pl_subj_norm', 'writing_sty_focus_they_subj_norm', 'writing_sty_focus_i_obj_norm', 'writing_sty_focus_you_sg_obj_norm', 'writing_sty_focus_he_obj_norm', 'writing_sty_focus_we_obj_norm', 'writing_sty_focus_you_pl_obj_norm', 'writing_sty_focus_they_obj_norm', 'writing_sty_focus_i_poss_norm', 'writing_sty_focus_you_sg_poss_norm', 'writing_sty_focus_he_poss_norm', 'writing_sty_focus_we_poss_norm', 'writing_sty_focus_you_pl_poss_norm', 'writing_sty_focus_they_poss_norm', 'writing_sty_self_fear_norm', 'writing_sty_self_anger_norm', 'writing_sty_self_trust_norm', 'writing_sty_self_surprise_norm', 'writing_sty_self_sadness_norm', 'writing_sty_self_disgust_norm', 'writing_sty_self_joy_norm', 'writing_sty_self_anticipation_norm', 'writing_sty_self_positive_norm', 'writing_sty_self_negative_norm', 'writing_sty_other_fear_norm', 'writing_sty_other_anger_norm', 'writing_sty_other_trust_norm', 'writing_sty_other_surprise_norm', 'writing_sty_other_sadness_norm', 'writing_sty_other_disgust_norm', 'writing_sty_other_joy_norm', 'writing_sty_other_anticipation_norm', 'writing_sty_other_positive_norm', 'writing_sty_other_negative_norm', 'writing_sty_self_prof', 'writing_sty_other_prof', 'foundations_WC', 'foundations_WPS', 'foundations_Sixltr', 'foundations_Dic', 'foundations_01                    HarmVirtue', 'foundations_02                    HarmVice', 'foundations_03                    FairnessVirtue', 'foundations_04                    FairnessVice', 'foundations_05                    IngroupVirtue', 'foundations_06                    IngroupVice', 'foundations_07                    AuthorityVirtue', 'foundations_08                    AuthorityVice', 'foundations_09                    PurityVirtue', 'foundations_10                    PurityVice', 'foundations_11                    MoralityGeneral', 'foundations_AllPunc', 'foundations_Period', 'foundations_Comma', 'foundations_Colon', 'foundations_SemiC', 'foundations_QMark', 'foundations_Exclam', 'foundations_Dash', 'foundations_Quote', 'foundations_Apostro', 'foundations_Parenth', 'foundations_OtherP', 'liwc_WC', 'liwc_Analytic', 'liwc_Clout', 'liwc_Authentic', 'liwc_Tone', 'liwc_WPS', 'liwc_Sixltr', 'liwc_Dic', 'liwc_function', 'liwc_pronoun', 'liwc_ppron', 'liwc_i', 'liwc_we', 'liwc_you', 'liwc_shehe', 'liwc_they', 'liwc_ipron', 'liwc_article', 'liwc_prep', 'liwc_auxverb', 'liwc_adverb', 'liwc_conj', 'liwc_negate', 'liwc_verb', 'liwc_adj', 'liwc_compare', 'liwc_interrog', 'liwc_number', 'liwc_quant', 'liwc_affect', 'liwc_posemo', 'liwc_negemo', 'liwc_anx', 'liwc_anger', 'liwc_sad', 'liwc_social', 'liwc_family', 'liwc_friend', 'liwc_female', 'liwc_male', 'liwc_cogproc', 'liwc_insight', 'liwc_cause', 'liwc_discrep', 'liwc_tentat', 'liwc_certain', 'liwc_differ', 'liwc_percept', 'liwc_see', 'liwc_hear', 'liwc_feel', 'liwc_bio', 'liwc_body', 'liwc_health', 'liwc_sexual', 'liwc_ingest', 'liwc_drives', 'liwc_affiliation', 'liwc_achieve', 'liwc_power', 'liwc_reward', 'liwc_risk', 'liwc_focuspast', 'liwc_focuspresent', 'liwc_focusfuture', 'liwc_relativ', 'liwc_motion', 'liwc_space', 'liwc_time', 'liwc_work', 'liwc_leisure', 'liwc_home', 'liwc_money', 'liwc_relig', 'liwc_death', 'liwc_informal', 'liwc_swear', 'liwc_netspeak', 'liwc_assent', 'liwc_nonflu', 'liwc_filler', 'liwc_AllPunc', 'liwc_Period', 'liwc_Comma', 'liwc_Colon', 'liwc_SemiC', 'liwc_QMark', 'liwc_Exclam', 'liwc_Dash', 'liwc_Quote', 'liwc_Apostro', 'liwc_Parenth', 'liwc_OtherP', 'speaker_account_age', 'speaker_account_comment_karma', 'speaker_account_link_karma', 'topic_nr', 'post_score', 'post_ups', 'post_downs', 'post_ratio', 'reactions_is_angel', 'reactions_is_devil', 'reactions_YTA', 'reactions_NTA', 'reactions_INFO', 'reactions_ESH', 'reactions_NAH']\n"
     ]
    }
   ],
   "source": [
    "import pandas as pd\n",
    "import numpy as np\n",
    "import matplotlib.pyplot as plt\n",
    "\n",
    "\n",
    "#df = pd.read_csv(\"../datasets/downsampeled_dataset.csv\") #30k posts\n",
    "df = pd.read_csv(\"../datasets/prepend_done.csv\", nrows=5)\n",
    "print(list(df.columns))\n",
    "#feats_to_read = list(set(df.columns)-set([\"post_text\", \"post_id\"]))\n",
    "df = pd.read_csv(\"../datasets/prepend_done.csv\", usecols=[\"reactions_is_devil\", \"reactions_is_angel\", \"post_id\"])#680k posts\n",
    "id_to_Y = pd.read_csv(\"../datasets/id_to_Y_600k.csv\")\n",
    "#id_to_topic = pd.read_csv(\"../datasets/id_to_topics.csv\")\n",
    "\n",
    "#df_comment = pd.read_csv(\"../datasets/comments_cleaned_16_07_2021.csv\", usecols=[\"comment_score\", \"post_id\"] )\n",
    "#df_comment = df_comment.loc[df_comment['post_id'].isin(post_ids)] \n",
    "#print(df.columns.to_list())\n",
    "#print(\"Number of posts\", len(df))\n",
    "#print(\"Number of comments\", len(df_comment))\n",
    "#print(id_to_Y[\"Y\"].std())\n",
    "#print(id_to_Y[\"Y\"].mean())\n",
    "\n",
    "#merge with Y\n",
    "id_to_Y = id_to_Y.merge(df, left_on=\"post_id\", right_on=\"post_id\",validate=\"1:1\", suffixes=('', '_DROP')).filter(regex='^(?!.*_DROP)')"
   ]
  },
  {
   "cell_type": "markdown",
   "metadata": {},
   "source": [
    "# mean ahr for non is angle or is devil posts"
   ]
  },
  {
   "cell_type": "code",
   "execution_count": 11,
   "metadata": {},
   "outputs": [
    {
     "name": "stdout",
     "output_type": "stream",
     "text": [
      "(606460, 4) mean 0.3301315659974638 std 0.41042814961461166\n",
      "(9395, 4) mean 0.22140968503821065 std 0.36693242587352254\n",
      "(3133, 4) mean 0.9745613175100293 std 0.09892536189021839\n",
      "Ttest_indResult(statistic=25.51854586331182, pvalue=1.4584859507091598e-143)\n",
      "Ttest_indResult(statistic=-87.87253297905428, pvalue=0.0)\n"
     ]
    }
   ],
   "source": [
    "from scipy.stats import ttest_ind_from_stats\n",
    "\n",
    "df_no_angel_or_devil = id_to_Y.loc[(id_to_Y[\"reactions_is_angel\"]==0) &(id_to_Y[\"reactions_is_devil\"]==0)]\n",
    "df_angel = id_to_Y.loc[id_to_Y[\"reactions_is_angel\"]==1]\n",
    "df_devil = id_to_Y.loc[id_to_Y[\"reactions_is_devil\"]==1]\n",
    "\n",
    "print(df_no_angel_or_devil.shape,\"mean\", df_no_angel_or_devil[\"Y\"].mean(),\"std\", df_no_angel_or_devil[\"Y\"].std())\n",
    "print(df_angel.shape,\"mean\", df_angel[\"Y\"].mean(),\"std\",df_angel[\"Y\"].std())\n",
    "print(df_devil.shape,\"mean\", df_devil[\"Y\"].mean(),\"std\",df_devil[\"Y\"].std())\n",
    "\n",
    "print(ttest_ind_from_stats(df_no_angel_or_devil[\"Y\"].mean(), df_no_angel_or_devil[\"Y\"].std(), len(df_no_angel_or_devil[\"Y\"]),  df_angel[\"Y\"].mean(),  df_angel[\"Y\"].std(),  len(df_angel[\"Y\"])))\n",
    "print(ttest_ind_from_stats(df_no_angel_or_devil[\"Y\"].mean(), df_no_angel_or_devil[\"Y\"].std(), len(df_no_angel_or_devil[\"Y\"]),  df_devil[\"Y\"].mean(),  df_devil[\"Y\"].std(),  len(df_devil[\"Y\"])))"
   ]
  },
  {
   "cell_type": "markdown",
   "metadata": {},
   "source": [
    "## Average A-hole per topic"
   ]
  },
  {
   "cell_type": "code",
   "execution_count": 13,
   "metadata": {},
   "outputs": [
    {
     "name": "stdout",
     "output_type": "stream",
     "text": [
      "  post_id         Y  topic_nr\n",
      "0  cjpuz4       NaN         1\n",
      "1  cjpv01  0.500000        -1\n",
      "2  cjpv0s  0.000000         8\n",
      "3  cjpvp7  0.001773        -1\n",
      "4  cjpwz0  0.527273         4\n"
     ]
    },
    {
     "data": {
      "text/plain": [
       "Text(0, 0.5, 'Mean a-hole ratio')"
      ]
     },
     "execution_count": 13,
     "metadata": {},
     "output_type": "execute_result"
    },
    {
     "data": {
      "image/png": "[encoded data removed]",
      "text/plain": [
       "<Figure size 720x360 with 1 Axes>"
      ]
     },
     "metadata": {
      "needs_background": "light"
     },
     "output_type": "display_data"
    }
   ],
   "source": [
    "print(id_to_Y.head(5))\n",
    "id_to_Y = id_to_Y.merge(id_to_topic, left_on=\"post_id\", right_on=\"post_id\",validate=\"1:1\", suffixes=('', '_DROP')).filter(regex='^(?!.*_DROP)')\n",
    "\n",
    "plt.rcParams[\"figure.figsize\"] = (10, 5)\n",
    "means = id_to_Y.groupby('topic_nr').mean()\n",
    "\n",
    "ax = means.plot.bar( y='Y', rot=0)\n",
    "ax.set_xlabel(\"Topic ID\")\n",
    "ax.set_ylabel(\"Mean a-hole ratio\")\n"
   ]
  },
  {
   "cell_type": "markdown",
   "metadata": {},
   "source": [
    "# overall distribution of comments that include AITA tags  "
   ]
  },
  {
   "cell_type": "code",
   "execution_count": 5,
   "metadata": {},
   "outputs": [
    {
     "data": {
      "image/png": "[encoded data removed]",
      "text/plain": [
       "<Figure size 432x288 with 1 Axes>"
      ]
     },
     "metadata": {},
     "output_type": "display_data"
    }
   ],
   "source": [
    "import matplotlib.pyplot as plt\n",
    "\n",
    "# Pie chart, where the slices will be ordered and plotted counter-clockwise:\n",
    "labels = 'YTA', 'NTA', 'ESH', 'NAH', \"INFO\"\n",
    "sizes = list(map(lambda x: df[\"reactions_\"+x].sum(), labels))\n",
    "\n",
    "fig1, ax1 = plt.subplots()\n",
    "ax1.pie(sizes,  labels=labels, autopct='%1.1f%%',\n",
    "        shadow=True, startangle=90)\n",
    "ax1.axis('equal')  # Equal aspect ratio ensures that pie is drawn as a circle.\n",
    "\n",
    "plt.show()"
   ]
  },
  {
   "cell_type": "markdown",
   "metadata": {},
   "source": [
    "# Comments with negative scores"
   ]
  },
  {
   "cell_type": "code",
   "execution_count": 4,
   "metadata": {},
   "outputs": [
    {
     "name": "stdout",
     "output_type": "stream",
     "text": [
      "Negative comments in percentage 0.060505801523628576\n"
     ]
    }
   ],
   "source": [
    "df_comment_neg = df_comment.loc[df_comment['comment_score']<0] \n",
    "print(\"Negative comments in percentage\", len(df_comment_neg)/len(df_comment))\n",
    "\n",
    "df_comment_neg_esh = df_comment.loc[df_comment['comment_score']<0&df_comment['comment_score']<0] \n",
    "print(\"Negative comments in percentage\", len(df_comment_neg)/len(df_comment))"
   ]
  },
  {
   "cell_type": "markdown",
   "metadata": {},
   "source": [
    "# Descriptive stats"
   ]
  },
  {
   "cell_type": "code",
   "execution_count": 5,
   "metadata": {},
   "outputs": [
    {
     "name": "stdout",
     "output_type": "stream",
     "text": [
      "      speaker_author_age  speaker_author_gender  post_num_comments  \\\n",
      "mean            4.342501               0.759527          56.802261   \n",
      "std            10.801548               0.502549         248.486236   \n",
      "\n",
      "      reactions_weighted_YTA  reactions_weighted_NTA  reactions_weighted_INFO  \\\n",
      "mean               31.012887               66.982352                 1.786615   \n",
      "std               804.760756             1006.455995                65.933120   \n",
      "\n",
      "      reactions_weighted_ESH  reactions_weighted_NAH  \\\n",
      "mean                5.123450                5.260410   \n",
      "std               225.768741              191.556768   \n",
      "\n",
      "      reactions_weighted_YTA_neg_vals  reactions_weighted_NTA_neg_vals  ...  \\\n",
      "mean                        -0.563994                        -0.437457  ...   \n",
      "std                          8.557257                         6.008095  ...   \n",
      "\n",
      "         post_ups  post_downs  post_ratio  reactions_is_angel  \\\n",
      "mean   239.109534   18.324292    0.793788            0.015197   \n",
      "std   1633.369126  175.478518    0.207673            0.122337   \n",
      "\n",
      "      reactions_is_devil  reactions_YTA  reactions_NTA  reactions_INFO  \\\n",
      "mean            0.005068       0.893059       1.928939        0.133453   \n",
      "std             0.071009       7.201090      11.561140        0.574862   \n",
      "\n",
      "      reactions_ESH  reactions_NAH  \n",
      "mean       0.195785       0.270007  \n",
      "std        1.529451       1.785161  \n",
      "\n",
      "[2 rows x 245 columns]\n"
     ]
    }
   ],
   "source": [
    "\n",
    "import xlsxwriter\n",
    "keys = [\"info\", \"yta\", \"nah\", \"esh\", \"nta\"]\n",
    "weight = \"weighted_\"\n",
    "values = [\"reactions_\"+weight+k.upper() for k in keys]\n",
    "acros = dict(zip(keys, values))\n",
    "vote_acroynms = list(filter(lambda x: any(\n",
    "    [acr.upper() in x for acr in list(acros.keys())]), list(df.columns)))\n",
    "#df = df.drop(columns=[\"writing_sty_focus_you_pl_subj_norm\", \"writing_sty_focus_you_pl_poss_norm\", \"writing_sty_focus_you_pl_obj_norm\"])\n",
    "\n",
    "df_descriptive = df.describe().drop([\"count\", \"25%\", \"50%\", \"75%\", \"min\", \"max\"])#.T.drop(\"Y\")\n",
    "print(df_descriptive)\n",
    "\n",
    "df_descriptive.T.to_excel(\"df_descriptive.xlsx\")\n",
    "#writer = pd.ExcelWriter('df_descriptive.xlsx', engine = 'xlsxwriter')\n",
    "#df_descriptive.to_excel(writer, index=False, sheet_name='Sheet1')\n",
    "#workbook  = writer.book\n",
    "#worksheet = writer.sheets['Sheet1']\n",
    "#format1 = workbook.add_format({'num_format': '0.0000'})\n",
    "##worksheet.set_column('C:C', None, format1)  # Adds formatting to column C\n",
    "#worksheet.set_column('C:C', None, format1)\n",
    "#writer.save()"
   ]
  },
  {
   "cell_type": "markdown",
   "metadata": {},
   "source": [
    "# Most imporatant feature interactions"
   ]
  },
  {
   "cell_type": "code",
   "execution_count": 2,
   "metadata": {},
   "outputs": [
    {
     "name": "stdout",
     "output_type": "stream",
     "text": [
      "     speaker_author_age  speaker_author_gender  writing_sty_!_count  \\\n",
      "0              0.003464               0.001753             0.000000   \n",
      "1              0.001753               0.001663             0.000000   \n",
      "2              0.000000               0.000000             0.000272   \n",
      "3              0.000012               0.000000             0.000000   \n",
      "4              0.000000               0.000000             0.000000   \n",
      "..                  ...                    ...                  ...   \n",
      "184            0.000014               0.000000             0.000000   \n",
      "185            0.000096               0.000046             0.000000   \n",
      "186            0.000663               0.000523             0.000000   \n",
      "187            0.000002               0.000000             0.000000   \n",
      "188            0.000000               0.000000             0.000000   \n",
      "\n",
      "     writing_sty_\"_count  writing_sty_?_count  writing_sty_negative_norm  \\\n",
      "0               0.000012             0.000000                   0.000052   \n",
      "1               0.000000             0.000000                   0.000023   \n",
      "2               0.000000             0.000000                   0.000000   \n",
      "3               0.001831             0.000000                   0.000000   \n",
      "4               0.000000             0.001212                   0.000000   \n",
      "..                   ...                  ...                        ...   \n",
      "184             0.000000             0.000000                   0.000017   \n",
      "185             0.000000             0.000000                   0.000000   \n",
      "186             0.000000             0.000025                   0.000027   \n",
      "187             0.000000             0.000039                   0.000000   \n",
      "188             0.000000             0.000000                   0.000140   \n",
      "\n",
      "     writing_sty_trust_norm  writing_sty_joy_norm  writing_sty_positive_norm  \\\n",
      "0              0.000000e+00              0.000000               0.000000e+00   \n",
      "1              0.000000e+00              0.000000               0.000000e+00   \n",
      "2              0.000000e+00              0.000000               0.000000e+00   \n",
      "3              0.000000e+00              0.000025               0.000000e+00   \n",
      "4              3.642340e-05              0.000327               0.000000e+00   \n",
      "..                      ...                   ...                        ...   \n",
      "184            0.000000e+00              0.000000               0.000000e+00   \n",
      "185            2.039419e-07              0.000000               2.742152e-08   \n",
      "186            3.980217e-05              0.000052               5.301735e-04   \n",
      "187            0.000000e+00              0.000000               0.000000e+00   \n",
      "188            1.213808e-04              0.000032               1.906535e-05   \n",
      "\n",
      "     writing_sty_fear_norm  ...  liwc_Colon  liwc_SemiC  liwc_QMark  \\\n",
      "0             5.645238e-08  ...    0.000000    0.000021         0.0   \n",
      "1             0.000000e+00  ...    0.000000    0.000000         0.0   \n",
      "2             0.000000e+00  ...    0.000000    0.000000         0.0   \n",
      "3             0.000000e+00  ...    0.000079    0.000000         0.0   \n",
      "4             0.000000e+00  ...    0.000000    0.000000         0.0   \n",
      "..                     ...  ...         ...         ...         ...   \n",
      "184           0.000000e+00  ...    0.000000    0.000000         0.0   \n",
      "185           0.000000e+00  ...    0.000000    0.000000         0.0   \n",
      "186           0.000000e+00  ...    0.000000    0.000000         0.0   \n",
      "187           0.000000e+00  ...    0.000000    0.000015         0.0   \n",
      "188           0.000000e+00  ...    0.000000    0.000020         0.0   \n",
      "\n",
      "     liwc_Exclam  liwc_Dash  liwc_Quote  liwc_Apostro  liwc_Parenth  \\\n",
      "0            0.0        0.0    0.000014      0.000096      0.000663   \n",
      "1            0.0        0.0    0.000000      0.000046      0.000523   \n",
      "2            0.0        0.0    0.000000      0.000000      0.000000   \n",
      "3            0.0        0.0    0.000000      0.000000      0.000000   \n",
      "4            0.0        0.0    0.000000      0.000000      0.000025   \n",
      "..           ...        ...         ...           ...           ...   \n",
      "184          0.0        0.0    0.001156      0.000000      0.000000   \n",
      "185          0.0        0.0    0.000000      0.001275      0.000048   \n",
      "186          0.0        0.0    0.000000      0.000048      0.008774   \n",
      "187          0.0        0.0    0.000000      0.000000      0.000000   \n",
      "188          0.0        0.0    0.000000      0.000000      0.000116   \n",
      "\n",
      "     liwc_OtherP  topic_nr  \n",
      "0       0.000002  0.000000  \n",
      "1       0.000000  0.000000  \n",
      "2       0.000000  0.000000  \n",
      "3       0.000000  0.000000  \n",
      "4       0.000039  0.000000  \n",
      "..           ...       ...  \n",
      "184     0.000000  0.000000  \n",
      "185     0.000000  0.000000  \n",
      "186     0.000000  0.000116  \n",
      "187     0.000485  0.000000  \n",
      "188     0.000000  0.003637  \n",
      "\n",
      "[189 rows x 189 columns]\n"
     ]
    }
   ],
   "source": [
    "import pandas as pd\n",
    "interactions = pd.read_csv(\"../datasets/shap_interaction_values.csv\")\n",
    "column_names = interactions.columns.to_list()\n",
    "print(interactions)\n",
    "\n"
   ]
  },
  {
   "cell_type": "markdown",
   "metadata": {},
   "source": []
  },
  {
   "cell_type": "code",
   "execution_count": 6,
   "metadata": {},
   "outputs": [
    {
     "name": "stdout",
     "output_type": "stream",
     "text": [
      "                                    featureCombination  interaction\n",
      "173        liwc_female X writing_sty_focus_i_poss_norm     0.002079\n",
      "40         writing_sty_focus_i_poss_norm X liwc_female     0.002079\n",
      "186   liwc_female X writing_sty_self_anticipation_norm     0.001931\n",
      "53    writing_sty_self_anticipation_norm X liwc_female     0.001931\n",
      "250                          liwc_female X liwc_negate     0.001890\n",
      "117                          liwc_negate X liwc_female     0.001890\n",
      "370                            liwc_Dash X liwc_female     0.001874\n",
      "315                            liwc_female X liwc_Dash     0.001874\n",
      "240                              liwc_female X liwc_we     0.001838\n",
      "107                              liwc_we X liwc_female     0.001838\n",
      "97                            liwc_Clout X liwc_female     0.001724\n",
      "230                           liwc_female X liwc_Clout     0.001724\n",
      "235                             liwc_female X liwc_Dic     0.001407\n",
      "102                             liwc_Dic X liwc_female     0.001407\n",
      "128                           liwc_anger X liwc_female     0.001391\n",
      "261                           liwc_female X liwc_anger     0.001391\n",
      "298                            liwc_female X liwc_home     0.001380\n",
      "353                            liwc_home X liwc_female     0.001380\n",
      "54        writing_sty_self_positive_norm X liwc_female     0.001256\n",
      "187       liwc_female X writing_sty_self_positive_norm     0.001256\n",
      "297                         liwc_female X liwc_leisure     0.001237\n",
      "352                         liwc_leisure X liwc_female     0.001237\n",
      "24               writing_sty_active_norm X liwc_female     0.001227\n",
      "157              liwc_female X writing_sty_active_norm     0.001227\n",
      "211  liwc_female X foundations_07                  ...     0.001194\n",
      "78   foundations_07                    AuthorityVir...     0.001194\n",
      "330                             liwc_see X liwc_female     0.001190\n",
      "275                             liwc_female X liwc_see     0.001190\n",
      "284                     liwc_female X liwc_affiliation     0.001183\n",
      "339                     liwc_affiliation X liwc_female     0.001183\n"
     ]
    }
   ],
   "source": [
    "d = {'featureCombination': [], 'interaction': []}\n",
    "\n",
    "\n",
    "for index, row in interactions.iterrows():\n",
    "    for i in range(len(column_names)):\n",
    "        row_name = column_names[index]\n",
    "        column_name = column_names[i]\n",
    "        if i != index and (row_name==\"liwc_female\" or column_name==\"liwc_female\"):\n",
    "            d[\"featureCombination\"].append(row_name+\" X \"+column_name)\n",
    "            d[\"interaction\"].append(row[column_names[i]]*2)\n",
    "\n",
    "df_feature_interaction = pd.DataFrame(data=d)    \n",
    "df_feature_interaction = df_feature_interaction.sort_values(by=[\"interaction\"],ascending=False)\n",
    "print(df_feature_interaction.head(30))"
   ]
  },
  {
   "cell_type": "markdown",
   "metadata": {},
   "source": [
    "## Difference in Sampling techniques used in Study 2a & 2b"
   ]
  },
  {
   "cell_type": "code",
   "execution_count": 4,
   "metadata": {},
   "outputs": [
    {
     "data": {
      "text/plain": [
       "array([[<AxesSubplot:title={'center':'writing_sty_focus_i_poss_norm'}>,\n",
       "        <AxesSubplot:title={'center':'liwc_female'}>]], dtype=object)"
      ]
     },
     "execution_count": 4,
     "metadata": {},
     "output_type": "execute_result"
    },
    {
     "data": {
      "image/png": "[encoded data removed]",
      "text/plain": [
       "<Figure size 432x288 with 2 Axes>"
      ]
     },
     "metadata": {
      "needs_background": "light"
     },
     "output_type": "display_data"
    }
   ],
   "source": [
    "df.hist(bins=100)"
   ]
  },
  {
   "cell_type": "code",
   "execution_count": 7,
   "metadata": {},
   "outputs": [
    {
     "name": "stdout",
     "output_type": "stream",
     "text": [
      "kurt\n",
      " writing_sty_focus_i_poss_norm    1.980222\n",
      "liwc_female                     -0.004911\n",
      "dtype: float64\n",
      "skew\n",
      " writing_sty_focus_i_poss_norm    1.045527\n",
      "liwc_female                      0.822716\n",
      "dtype: float64\n"
     ]
    }
   ],
   "source": [
    "print(\"kurt\\n\",df.kurt())\n",
    "print(\"skew\\n\",df.skew())"
   ]
  },
  {
   "cell_type": "code",
   "execution_count": null,
   "metadata": {},
   "outputs": [],
   "source": []
  }
 ],
 "metadata": {
  "interpreter": {
   "hash": "916dbcbb3f70747c44a77c7bcd40155683ae19c65e1c03b4aa3499c5328201f1"
  },
  "kernelspec": {
   "display_name": "Python 3.8.10 64-bit",
   "language": "python",
   "name": "python3"
  },
  "language_info": {
   "codemirror_mode": {
    "name": "ipython",
    "version": 3
   },
   "file_extension": ".py",
   "mimetype": "text/x-python",
   "name": "python",
   "nbconvert_exporter": "python",
   "pygments_lexer": "ipython3",
   "version": "3.8.10"
  },
  "orig_nbformat": 4
 },
 "nbformat": 4,
 "nbformat_minor": 2
}
