{
 "cells": [
  {
   "cell_type": "code",
   "execution_count": 2,
   "metadata": {},
   "outputs": [],
   "source": [
    "import pandas as pd\n",
    "import numpy as np\n",
    "from sklearn import preprocessing\n",
    "import scipy"
   ]
  },
  {
   "cell_type": "code",
   "execution_count": 3,
   "metadata": {},
   "outputs": [],
   "source": [
    "def get_data_classes(df, acros, ratio=0.5, verbose=False, predict=\"class\", judgement_weighted=True, mapping=\"clip\"):\n",
    "    if verbose:\n",
    "        print(f\"df original shape {df.shape}\")\n",
    "        \n",
    "    n_rows_old = len(df)\n",
    "    \n",
    "    # Map negative judgements to opposing judgement\n",
    "    # i.e. YTA<->NTA, ESH<->NAH\n",
    "    if judgement_weighted:\n",
    "        df = map_negative_values(df, acros,mapping=mapping)\n",
    "    \n",
    "    if predict==\"class\": \n",
    "        print(\"CLASS\")  \n",
    "        # We only look at YTA and NTA\n",
    "        df[\"YTA_ratio\"] = df[acros[\"yta\"]]/(df[acros[\"info\"]]+ df[acros[\"yta\"]]+ df[acros[\"nah\"]]+df[acros[\"esh\"]]+df[acros[\"nta\"]])\n",
    "\n",
    "        # drop all rows where the majority is not YTA or NTA\n",
    "        df = df.loc[((df[acros[\"yta\"]] > df[acros[\"info\"]]) & (df[acros[\"yta\"]] > df[acros[\"nah\"]]) & (df[acros[\"yta\"]] > df[acros[\"esh\"]])) | ((df[acros[\"nta\"]] > df[acros[\"info\"]]) & (df[acros[\"nta\"]] > df[acros[\"nah\"]]) & (df[\"reactions_weighted_NTA\"] > df[acros[\"esh\"]]))]\n",
    "        if verbose:\n",
    "            print(f\"Drop all rows where majority is not YTA or NTA {df.shape}\")\n",
    "\n",
    "        #drop all rows that are not \"extreme\" enough\n",
    "        df = df.loc[(1-ratio<=df[\"YTA_ratio\"]) | (df[\"YTA_ratio\"]<=ratio)]\n",
    "        if verbose:\n",
    "            print(f\"Removed {n_rows_old-len(df)} rows b.c. not enough agreement. Now {df.shape}\")\n",
    "\n",
    "        #specifc classes & drop unnecesarry\n",
    "        df[\"Y\"] = np.where(df[acros[\"yta\"]] > df[acros[\"nta\"]], 1,  0) # YTA = Class 1, NTA = class 0\n",
    "        if verbose:\n",
    "            print(df.shape)\n",
    "            \n",
    "    elif predict == \"ratio\":\n",
    "        print(\"RATIO\")\n",
    "        # Y = asshole ratio(AHR) = (YTA+ESH)/(YTA+ESH+NTA+NAH)\n",
    "        \n",
    "        for acr in acros:\n",
    "            min = df[acros[acr]].min()\n",
    "            if min < 0:\n",
    "                print(f\"{acr} min = {min}\")\n",
    "                \n",
    "        df[\"Y\"] = (df[acros[\"yta\"]]+df[acros[\"esh\"]])/(df[acros[\"yta\"]]+ df[acros[\"nah\"]]+df[acros[\"esh\"]]+df[acros[\"nta\"]])\n",
    "        \n",
    "        #drop NAs & infty\n",
    "        df = df.replace([np.inf, -np.inf], np.nan)\n",
    "        df = df.dropna(subset=[\"Y\"])\n",
    "        if verbose:\n",
    "           print(f\"Removed {n_rows_old-len(df)} rows b.c. no votes. Now {df.shape}\")\n",
    "        n_rows_old = len(df)\n",
    "        df = df.loc[(1-ratio<=df[\"Y\"]) | (df[\"Y\"]<=ratio)]\n",
    "        if verbose:\n",
    "            print(f\"Removed {n_rows_old-len(df)} rows b.c. not enough agreement. Now {df.shape}\")\n",
    "        \n",
    "    y = df[[\"post_id\", \"Y\"]]\n",
    "    return y\n",
    "     \n",
    "        \n",
    "    ###left as is\n",
    "    # get list of all columns that contain uppercase vote acronym\n",
    "    vote_acroynms = list(filter(lambda x: any([acr.upper() in x for acr in list(acros.keys())]), list(df.columns)))  \n",
    "    df = df.drop(columns=vote_acroynms)\n",
    "    \n",
    "    cols_to_drop =  [\"post_text\", \"post_id\", \"post_created_utc\"] \n",
    "    for col in cols_to_drop:\n",
    "        if col in list(df.columns):\n",
    "            df = df.drop(columns=[col])\n",
    "        \n",
    "    #print(df.info(memory_usage=\"deep\"))\n",
    "\n",
    "    # Removing top 4 most important features leads to 0.66 f1\n",
    "    #df = df.drop(columns=[\"speaker_account_comment_karma\", \"post_num_comments\", \"speaker_account_link_karma\", \"speaker_account_age\"])\n",
    "    if verbose:\n",
    "        print(df.shape)\n",
    "    \n",
    "    X = df.drop(columns=[\"Y\"])\n",
    "    y = df[\"Y\"].to_numpy()\n",
    "\n",
    "    feat_name_lst = list(X.columns)\n",
    "\n",
    "    # scaling\n",
    "    scaler = preprocessing.StandardScaler().fit(X)\n",
    "    X_scaled = scaler.transform(X)\n",
    "    return X_scaled, y, feat_name_lst  \n",
    "\n",
    "def map_negative_values(df, acros, mapping=\"clip\"):\n",
    "    \n",
    "    if mapping == \"opposite\" or mapping ==\"map\":\n",
    "        print(\"Map = opposite\")    \n",
    "        for k in acros.keys():\n",
    "            acr = acros[k]\n",
    "            #print(f\"{acr} pos amount {len(df.loc[df[acr] > 0])}\")\n",
    "            #print(f\"{acr} neg amount {len(df.loc[df[acr] < 0])}\")\n",
    "            \n",
    "            \n",
    "            if k == \"info\":\n",
    "                continue\n",
    "            \n",
    "            # create temporary columns containing zeros and only negative votes for each vote type (except info)        \n",
    "            df[acr+\"_neg_vals\"] = 0\n",
    "            df.loc[df[acr] < 0, acr+\"_neg_vals\"] = df[acr]*-1\n",
    "            df.loc[df[acr] < 0, acr] = 0\n",
    "            \n",
    "        for k in acros.keys():\n",
    "            if k == \"info\":\n",
    "                continue\n",
    "            acr = acros[k]\n",
    "            #set negative values to 0 & add opposite judgement vote \n",
    "            df[acr] = df[acr] + df[opposite_jdgmt(acr)]\n",
    "           \n",
    "    elif mapping ==\"clip\":\n",
    "        print(\"Map = clip\")    \n",
    "        for k in acros.keys():\n",
    "            acr = acros[k]\n",
    "            df.loc[df[acr]<0,acr]=0\n",
    "        \n",
    "            \n",
    "    # finally set all negative info votes to 0\n",
    "    #df[df[acros[\"info\"]] < 0] = 0\n",
    "    \n",
    "    #print(\"info sum\", df[acros[\"info\"]].min())\n",
    "    \n",
    "    return df\n",
    "\n",
    "def opposite_jdgmt(judg):\n",
    "    \n",
    "    if \"NTA\" in judg  :\n",
    "        rtn =  judg.replace(\"NTA\",\"YTA\")\n",
    "    elif \"NAH\" in judg:\n",
    "        rtn =  judg.replace(\"NAH\",\"ESH\")\n",
    "    elif \"YTA\" in judg:\n",
    "        rtn =  judg.replace(\"YTA\",\"NTA\")\n",
    "    elif \"ESH\" in judg:\n",
    "        rtn =  judg.replace(\"ESH\",\"NAH\")\n",
    "    elif \"INFO\" in judg:\n",
    "        rtn = judg\n",
    "    \n",
    "    return rtn+\"_neg_vals\"\n",
    "\n",
    "def load_wo_cols(path, remove_cols=[],verbose=False):\n",
    "    cols_to_remove = [\"post_text\", \"Unnamed: 0\", \"Unnamed: 1\", \"Unnamed: 2\", \"Unnamed: 0.1\", \n",
    "                      \"Unnamed: 0.1.1\", \"liwc_post_id\", \"foundations_post_id\", \n",
    "                      \"foundations_title_post_id\", \"liwc_title_post_id\", \"post_created_utc\"]+remove_cols\n",
    "    removed = []\n",
    "    df = pd.read_csv(path, nrows=10)\n",
    "    cols_to_read = list(df.columns)\n",
    "    \n",
    "    if verbose:\n",
    "        print(cols_to_read)\n",
    "    for col in cols_to_remove:\n",
    "        if col in cols_to_read:\n",
    "            cols_to_read.remove(col)\n",
    "            removed.append(col)\n",
    "    \n",
    "    print(f\"Removed {removed} from {path.split('/')[-1]}\")        \n",
    "    df = pd.read_csv(path, usecols=cols_to_read)\n",
    "    return df"
   ]
  },
  {
   "cell_type": "code",
   "execution_count": 4,
   "metadata": {},
   "outputs": [
    {
     "name": "stdout",
     "output_type": "stream",
     "text": [
      "Removed ['Unnamed: 0', 'Unnamed: 0.1.1', 'liwc_post_id', 'foundations_post_id'] from prepend_complete.csv\n"
     ]
    },
    {
     "name": "stderr",
     "output_type": "stream",
     "text": [
      "/tmp/ipykernel_6286/4036007561.py:3: DtypeWarning: Columns (241,242) have mixed types.Specify dtype option on import or set low_memory=False.\n",
      "  df1 = load_wo_cols(\"../datasets/prepend_complete.csv\")\n"
     ]
    },
    {
     "name": "stdout",
     "output_type": "stream",
     "text": [
      "Removed ['Unnamed: 0', 'Unnamed: 0.1.1', 'liwc_post_id', 'foundations_post_id'] from prepend_complete.csv\n"
     ]
    },
    {
     "name": "stderr",
     "output_type": "stream",
     "text": [
      "/tmp/ipykernel_6286/4036007561.py:4: DtypeWarning: Columns (241,242) have mixed types.Specify dtype option on import or set low_memory=False.\n",
      "  df2 = load_wo_cols(\"../datasets/prepend_complete.csv\")\n"
     ]
    },
    {
     "name": "stdout",
     "output_type": "stream",
     "text": [
      "Map = clip\n",
      "RATIO\n",
      "Map = opposite\n",
      "RATIO\n",
      "info min = -294\n"
     ]
    }
   ],
   "source": [
    "#df1 = load_wo_cols(\"/mnt/g/My Drive/Msc/Thesis/Coding/dataset_output/prepend_scores_no_utc.csv\")\n",
    "#df2 = load_wo_cols(\"/mnt/g/My Drive/Msc/Thesis/Coding/dataset_output/prepend_scores_no_utc.csv\")\n",
    "df1 = load_wo_cols(\"../datasets/prepend_complete.csv\")\n",
    "df2 = load_wo_cols(\"../datasets/prepend_complete.csv\")\n",
    "\n",
    "keys = [\"info\", \"yta\", \"nah\", \"esh\", \"nta\"]\n",
    "weight = \"weighted_\" if True else \"\"\n",
    "values = [\"reactions_\"+weight+k.upper() for k in keys]\n",
    "acros = dict(zip(keys, values))\n",
    "    \n",
    "y_clip = get_data_classes(df1, acros, predict=\"ratio\", mapping=\"clip\")\n",
    "y_map = get_data_classes(df2, acros, predict=\"ratio\", mapping=\"opposite\")"
   ]
  },
  {
   "cell_type": "code",
   "execution_count": 5,
   "metadata": {},
   "outputs": [
    {
     "name": "stdout",
     "output_type": "stream",
     "text": [
      "Index(['post_id', 'Y_clip', 'Y_map'], dtype='object')\n"
     ]
    }
   ],
   "source": [
    "y_merged =  y_clip.merge(y_map, left_on=\"post_id\", right_on=\"post_id\", validate=\"1:1\",suffixes=('_clip', '_map'))\n",
    "print(y_merged.columns)"
   ]
  },
  {
   "cell_type": "code",
   "execution_count": 10,
   "metadata": {},
   "outputs": [
    {
     "name": "stdout",
     "output_type": "stream",
     "text": [
      "Pearson R (0.9985971406468636, 0.0)\n"
     ]
    },
    {
     "data": {
      "image/png": "[encoded data removed]",
      "text/plain": [
       "<Figure size 432x288 with 1 Axes>"
      ]
     },
     "metadata": {
      "needs_background": "light"
     },
     "output_type": "display_data"
    }
   ],
   "source": [
    "import matplotlib.pyplot as plt\n",
    "clp = y_merged[\"Y_clip\"]\n",
    "mp = y_merged[\"Y_map\"]\n",
    "\n",
    "plt.scatter(mp, clp, s=0.6)\n",
    "plt.ylabel(\"Clip\")\n",
    "plt.xlabel(\"Map\")\n",
    "print(f\"Pearson R {scipy.stats.pearsonr(mp,clp)}\")"
   ]
  },
  {
   "cell_type": "code",
   "execution_count": 11,
   "metadata": {},
   "outputs": [
    {
     "data": {
      "image/png": "[encoded data removed]",
      "text/plain": [
       "<Figure size 432x288 with 1 Axes>"
      ]
     },
     "metadata": {
      "needs_background": "light"
     },
     "output_type": "display_data"
    }
   ],
   "source": [
    "n, bins, patches = plt.hist(mp, 100, facecolor='red', alpha=0.5)\n",
    "plt.title(\"Histogram of Y values map\")\n",
    "plt.show()"
   ]
  },
  {
   "cell_type": "code",
   "execution_count": 12,
   "metadata": {},
   "outputs": [
    {
     "data": {
      "image/png": "[encoded data removed]",
      "text/plain": [
       "<Figure size 432x288 with 1 Axes>"
      ]
     },
     "metadata": {
      "needs_background": "light"
     },
     "output_type": "display_data"
    }
   ],
   "source": [
    "n, bins, patches = plt.hist(clp, 100, facecolor='purple', alpha=0.5)\n",
    "plt.title(\"Histogram of Y values clip\")\n",
    "plt.show()"
   ]
  },
  {
   "cell_type": "code",
   "execution_count": 9,
   "metadata": {},
   "outputs": [
    {
     "name": "stdout",
     "output_type": "stream",
     "text": [
      "   post_id    Y_clip     Y_map\n",
      "0   cpk7ui  0.000000  0.000000\n",
      "1   cpk7vf  0.583333  0.583333\n",
      "2   cpk8j1  0.000000  0.000000\n",
      "3   cpk9i3  0.000000  0.000000\n",
      "4   cpkaaq  0.000000  0.000000\n",
      "5   cpkb40  0.000000  0.000000\n",
      "6   cpkcqf  0.000000  0.000000\n",
      "7   cpkd35  0.000000  0.000000\n",
      "8   cpke5g  0.000000  0.000000\n",
      "9   cpkfnt  0.000000  0.000000\n",
      "10  cpkgbt  0.000000  0.000000\n",
      "11  cpkgf9  0.000000  0.000000\n",
      "12  cpkjai  0.000000  0.000000\n",
      "13  cpkjld  0.000000  0.000000\n",
      "14  cpkkcq  0.000000  0.000000\n",
      "15  cpklda  0.636364  0.636364\n",
      "16  cpkmgs  0.000000  0.000000\n",
      "17  cpkmrt  0.000000  0.000000\n",
      "18  cpko86  0.000000  0.000000\n",
      "19  cpkp51  0.000000  0.000000\n",
      "20  cpkpl9  0.000000  0.000000\n",
      "21  cpkq7y  0.000000  0.000000\n",
      "22  cpkr7c  0.000000  0.000000\n",
      "23  cpks5g  0.000000  0.000000\n",
      "24  cpktvk  0.000000  0.000000\n",
      "25  cpku07  0.000000  0.000000\n",
      "26  cpkvr7  0.000000  0.000000\n",
      "27  cpkwwb  0.000000  0.000000\n",
      "28  cpkyd2  0.500000  0.500000\n",
      "29  cpkzbc  0.000000  0.000000\n",
      "30  cpl234  0.000000  0.000000\n",
      "31  cpl2ud  0.000000  0.000000\n",
      "32  cpl41l  0.000000  0.000000\n",
      "33  cpl55q  0.111111  0.111111\n",
      "34  cpl6n1  0.000000  0.000000\n",
      "35  cpl74f  0.000000  0.000000\n",
      "36  cpl82p  0.000000  0.000000\n",
      "37  cpl8no  0.000000  0.000000\n",
      "38  cpl9a0  0.000000  0.000000\n",
      "39  cplay6  0.000000  0.000000\n",
      "40  cplcv5  0.000000  0.000000\n",
      "41  cple1o  0.000000  0.000000\n",
      "42  cplf8f  0.000000  0.000000\n",
      "43  cplgv8  0.000000  0.000000\n",
      "44  cplhzl  0.000000  0.000000\n",
      "45  cpliv8  0.000000  0.000000\n",
      "46  cplizg  0.988095  0.988095\n",
      "47  cplj7s  0.000000  0.000000\n",
      "48  cplj94  0.000000  0.000000\n",
      "49  cplkoz  0.000000  0.000000\n",
      "50  cplm4j  0.000000  0.000000\n",
      "51  cplmuc  0.000000  0.000000\n",
      "52  cplpqm  0.000000  0.000000\n",
      "53  cplrh8  0.000000  0.000000\n",
      "54  cplsze  1.000000  1.000000\n",
      "55  cplugz  0.000000  0.000000\n",
      "56  cplv1r  0.000000  0.000000\n",
      "57  cplwi9  0.000000  0.000000\n",
      "58  cplwz0  0.000000  0.000000\n",
      "59  cplxdv  0.000000  0.000000\n",
      "60  cplxkq  0.000000  0.000000\n",
      "61  cplxye  0.000000  0.000000\n",
      "62  cplyhs  0.000000  0.000000\n",
      "63  cplz7u  0.000000  0.000000\n",
      "64  cpm0wp  0.113208  0.113208\n",
      "65  cpm13w  0.000000  0.000000\n",
      "66  cpm2cy  0.000000  0.000000\n",
      "67  cpm6gh  0.000000  0.000000\n",
      "68  cpm7yd  0.000000  0.000000\n",
      "69  cpmd7y  0.000000  0.000000\n",
      "70  cpmdw9  1.000000  1.000000\n",
      "71  cpmdws  0.000000  0.000000\n",
      "72  cpmg9a  0.000000  0.000000\n",
      "73  cpmh3h  0.000000  0.000000\n",
      "74  cpmhhl  0.000000  0.000000\n",
      "75  cpmhnw  0.000000  0.000000\n",
      "76  cpmkbn  0.000000  0.000000\n",
      "77  cpmkiw  0.000000  0.000000\n",
      "78  cpmkqs  0.000000  0.000000\n",
      "79  cpmlrn  1.000000  1.000000\n",
      "80  cpmm0y  0.000000  0.000000\n",
      "81  cpmmfm  0.000000  0.000000\n",
      "82  cpmq2c  0.000000  0.000000\n",
      "83  cpmre7  0.571429  0.571429\n",
      "84  cpmt6v  0.000000  0.000000\n",
      "85  cpmutk  0.000000  0.000000\n",
      "86  cpmvdq  0.000000  0.000000\n",
      "87  cpmxhm  0.000000  0.000000\n",
      "88  cpmxi8  0.000000  0.000000\n",
      "89  cpmyfw  0.000000  0.000000\n",
      "90  cpn0yo  0.000000  0.000000\n",
      "91  cpn1n6  0.000000  0.000000\n",
      "92  cpn395  0.000000  0.000000\n",
      "93  cpn4v9  0.000000  0.000000\n",
      "94  cpn60s  0.000000  0.000000\n",
      "95  cpn67z  0.000000  0.000000\n",
      "96  cpnah2  0.000000  0.000000\n",
      "97  cpnc8r  0.000000  0.000000\n",
      "98  cpndno  0.000000  0.000000\n",
      "99  cpneiz  0.000000  0.000000\n"
     ]
    }
   ],
   "source": [
    "print(y_merged.head(100).to_string())"
   ]
  },
  {
   "cell_type": "code",
   "execution_count": null,
   "metadata": {},
   "outputs": [],
   "source": []
  }
 ],
 "metadata": {
  "interpreter": {
   "hash": "916dbcbb3f70747c44a77c7bcd40155683ae19c65e1c03b4aa3499c5328201f1"
  },
  "kernelspec": {
   "display_name": "Python 3.8.10 64-bit",
   "language": "python",
   "name": "python3"
  },
  "language_info": {
   "codemirror_mode": {
    "name": "ipython",
    "version": 3
   },
   "file_extension": ".py",
   "mimetype": "text/x-python",
   "name": "python",
   "nbconvert_exporter": "python",
   "pygments_lexer": "ipython3",
   "version": "3.8.10"
  },
  "orig_nbformat": 4
 },
 "nbformat": 4,
 "nbformat_minor": 2
}
