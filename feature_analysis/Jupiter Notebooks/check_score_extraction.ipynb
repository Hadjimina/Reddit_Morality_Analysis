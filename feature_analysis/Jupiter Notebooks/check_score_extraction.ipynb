{
 "cells": [
  {
   "cell_type": "code",
   "execution_count": 3,
   "metadata": {},
   "outputs": [
    {
     "name": "stdout",
     "output_type": "stream",
     "text": [
      "        post_id comment_id                                       comment_text  \\\n",
      "0        1fy0bx    cagbfr9            I agree with you, she is kind of bitchy   \n",
      "1        1ytr72    cfnodlm  Seems like you have a genuine reason to be ups...   \n",
      "2        1ytr72    cfnqml2  It might be better to give them more detailed ...   \n",
      "3        1ytr72    cfnsn9i  It sounds a tad harsh. I'm not in your shoes s...   \n",
      "4        1ytr72    cfnshhs  Nope.  As far as I can see, the most this coul...   \n",
      "...         ...        ...                                                ...   \n",
      "2621753  nxd3kh    h1e1816  ESH. It sounds like you’re being unreasonable ...   \n",
      "2621754  nxd3kh    h1e7x9u  I'm going against the grain here, NTA, but I t...   \n",
      "2621755  nxd3kh    h1e0bvc  ^^^^AUTOMOD  ***The following is a copy of the...   \n",
      "2621756  nxd3kh    h1e40zs  ask him to stop touching you. he's 18, you're ...   \n",
      "2621757  nxd3kh    h1e91rq  I want to say YTA but NTA really.\\nThe problem...   \n",
      "\n",
      "        comment_author_id  comment_score  comment_created_utc  \\\n",
      "0                   89xn8              1         1.370917e+09   \n",
      "1                   8o8zh             35         1.393275e+09   \n",
      "2                   9gggm              8         1.393280e+09   \n",
      "3                   5jxv1              3         1.393284e+09   \n",
      "4                   a1x7h              2         1.393284e+09   \n",
      "...                   ...            ...                  ...   \n",
      "2621753          4eqym8g9             -3         1.623409e+09   \n",
      "2621754          2jfh7jdt              0         1.623414e+09   \n",
      "2621755             6l4z3              1         1.623409e+09   \n",
      "2621756          bmt6twwq             -2         1.623411e+09   \n",
      "2621757          6hqbi79a             -1         1.623415e+09   \n",
      "\n",
      "        comment_was_edited  \n",
      "0                    False  \n",
      "1                    False  \n",
      "2                    False  \n",
      "3                    False  \n",
      "4                    False  \n",
      "...                    ...  \n",
      "2621753              False  \n",
      "2621754              False  \n",
      "2621755              False  \n",
      "2621756              False  \n",
      "2621757              False  \n",
      "\n",
      "[2621758 rows x 7 columns]\n"
     ]
    }
   ],
   "source": [
    "import pandas as pd\n",
    "\n",
    "posts_to_get = [\"eq3k7y\",\"mj8a47\",\"gcmhy1\",\"kcf1e0\",\"bs50ps\",\"gcti52\",\"cmkl5l\",\"bd0ww1\",\"b6uiz7\",\"bt8mm5\",\"blexov\",\"aos6vn\",\"hv6xro\",\"ggyb2v\",\"b1cbcz\",\"dn6075\",\"bu2kf5\",\"hql2q4\",\"cjudzm\",\"j0do3l\"]\n",
    "df = pd.read_csv(\"../datasets/comments_cleaned_16_07_2021.csv\")\n",
    "score_vals = df[df['post_id'].isin(posts_to_get)][[\"post_id\", \"comment_id\", \"comment_score\", \"comment_text\"]]\n",
    "score_vals.to_excel(\"comments.xlsx\")\n"
   ]
  },
  {
   "cell_type": "code",
   "execution_count": null,
   "metadata": {},
   "outputs": [],
   "source": []
  }
 ],
 "metadata": {
  "interpreter": {
   "hash": "916dbcbb3f70747c44a77c7bcd40155683ae19c65e1c03b4aa3499c5328201f1"
  },
  "kernelspec": {
   "display_name": "Python 3.8.10 64-bit",
   "language": "python",
   "name": "python3"
  },
  "language_info": {
   "codemirror_mode": {
    "name": "ipython",
    "version": 3
   },
   "file_extension": ".py",
   "mimetype": "text/x-python",
   "name": "python",
   "nbconvert_exporter": "python",
   "pygments_lexer": "ipython3",
   "version": "3.8.10"
  },
  "orig_nbformat": 4
 },
 "nbformat": 4,
 "nbformat_minor": 2
}
