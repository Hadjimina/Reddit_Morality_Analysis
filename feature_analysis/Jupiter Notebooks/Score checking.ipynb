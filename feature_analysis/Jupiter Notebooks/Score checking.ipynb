{
 "cells": [
  {
   "cell_type": "code",
   "execution_count": 1,
   "metadata": {},
   "outputs": [
    {
     "name": "stdout",
     "output_type": "stream",
     "text": [
      "Removed ['Unnamed: 0'] from prepend_mf_liwc_angel_info_topic_scores_reactions_reduced.csv\n",
      "Removed ['post_text', 'Unnamed: 0'] from prepend_scores_no_utc.csv\n"
     ]
    },
    {
     "name": "stderr",
     "output_type": "stream",
     "text": [
      "/tmp/ipykernel_9001/226518529.py:26: DtypeWarning: Columns (117,118) have mixed types.Specify dtype option on import or set low_memory=False.\n",
      "  df_old = load_wo_cols(\"/mnt/g/My Drive/Msc/Thesis/Coding/dataset_output/prepend_scores_no_utc.csv\")\n"
     ]
    },
    {
     "name": "stdout",
     "output_type": "stream",
     "text": [
      "(618203, 244)\n",
      "(618203, 242)\n"
     ]
    }
   ],
   "source": [
    "import pandas as pd\n",
    "def load_wo_cols(path, remove_cols=[],verbose=False):\n",
    "    cols_to_remove = [\"post_text\", \"Unnamed: 0\", \"Unnamed: 1\", \"Unnamed: 2\", \"Unnamed: 0.1\", \n",
    "                      \"Unnamed: 0.1.1\", \"liwc_post_id\", \"foundations_post_id\", \n",
    "                      \"foundations_title_post_id\", \"liwc_title_post_id\", \"post_created_utc\"]+remove_cols\n",
    "    removed = []\n",
    "    df = pd.read_csv(path, nrows=10)\n",
    "    cols_to_read = list(df.columns)\n",
    "    #cols_to_read = list(filter(lambda x: \"post_id\"in x or \"reactions_\" in x and not \"reactions_is\" in x, cols_to_read))\n",
    "    #print(list(filter(lambda x: \"reaction\" in x, cols_to_read)))\n",
    "    #cols_to_read = [\"reactions_is_devil\", \"reactions_is_angel\",\"post_id\"]\n",
    "    if verbose:\n",
    "        print(cols_to_read)\n",
    "    for col in cols_to_remove:\n",
    "        if col in cols_to_read:\n",
    "            cols_to_read.remove(col)\n",
    "            removed.append(col)\n",
    "    \n",
    "    print(f\"Removed {removed} from {path.split('/')[-1]}\")        \n",
    "    df = pd.read_csv(path, usecols=cols_to_read)\n",
    "    return df\n",
    "\n",
    "#cols_to_read = [\"post_id\", \"post_ups\", \"post_down\", \"post_ratio\", \"post_score\", \"reac\"]\n",
    "df_new = load_wo_cols(\"../../feature_analysis/datasets/prepend_mf_liwc_angel_info_topic_scores_reactions_reduced.csv\")\n",
    "#df_new_standalone = load_wo_cols(\"../../feature_analysis/datasets/standalone_liwc_mf_angel_info_topic_scores.csv\")\n",
    "df_old = load_wo_cols(\"/mnt/g/My Drive/Msc/Thesis/Coding/dataset_output/prepend_scores_no_utc.csv\")\n",
    "\n",
    "print(df_old.shape)\n",
    "print(df_new.shape)\n",
    "#print(df_new.columns)"
   ]
  },
  {
   "cell_type": "code",
   "execution_count": 7,
   "metadata": {},
   "outputs": [],
   "source": [
    "#df_new.to_csv(\"/mnt/g/My Drive/Msc/Thesis/Coding/dataset_output/intermediate/helpers/id_to_reactions_new.csv\", index=False)\n",
    "df_old.to_csv(\"/mnt/g/My Drive/Msc/Thesis/Coding/dataset_output/intermediate/helpers/id_to_da.csv\", index=False)"
   ]
  },
  {
   "cell_type": "code",
   "execution_count": 4,
   "metadata": {},
   "outputs": [
    {
     "name": "stdout",
     "output_type": "stream",
     "text": [
      "reactions_YTA\n",
      "reactions_NTA\n",
      "reactions_INFO\n",
      "reactions_ESH\n",
      "reactions_NAH\n",
      "reactions_weighted_YTA\n",
      "reactions_weighted_NTA\n",
      "reactions_weighted_INFO\n",
      "reactions_weighted_ESH\n",
      "reactions_weighted_NAH\n",
      "post_num_comments\n",
      "post_score\n",
      "post_ups\n",
      "post_downs\n",
      "post_ratio\n",
      "post_ratio NOT same score ((490722.2100000004, 490722.20999999985))\n"
     ]
    }
   ],
   "source": [
    "for col in list(df_new.columns):\n",
    "    if col != \"post_id\":\n",
    "        print(col)\n",
    "        if df_new[col].sum() != df_new_standalone[col].sum():\n",
    "            print(f\"{col} NOT same score ({df_new[col].sum(),df_new_standalone[col].sum()})\")"
   ]
  },
  {
   "cell_type": "markdown",
   "metadata": {},
   "source": [
    "### Replace reactions with old ones"
   ]
  },
  {
   "cell_type": "code",
   "execution_count": 1,
   "metadata": {},
   "outputs": [
    {
     "name": "stdout",
     "output_type": "stream",
     "text": [
      "False\n",
      "Removed [] from prepend_mf_liwc_angel_info_topic_scores_reduced.csv\n",
      "Removed [] from id_to_reactions_old.csv\n",
      "(618203, 232)\n",
      "(618203, 242)\n"
     ]
    }
   ],
   "source": [
    "import pandas as pd\n",
    "def load_wo_cols(path, remove_cols=[],verbose=False, excl=False):\n",
    "    cols_to_remove = [\"post_text\", \"Unnamed: 0\", \"Unnamed: 1\", \"Unnamed: 2\", \"Unnamed: 0.1\", \n",
    "                      \"Unnamed: 0.1.1\", \"liwc_post_id\", \"foundations_post_id\", \n",
    "                      \"foundations_title_post_id\", \"liwc_title_post_id\", \"post_created_utc\"]+remove_cols\n",
    "    removed = []\n",
    "    df = pd.read_csv(path, nrows=10)\n",
    "    cols_to_read = list(df.columns)\n",
    "    if excl:\n",
    "        cols_to_read = list(filter(lambda x: \"reaction_is\" in x or not \"reaction\" in x, cols_to_read))\n",
    "        print(\"reaction_YTA\" in cols_to_read)\n",
    "    if verbose:\n",
    "        print(cols_to_read)\n",
    "    for col in cols_to_remove:\n",
    "        if col in cols_to_read:\n",
    "            cols_to_read.remove(col)\n",
    "            removed.append(col)\n",
    "    \n",
    "    print(f\"Removed {removed} from {path.split('/')[-1]}\")        \n",
    "    df = pd.read_csv(path, usecols=cols_to_read)\n",
    "    return df\n",
    "\n",
    "df_new = load_wo_cols(\"../../feature_analysis/datasets/prepend_mf_liwc_angel_info_topic_scores_reduced.csv\", excl=True)\n",
    "df_reactions = load_wo_cols(\"/mnt/g/My Drive/Msc/Thesis/Coding/dataset_output/intermediate/helpers/id_to_reactions_old.csv\")\n",
    "print(df_new.shape)\n",
    "df_new = df_new.merge(df_reactions, left_on=\"post_id\", right_on=\"post_id\", validate=\"1:1\",suffixes=('', '_DROP')).filter(regex='^(?!.*_DROP)')\n",
    "print(df_new.shape)"
   ]
  },
  {
   "cell_type": "code",
   "execution_count": 2,
   "metadata": {},
   "outputs": [],
   "source": [
    "df_new.to_csv(\"/mnt/g/My Drive/Msc/Thesis/Coding/dataset_output/prepend/prepend_mf_liwc_angel_info_topic_scores_reactions_reduced.csv\")"
   ]
  },
  {
   "cell_type": "code",
   "execution_count": null,
   "metadata": {},
   "outputs": [],
   "source": []
  }
 ],
 "metadata": {
  "interpreter": {
   "hash": "916dbcbb3f70747c44a77c7bcd40155683ae19c65e1c03b4aa3499c5328201f1"
  },
  "kernelspec": {
   "display_name": "Python 3.8.10 64-bit",
   "language": "python",
   "name": "python3"
  },
  "language_info": {
   "codemirror_mode": {
    "name": "ipython",
    "version": 3
   },
   "file_extension": ".py",
   "mimetype": "text/x-python",
   "name": "python",
   "nbconvert_exporter": "python",
   "pygments_lexer": "ipython3",
   "version": "3.8.10"
  },
  "orig_nbformat": 4
 },
 "nbformat": 4,
 "nbformat_minor": 2
}
