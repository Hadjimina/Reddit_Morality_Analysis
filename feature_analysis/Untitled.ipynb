{
 "cells": [
  {
   "cell_type": "code",
   "execution_count": 7,
   "id": "ebc42106",
   "metadata": {},
   "outputs": [
    {
     "data": {
      "image/png": "[encoded data removed]",
      "text/html": [
       "\n",
       "\n",
       "<style>\n",
       "\n",
       "</style>\n",
       "\n",
       "<div id=\"fig_el5341398168937371848551953082\"></div>\n",
       "<script>\n",
       "function mpld3_load_lib(url, callback){\n",
       "  var s = document.createElement('script');\n",
       "  s.src = url;\n",
       "  s.async = true;\n",
       "  s.onreadystatechange = s.onload = callback;\n",
       "  s.onerror = function(){console.warn(\"failed to load library \" + url);};\n",
       "  document.getElementsByTagName(\"head\")[0].appendChild(s);\n",
       "}\n",
       "\n",
       "if(typeof(mpld3) !== \"undefined\" && mpld3._mpld3IsLoaded){\n",
       "   // already loaded: just create the figure\n",
       "   !function(mpld3){\n",
       "       \n",
       "       mpld3.draw_figure(\"fig_el5341398168937371848551953082\", {\"width\": 288.0, \"height\": 288.0, \"axes\": [{\"bbox\": [0.0, 0.0, 1.0, 1.0], \"xlim\": [-0.6400000000000001, 4.640000000000001], \"ylim\": [0.0, 36.75], \"xdomain\": [-0.6400000000000001, 4.640000000000001], \"ydomain\": [0.0, 36.75], \"xscale\": \"linear\", \"yscale\": \"linear\", \"axes\": [{\"position\": \"bottom\", \"nticks\": 5, \"tickvalues\": null, \"tickformat_formatter\": \"\", \"tickformat\": null, \"scale\": \"linear\", \"fontsize\": 10.0, \"grid\": {\"gridOn\": false}, \"visible\": true}, {\"position\": \"left\", \"nticks\": 9, \"tickvalues\": null, \"tickformat_formatter\": \"\", \"tickformat\": null, \"scale\": \"linear\", \"fontsize\": 10.0, \"grid\": {\"gridOn\": false}, \"visible\": true}], \"axesbg\": \"#FFFFFF\", \"axesbgalpha\": null, \"zoomable\": true, \"id\": \"el534139816895432880\", \"lines\": [], \"paths\": [{\"data\": \"data01\", \"xindex\": 0, \"yindex\": 1, \"coordinates\": \"data\", \"pathcodes\": [\"M\", \"L\", \"L\", \"L\", \"Z\"], \"id\": \"el534139816892185952\", \"dasharray\": \"none\", \"alpha\": 1, \"facecolor\": \"#1F77B4\", \"edgecolor\": \"none\", \"edgewidth\": 1.0, \"zorder\": 1}, {\"data\": \"data02\", \"xindex\": 0, \"yindex\": 1, \"coordinates\": \"data\", \"pathcodes\": [\"M\", \"L\", \"L\", \"L\", \"Z\"], \"id\": \"el534139816892185664\", \"dasharray\": \"none\", \"alpha\": 1, \"facecolor\": \"#1F77B4\", \"edgecolor\": \"none\", \"edgewidth\": 1.0, \"zorder\": 1}, {\"data\": \"data03\", \"xindex\": 0, \"yindex\": 1, \"coordinates\": \"data\", \"pathcodes\": [\"M\", \"L\", \"L\", \"L\", \"Z\"], \"id\": \"el534139816891712128\", \"dasharray\": \"none\", \"alpha\": 1, \"facecolor\": \"#1F77B4\", \"edgecolor\": \"none\", \"edgewidth\": 1.0, \"zorder\": 1}, {\"data\": \"data04\", \"xindex\": 0, \"yindex\": 1, \"coordinates\": \"data\", \"pathcodes\": [\"M\", \"L\", \"L\", \"L\", \"Z\"], \"id\": \"el534139816891712656\", \"dasharray\": \"none\", \"alpha\": 1, \"facecolor\": \"#1F77B4\", \"edgecolor\": \"none\", \"edgewidth\": 1.0, \"zorder\": 1}, {\"data\": \"data05\", \"xindex\": 0, \"yindex\": 1, \"coordinates\": \"data\", \"pathcodes\": [\"M\", \"L\", \"L\", \"L\", \"Z\"], \"id\": \"el534139816891713184\", \"dasharray\": \"none\", \"alpha\": 1, \"facecolor\": \"#1F77B4\", \"edgecolor\": \"none\", \"edgewidth\": 1.0, \"zorder\": 1}], \"markers\": [], \"texts\": [], \"collections\": [], \"images\": [], \"sharex\": [], \"sharey\": []}], \"data\": {\"data01\": [[-0.4, 0.0], [0.4, 0.0], [0.4, 23.0], [-0.4, 23.0]], \"data02\": [[0.6, 0.0], [1.4, 0.0], [1.4, 17.0], [0.6, 17.0]], \"data03\": [[1.6, 0.0], [2.4000000000000004, 0.0], [2.4000000000000004, 35.0], [1.6, 35.0]], \"data04\": [[2.6, 0.0], [3.4000000000000004, 0.0], [3.4000000000000004, 29.0], [2.6, 29.0]], \"data05\": [[3.6, 0.0], [4.4, 0.0], [4.4, 12.0], [3.6, 12.0]]}, \"id\": \"el534139816893737184\", \"plugins\": [{\"type\": \"reset\"}, {\"type\": \"zoom\", \"button\": true, \"enabled\": false}, {\"type\": \"boxzoom\", \"button\": true, \"enabled\": false}]});\n",
       "   }(mpld3);\n",
       "}else if(typeof define === \"function\" && define.amd){\n",
       "   // require.js is available: use it to load d3/mpld3\n",
       "   require.config({paths: {d3: \"https://d3js.org/d3.v5\"}});\n",
       "   require([\"d3\"], function(d3){\n",
       "      window.d3 = d3;\n",
       "      mpld3_load_lib(\"https://mpld3.github.io/js/mpld3.v0.5.7.js\", function(){\n",
       "         \n",
       "         mpld3.draw_figure(\"fig_el5341398168937371848551953082\", {\"width\": 288.0, \"height\": 288.0, \"axes\": [{\"bbox\": [0.0, 0.0, 1.0, 1.0], \"xlim\": [-0.6400000000000001, 4.640000000000001], \"ylim\": [0.0, 36.75], \"xdomain\": [-0.6400000000000001, 4.640000000000001], \"ydomain\": [0.0, 36.75], \"xscale\": \"linear\", \"yscale\": \"linear\", \"axes\": [{\"position\": \"bottom\", \"nticks\": 5, \"tickvalues\": null, \"tickformat_formatter\": \"\", \"tickformat\": null, \"scale\": \"linear\", \"fontsize\": 10.0, \"grid\": {\"gridOn\": false}, \"visible\": true}, {\"position\": \"left\", \"nticks\": 9, \"tickvalues\": null, \"tickformat_formatter\": \"\", \"tickformat\": null, \"scale\": \"linear\", \"fontsize\": 10.0, \"grid\": {\"gridOn\": false}, \"visible\": true}], \"axesbg\": \"#FFFFFF\", \"axesbgalpha\": null, \"zoomable\": true, \"id\": \"el534139816895432880\", \"lines\": [], \"paths\": [{\"data\": \"data01\", \"xindex\": 0, \"yindex\": 1, \"coordinates\": \"data\", \"pathcodes\": [\"M\", \"L\", \"L\", \"L\", \"Z\"], \"id\": \"el534139816892185952\", \"dasharray\": \"none\", \"alpha\": 1, \"facecolor\": \"#1F77B4\", \"edgecolor\": \"none\", \"edgewidth\": 1.0, \"zorder\": 1}, {\"data\": \"data02\", \"xindex\": 0, \"yindex\": 1, \"coordinates\": \"data\", \"pathcodes\": [\"M\", \"L\", \"L\", \"L\", \"Z\"], \"id\": \"el534139816892185664\", \"dasharray\": \"none\", \"alpha\": 1, \"facecolor\": \"#1F77B4\", \"edgecolor\": \"none\", \"edgewidth\": 1.0, \"zorder\": 1}, {\"data\": \"data03\", \"xindex\": 0, \"yindex\": 1, \"coordinates\": \"data\", \"pathcodes\": [\"M\", \"L\", \"L\", \"L\", \"Z\"], \"id\": \"el534139816891712128\", \"dasharray\": \"none\", \"alpha\": 1, \"facecolor\": \"#1F77B4\", \"edgecolor\": \"none\", \"edgewidth\": 1.0, \"zorder\": 1}, {\"data\": \"data04\", \"xindex\": 0, \"yindex\": 1, \"coordinates\": \"data\", \"pathcodes\": [\"M\", \"L\", \"L\", \"L\", \"Z\"], \"id\": \"el534139816891712656\", \"dasharray\": \"none\", \"alpha\": 1, \"facecolor\": \"#1F77B4\", \"edgecolor\": \"none\", \"edgewidth\": 1.0, \"zorder\": 1}, {\"data\": \"data05\", \"xindex\": 0, \"yindex\": 1, \"coordinates\": \"data\", \"pathcodes\": [\"M\", \"L\", \"L\", \"L\", \"Z\"], \"id\": \"el534139816891713184\", \"dasharray\": \"none\", \"alpha\": 1, \"facecolor\": \"#1F77B4\", \"edgecolor\": \"none\", \"edgewidth\": 1.0, \"zorder\": 1}], \"markers\": [], \"texts\": [], \"collections\": [], \"images\": [], \"sharex\": [], \"sharey\": []}], \"data\": {\"data01\": [[-0.4, 0.0], [0.4, 0.0], [0.4, 23.0], [-0.4, 23.0]], \"data02\": [[0.6, 0.0], [1.4, 0.0], [1.4, 17.0], [0.6, 17.0]], \"data03\": [[1.6, 0.0], [2.4000000000000004, 0.0], [2.4000000000000004, 35.0], [1.6, 35.0]], \"data04\": [[2.6, 0.0], [3.4000000000000004, 0.0], [3.4000000000000004, 29.0], [2.6, 29.0]], \"data05\": [[3.6, 0.0], [4.4, 0.0], [4.4, 12.0], [3.6, 12.0]]}, \"id\": \"el534139816893737184\", \"plugins\": [{\"type\": \"reset\"}, {\"type\": \"zoom\", \"button\": true, \"enabled\": false}, {\"type\": \"boxzoom\", \"button\": true, \"enabled\": false}]});\n",
       "      });\n",
       "    });\n",
       "}else{\n",
       "    // require.js not available: dynamically load d3 & mpld3\n",
       "    mpld3_load_lib(\"https://d3js.org/d3.v5.js\", function(){\n",
       "         mpld3_load_lib(\"https://mpld3.github.io/js/mpld3.v0.5.7.js\", function(){\n",
       "                 \n",
       "                 mpld3.draw_figure(\"fig_el5341398168937371848551953082\", {\"width\": 288.0, \"height\": 288.0, \"axes\": [{\"bbox\": [0.0, 0.0, 1.0, 1.0], \"xlim\": [-0.6400000000000001, 4.640000000000001], \"ylim\": [0.0, 36.75], \"xdomain\": [-0.6400000000000001, 4.640000000000001], \"ydomain\": [0.0, 36.75], \"xscale\": \"linear\", \"yscale\": \"linear\", \"axes\": [{\"position\": \"bottom\", \"nticks\": 5, \"tickvalues\": null, \"tickformat_formatter\": \"\", \"tickformat\": null, \"scale\": \"linear\", \"fontsize\": 10.0, \"grid\": {\"gridOn\": false}, \"visible\": true}, {\"position\": \"left\", \"nticks\": 9, \"tickvalues\": null, \"tickformat_formatter\": \"\", \"tickformat\": null, \"scale\": \"linear\", \"fontsize\": 10.0, \"grid\": {\"gridOn\": false}, \"visible\": true}], \"axesbg\": \"#FFFFFF\", \"axesbgalpha\": null, \"zoomable\": true, \"id\": \"el534139816895432880\", \"lines\": [], \"paths\": [{\"data\": \"data01\", \"xindex\": 0, \"yindex\": 1, \"coordinates\": \"data\", \"pathcodes\": [\"M\", \"L\", \"L\", \"L\", \"Z\"], \"id\": \"el534139816892185952\", \"dasharray\": \"none\", \"alpha\": 1, \"facecolor\": \"#1F77B4\", \"edgecolor\": \"none\", \"edgewidth\": 1.0, \"zorder\": 1}, {\"data\": \"data02\", \"xindex\": 0, \"yindex\": 1, \"coordinates\": \"data\", \"pathcodes\": [\"M\", \"L\", \"L\", \"L\", \"Z\"], \"id\": \"el534139816892185664\", \"dasharray\": \"none\", \"alpha\": 1, \"facecolor\": \"#1F77B4\", \"edgecolor\": \"none\", \"edgewidth\": 1.0, \"zorder\": 1}, {\"data\": \"data03\", \"xindex\": 0, \"yindex\": 1, \"coordinates\": \"data\", \"pathcodes\": [\"M\", \"L\", \"L\", \"L\", \"Z\"], \"id\": \"el534139816891712128\", \"dasharray\": \"none\", \"alpha\": 1, \"facecolor\": \"#1F77B4\", \"edgecolor\": \"none\", \"edgewidth\": 1.0, \"zorder\": 1}, {\"data\": \"data04\", \"xindex\": 0, \"yindex\": 1, \"coordinates\": \"data\", \"pathcodes\": [\"M\", \"L\", \"L\", \"L\", \"Z\"], \"id\": \"el534139816891712656\", \"dasharray\": \"none\", \"alpha\": 1, \"facecolor\": \"#1F77B4\", \"edgecolor\": \"none\", \"edgewidth\": 1.0, \"zorder\": 1}, {\"data\": \"data05\", \"xindex\": 0, \"yindex\": 1, \"coordinates\": \"data\", \"pathcodes\": [\"M\", \"L\", \"L\", \"L\", \"Z\"], \"id\": \"el534139816891713184\", \"dasharray\": \"none\", \"alpha\": 1, \"facecolor\": \"#1F77B4\", \"edgecolor\": \"none\", \"edgewidth\": 1.0, \"zorder\": 1}], \"markers\": [], \"texts\": [], \"collections\": [], \"images\": [], \"sharex\": [], \"sharey\": []}], \"data\": {\"data01\": [[-0.4, 0.0], [0.4, 0.0], [0.4, 23.0], [-0.4, 23.0]], \"data02\": [[0.6, 0.0], [1.4, 0.0], [1.4, 17.0], [0.6, 17.0]], \"data03\": [[1.6, 0.0], [2.4000000000000004, 0.0], [2.4000000000000004, 35.0], [1.6, 35.0]], \"data04\": [[2.6, 0.0], [3.4000000000000004, 0.0], [3.4000000000000004, 29.0], [2.6, 29.0]], \"data05\": [[3.6, 0.0], [4.4, 0.0], [4.4, 12.0], [3.6, 12.0]]}, \"id\": \"el534139816893737184\", \"plugins\": [{\"type\": \"reset\"}, {\"type\": \"zoom\", \"button\": true, \"enabled\": false}, {\"type\": \"boxzoom\", \"button\": true, \"enabled\": false}]});\n",
       "            })\n",
       "         });\n",
       "}\n",
       "</script>"
      ],
      "text/plain": [
       "<Figure size 288x288 with 1 Axes>"
      ]
     },
     "metadata": {
      "needs_background": "light"
     },
     "output_type": "display_data"
    }
   ],
   "source": [
    "import matplotlib.pyplot as plt\n",
    "plt.rcParams[\"figure.figsize\"] = (4,4)\n",
    "fig = plt.figure()\n",
    "ax = fig.add_axes([0,0,1,1])\n",
    "langs = ['C', 'C++', 'Java', 'Python', 'PHP']\n",
    "students = [23,17,35,29,12]\n",
    "ax.bar(langs,students)\n",
    "plt.show()"
   ]
  },
  {
   "cell_type": "code",
   "execution_count": null,
   "id": "c2a5b3ec",
   "metadata": {},
   "outputs": [],
   "source": []
  },
  {
   "cell_type": "code",
   "execution_count": null,
   "id": "9c93424d",
   "metadata": {},
   "outputs": [],
   "source": []
  }
 ],
 "metadata": {
  "kernelspec": {
   "display_name": "Python 3 (ipykernel)",
   "language": "python",
   "name": "python3"
  },
  "language_info": {
   "codemirror_mode": {
    "name": "ipython",
    "version": 3
   },
   "file_extension": ".py",
   "mimetype": "text/x-python",
   "name": "python",
   "nbconvert_exporter": "python",
   "pygments_lexer": "ipython3",
   "version": "3.8.10"
  }
 },
 "nbformat": 4,
 "nbformat_minor": 5
}
