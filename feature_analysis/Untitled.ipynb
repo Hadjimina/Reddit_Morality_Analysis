{
 "cells": [
  {
   "cell_type": "code",
   "execution_count": 17,
   "id": "ebc42106",
   "metadata": {},
   "outputs": [],
   "source": [
    "import pandas as pd\n",
    "import numpy as np\n",
    "from sklearn.ensemble import RandomForestClassifier, GradientBoostingClassifier, RandomForestRegressor\n",
    "import sys\n",
    "from sklearn.model_selection import KFold, cross_val_score, train_test_split, StratifiedKFold\n",
    "from sklearn import metrics\n",
    "from sklearn import preprocessing\n",
    "from sklearn.inspection import permutation_importance\n",
    "from sklearn.model_selection import RandomizedSearchCV\n",
    "from sklearn.neural_network import MLPClassifier\n",
    "from mrmr import mrmr_classif\n",
    "import matplotlib.pyplot as plt\n",
    "from pprint import pprint\n",
    "#import tensorflow as tf\n",
    "#from autokeras import StructuredDataClassifier\n",
    "import xgboost as xgb\n",
    "import shap\n",
    "import gc\n",
    "import json\n",
    "from itertools import islice\n",
    "import functools\n",
    "from datetime import date\n",
    "#%matplotlib inline\n",
    "#import mpld3\n",
    "#mpld3.enable_notebook()\n",
    "# rf, pps (https://github.com/8080labs/ppscore), correleation, shapele, mrmr\n",
    "\n",
    "\n",
    "def get_data(normalised=1, weighted=True, title_prepend=True, time_split=0, topics_separate=False):\n",
    "    if time_split %2 !=0:\n",
    "         raise Exception(\"time_split has to be divisble by 2\")\n",
    "    \n",
    "    \n",
    "    df = pd.read_csv(\"prepend_scores_no_utc.csv\", nrows=3)\n",
    "    cols_to_drop = [\"post_text\", \"post_id\", \"post_created_utc\", \"Unnamed: 0\", \"Unnamed: 1\"] \n",
    "    cols_to_read = [col for col in list(df.columns) if col not in cols_to_drop ]\n",
    "    df = pd.read_csv(\"prepend_scores_no_utc.csv\", usecols=cols_to_read)\n",
    "    \n",
    "    \n",
    "    if normalised < 2:\n",
    "        df = df[df.columns.drop(list(df.filter(regex=\"_abs\" if normalised == 1 else \"_norm\")))]\n",
    "        \n",
    "    keys = [\"info\", \"yta\", \"nah\", \"esh\", \"nta\"]\n",
    "    weight = \"weighted_\" if weighted else \"\"\n",
    "    values = [\"reactions_\"+weight+k.upper() for k in keys]\n",
    "    acros = dict(zip(keys, values))\n",
    "    \n",
    "    dfs = []\n",
    "    if time_split > 0:\n",
    "        print(\"Data split by date range\")\n",
    "        #for i in range(len(spacing)-1):\n",
    "        #    start = spacing[i]\n",
    "        #    end = spacing[i+1]\n",
    "        #    dfs.append(df.loc[start <= df[\"post_created_utc\"] & df[\"post_created_utc\"]<end])\n",
    "    elif topics_separate >0:\n",
    "        \n",
    "        topic_min = df[\"topic_nr\"].min()\n",
    "        topic_max = df[\"topic_nr\"].max()\n",
    "        print(f\"Data split by topic ({topic_min}, {topic_max})\")\n",
    "         \n",
    "        for i in range(topic_min, topic_max+1):\n",
    "            dfs.append(df.loc[df[\"topic_nr\"]==i])\n",
    "    else:\n",
    "        dfs = [df]\n",
    "\n",
    "    print(f\"Number of dataframes: {len(dfs)}\")\n",
    "\n",
    "    return dfs, acros\n",
    "\n",
    "\n",
    "def sampling(y, kind=\"up\", indices=[], verbose=False):\n",
    "    \n",
    "    df_y = pd.DataFrame(data={\"Y\":y})\n",
    "    \n",
    "    if len(indices)>0:\n",
    "        if verbose:\n",
    "            print(f\"Using {len(indices)} indices\")\n",
    "    else:\n",
    "        indices = range(len(indices))\n",
    "        \n",
    "\n",
    "    # Get list of indices for classes that are in the indices array\n",
    "    c0_idx = pd.Series(df_y.loc[df_y[\"Y\"]==0].index.values)\n",
    "    c0_idx = c0_idx[c0_idx.isin(indices)]\n",
    "    c1_idx = pd.Series(df_y.loc[df_y[\"Y\"]==1].index.values)\n",
    "    c1_idx = c1_idx[c1_idx.isin(indices)]\n",
    "    \n",
    "    if verbose:\n",
    "        print(f\"    Y=0: {c0_idx.shape}\")\n",
    "        print(f\"    Y=1: {c1_idx.shape}\")\n",
    "\n",
    "    if kind == \"up\":\n",
    "        #upsample\n",
    "        if len(c0_idx)>len(c1_idx):\n",
    "            n = len(c0_idx)\n",
    "            c1_idx_sampeled = c1_idx.sample(n=n, random_state = 1, replace=len(c1_idx)<n).values\n",
    "            c0_idx_sampeled = c0_idx.values\n",
    "            if verbose:\n",
    "                print(f\"Upsampling Y=1 with {n} samples\")\n",
    "                \n",
    "        elif len(c0_idx)<len(c1_idx):\n",
    "            n = len(c1_idx)\n",
    "            c0_idx_sampeled = c0_idx.sample(n=n, random_state = 1, replace=len(c0_idx)<n).values\n",
    "            c1_idx_sampeled = c1_idx.values\n",
    "            if verbose:\n",
    "                print(f\"Upsampling Y=0 with {n} samples\")\n",
    "                \n",
    "    elif kind ==\"down\":\n",
    "        #downsample\n",
    "        if len(c0_idx)>len(c1_idx):\n",
    "            n = len(c1_idx)\n",
    "            c0_idx_sampeled = c0_idx.sample(n=n, random_state = 1, replace=len(c0_idx)<n).values\n",
    "            c1_idx_sampeled = c1_idx.values\n",
    "            if verbose:\n",
    "                print(f\"Downsampling Y=0 with {n} samples\")\n",
    "        elif len(c0_idx)<len(c1_idx):\n",
    "            n = len(c0_idx)\n",
    "            c1_idx_sampeled = c1_idx.sample(n=n, random_state = 1, replace=len(c1_idx)<n).values\n",
    "            c0_idx_sampeled = c0_idx.values\n",
    "            if verbose:\n",
    "                print(f\"Downsampling Y=1 with {n} samples\")\n",
    "\n",
    "    all_idx = np.concatenate((c0_idx_sampeled, c1_idx_sampeled), axis=0)\n",
    "    \n",
    "    if verbose:\n",
    "        df_tmp = df_y.iloc[all_idx]\n",
    "        print(f\"   Y=0: {len(df_tmp.loc[df_tmp['Y']==0])}\")\n",
    "        print(f\"   Y=1: {len(df_tmp.loc[df_tmp['Y']==1])}\")\n",
    "    return all_idx\n",
    "\n",
    "def obj_size_fmt(num):\n",
    "    if num<10**3:\n",
    "        return \"{:.2f}{}\".format(num,\"B\")\n",
    "    elif ((num>=10**3)&(num<10**6)):\n",
    "        return \"{:.2f}{}\".format(num/(1.024*10**3),\"KB\")\n",
    "    elif ((num>=10**6)&(num<10**9)):\n",
    "        return \"{:.2f}{}\".format(num/(1.024*10**6),\"MB\")\n",
    "    else:\n",
    "        return \"{:.2f}{}\".format(num/(1.024*10**9),\"GB\")\n",
    "\n",
    "\n",
    "def memory_usage():\n",
    "    memory_usage_by_variable=pd.DataFrame({k:sys.getsizeof(v)\\\n",
    "    for (k,v) in globals().items()},index=['Size'])\n",
    "    memory_usage_by_variable=memory_usage_by_variable.T\n",
    "    memory_usage_by_variable=memory_usage_by_variable.sort_values(by='Size',ascending=False).head(10)\n",
    "    memory_usage_by_variable['Size']=memory_usage_by_variable['Size'].apply(lambda x: obj_size_fmt(x))\n",
    "    return memory_usage_by_variable\n",
    "\n",
    "def opposite_jdgmt(judg):\n",
    "    \n",
    "    if \"NTA\" in judg  :\n",
    "        rtn =  judg.replace(\"NTA\",\"YTA\")\n",
    "    elif \"NAH\" in judg:\n",
    "        rtn =  judg.replace(\"NAH\",\"ESH\")\n",
    "    elif \"YTA\" in judg:\n",
    "        rtn =  judg.replace(\"YTA\",\"NTA\")\n",
    "    elif \"ESH\" in judg:\n",
    "        rtn =  judg.replace(\"ESH\",\"NAH\")\n",
    "    elif \"INFO\" in judg:\n",
    "        rtn = judg\n",
    "    \n",
    "    return rtn+\"_neg_vals\"\n",
    "\n",
    "def get_vote_counts(df, acros):\n",
    "    dct = {}\n",
    "    for acr in list(acros.values()):\n",
    "        dct[acr] = len(df[acr].to_numpy().nonzero()[0])\n",
    "    \n",
    "    dct[\"total\"] = np.sum(list(dct.values()))\n",
    "    print(dct)\n",
    "    \n",
    "    \n",
    "# mapping is either \"clip\", meaning negative votes are just set to 0, or \"oppossite\", meaning we use the mapping table in \"opposite_jdgmt\"\n",
    "def map_negative_values(df, acros, mapping=\"clip\"):\n",
    "    \n",
    "    if mapping == \"opposite\":\n",
    "        \n",
    "        for k in acros.keys():\n",
    "            acr = acros[k]\n",
    "            #print(f\"{acr} pos amount {len(df.loc[df[acr] > 0])}\")\n",
    "            #print(f\"{acr} neg amount {len(df.loc[df[acr] < 0])}\")\n",
    "            \n",
    "            \n",
    "            if k == \"info\":\n",
    "                continue\n",
    "            \n",
    "            # create temporary columns containing zeros and only negative votes for each vote type (except info)        \n",
    "            df[acr+\"_neg_vals\"] = 0\n",
    "            df.loc[df[acr] < 0, acr+\"_neg_vals\"] = df[acr]*-1\n",
    "            df.loc[df[acr] < 0, acr] = 0\n",
    "            \n",
    "        for k in acros.keys():\n",
    "            if k == \"info\":\n",
    "                continue\n",
    "            acr = acros[k]\n",
    "            #set negative values to 0 & add opposite judgement vote \n",
    "            df[acr] = df[acr] + df[opposite_jdgmt(acr)]\n",
    "           \n",
    "    elif mapping ==\"clip\":\n",
    "        for k in acros.keys():\n",
    "            acr = acros[k]\n",
    "            df[acr][df[acr] < 0] = 0\n",
    "            \n",
    "    # finally set all negative info votes to 0\n",
    "    #df[df[acros[\"info\"]] < 0] = 0\n",
    "    \n",
    "    #print(\"info sum\", df[acros[\"info\"]].min())\n",
    "    \n",
    "    return df\n",
    "\n",
    "def get_data_classes(df, acros, ratio=0.5, verbose=False, predict=\"class\", judgement_weighted=True, mapping=\"clip\"):\n",
    "    if verbose:\n",
    "        print(f\"df original shape {df.shape}\")\n",
    "        \n",
    "    n_rows_old = len(df)\n",
    "    \n",
    "    # Map negative judgements to opposing judgement\n",
    "    # i.e. YTA<->NTA, ESH<->NAH\n",
    "    if judgement_weighted:\n",
    "        df = map_negative_values(df, acros,mapping=mapping)\n",
    "    \n",
    "    if predict==\"class\":   \n",
    "        # We only look at YTA and NTA\n",
    "        df[\"YTA_ratio\"] = df[acros[\"yta\"]]/(df[acros[\"info\"]]+ df[acros[\"yta\"]]+ df[acros[\"nah\"]]+df[acros[\"esh\"]]+df[acros[\"nta\"]])\n",
    "\n",
    "        # drop all rows where the majority is not YTA or NTA\n",
    "        df = df.loc[((df[acros[\"yta\"]] > df[acros[\"info\"]]) & (df[acros[\"yta\"]] > df[acros[\"nah\"]]) & (df[acros[\"yta\"]] > df[acros[\"esh\"]])) | ((df[acros[\"nta\"]] > df[acros[\"info\"]]) & (df[acros[\"nta\"]] > df[acros[\"nah\"]]) & (df[\"reactions_weighted_NTA\"] > df[acros[\"esh\"]]))]\n",
    "        if verbose:\n",
    "            print(f\"Drop all rows where majority is not YTA or NTA {df.shape}\")\n",
    "\n",
    "        #drop all rows that are not \"extreme\" enough\n",
    "        df = df.loc[(1-ratio<=df[\"YTA_ratio\"]) | (df[\"YTA_ratio\"]<=ratio)]\n",
    "        if verbose:\n",
    "            print(f\"Removed {n_rows_old-len(df)} rows b.c. not enough agreement. Now {df.shape}\")\n",
    "\n",
    "        #specifc classes & drop unnecesarry\n",
    "        df[\"Y\"] = np.where(df[acros[\"yta\"]] > df[acros[\"nta\"]], 1,  0) # YTA = Class 1, NTA = class 0\n",
    "        if verbose:\n",
    "            print(df.shape)\n",
    "            \n",
    "    elif predict == \"ratio\":\n",
    "        # Y = asshole ratio(AHR) = (YTA+ESH)/(YTA+ESH+NTA+NAH)\n",
    "        df[\"Y\"] = (df[acros[\"yta\"]]+df[acros[\"esh\"]])/(df[acros[\"yta\"]]+ df[acros[\"nah\"]]+df[acros[\"esh\"]]+df[acros[\"nta\"]])\n",
    "        \n",
    "        #drop NAs & infty\n",
    "        df = df.replace([np.inf, -np.inf], np.nan)\n",
    "        df = df.dropna(subset=[\"Y\"])\n",
    "        if verbose:\n",
    "           print(f\"Removed {n_rows_old-len(df)} rows b.c. no votes. Now {df.shape}\")\n",
    "        n_rows_old = len(df)\n",
    "        df = df.loc[(1-ratio<=df[\"Y\"]) | (df[\"Y\"]<=ratio)]\n",
    "        if verbose:\n",
    "            print(f\"Removed {n_rows_old-len(df)} rows b.c. not enough agreement. Now {df.shape}\")\n",
    "        \n",
    "        \n",
    "        \n",
    "        \n",
    "     # get list of all columns that contain uppercase vote acronym\n",
    "    vote_acroynms = list(filter(lambda x: any([acr.upper() in x for acr in list(acros.keys())]), list(df.columns)))  \n",
    "    df = df.drop(columns=vote_acroynms)\n",
    "    cols_to_drop =  [\"post_text\", \"post_id\", \"post_created_utc\", \"Unnamed: 0\", \"Unnamed: 1\"] \n",
    "    for col in cols_to_drop:\n",
    "        if col in list(df.columns):\n",
    "            df = df.drop(columns=[col])\n",
    "        \n",
    "    #print(df.info(memory_usage=\"deep\"))\n",
    "\n",
    "    # Removing top 4 most important features leads to 0.66 f1\n",
    "    #df = df.drop(columns=[\"speaker_account_comment_karma\", \"post_num_comments\", \"speaker_account_link_karma\", \"speaker_account_age\"])\n",
    "    if verbose:\n",
    "        print(df.shape)\n",
    "    \n",
    "    X = df.drop(columns=[\"Y\"])\n",
    "    y = df[\"Y\"].to_numpy()\n",
    "\n",
    "    feat_name_lst = list(X.columns)\n",
    "\n",
    "    # scaling\n",
    "    scaler = preprocessing.StandardScaler().fit(X)\n",
    "    X_scaled = scaler.transform(X)\n",
    "    return X_scaled, y, feat_name_lst    "
   ]
  },
  {
   "cell_type": "code",
   "execution_count": 2,
   "id": "c2a5b3ec",
   "metadata": {},
   "outputs": [
    {
     "name": "stdout",
     "output_type": "stream",
     "text": [
      "Number of dataframes: 1\n",
      "(618203, 189)\n"
     ]
    },
    {
     "ename": "KeyError",
     "evalue": "'info'",
     "output_type": "error",
     "traceback": [
      "\u001b[0;31m---------------------------------------------------------------------------\u001b[0m",
      "\u001b[0;31mKeyError\u001b[0m                                  Traceback (most recent call last)",
      "\u001b[0;32m~/.local/lib/python3.8/site-packages/pandas/core/indexes/base.py\u001b[0m in \u001b[0;36mget_loc\u001b[0;34m(self, key, method, tolerance)\u001b[0m\n\u001b[1;32m   3360\u001b[0m             \u001b[0;32mtry\u001b[0m\u001b[0;34m:\u001b[0m\u001b[0;34m\u001b[0m\u001b[0;34m\u001b[0m\u001b[0m\n\u001b[0;32m-> 3361\u001b[0;31m                 \u001b[0;32mreturn\u001b[0m \u001b[0mself\u001b[0m\u001b[0;34m.\u001b[0m\u001b[0m_engine\u001b[0m\u001b[0;34m.\u001b[0m\u001b[0mget_loc\u001b[0m\u001b[0;34m(\u001b[0m\u001b[0mcasted_key\u001b[0m\u001b[0;34m)\u001b[0m\u001b[0;34m\u001b[0m\u001b[0;34m\u001b[0m\u001b[0m\n\u001b[0m\u001b[1;32m   3362\u001b[0m             \u001b[0;32mexcept\u001b[0m \u001b[0mKeyError\u001b[0m \u001b[0;32mas\u001b[0m \u001b[0merr\u001b[0m\u001b[0;34m:\u001b[0m\u001b[0;34m\u001b[0m\u001b[0;34m\u001b[0m\u001b[0m\n",
      "\u001b[0;32m~/.local/lib/python3.8/site-packages/pandas/_libs/index.pyx\u001b[0m in \u001b[0;36mpandas._libs.index.IndexEngine.get_loc\u001b[0;34m()\u001b[0m\n",
      "\u001b[0;32m~/.local/lib/python3.8/site-packages/pandas/_libs/index.pyx\u001b[0m in \u001b[0;36mpandas._libs.index.IndexEngine.get_loc\u001b[0;34m()\u001b[0m\n",
      "\u001b[0;32mpandas/_libs/hashtable_class_helper.pxi\u001b[0m in \u001b[0;36mpandas._libs.hashtable.PyObjectHashTable.get_item\u001b[0;34m()\u001b[0m\n",
      "\u001b[0;32mpandas/_libs/hashtable_class_helper.pxi\u001b[0m in \u001b[0;36mpandas._libs.hashtable.PyObjectHashTable.get_item\u001b[0;34m()\u001b[0m\n",
      "\u001b[0;31mKeyError\u001b[0m: 'info'",
      "\nThe above exception was the direct cause of the following exception:\n",
      "\u001b[0;31mKeyError\u001b[0m                                  Traceback (most recent call last)",
      "\u001b[0;32m/tmp/ipykernel_8663/3651705347.py\u001b[0m in \u001b[0;36m<module>\u001b[0;34m\u001b[0m\n\u001b[1;32m      1\u001b[0m \u001b[0mdfs\u001b[0m\u001b[0;34m,\u001b[0m \u001b[0macros\u001b[0m \u001b[0;34m=\u001b[0m \u001b[0mget_data\u001b[0m\u001b[0;34m(\u001b[0m\u001b[0mnormalised\u001b[0m\u001b[0;34m=\u001b[0m\u001b[0;36m0\u001b[0m\u001b[0;34m,\u001b[0m \u001b[0mweighted\u001b[0m\u001b[0;34m=\u001b[0m\u001b[0;32mTrue\u001b[0m\u001b[0;34m,\u001b[0m \u001b[0mtitle_prepend\u001b[0m\u001b[0;34m=\u001b[0m\u001b[0;36m0\u001b[0m\u001b[0;34m,\u001b[0m \u001b[0mtopics_separate\u001b[0m\u001b[0;34m=\u001b[0m\u001b[0;32mFalse\u001b[0m\u001b[0;34m)\u001b[0m\u001b[0;34m\u001b[0m\u001b[0;34m\u001b[0m\u001b[0m\n\u001b[1;32m      2\u001b[0m \u001b[0mprint\u001b[0m\u001b[0;34m(\u001b[0m\u001b[0mdfs\u001b[0m\u001b[0;34m[\u001b[0m\u001b[0;36m0\u001b[0m\u001b[0;34m]\u001b[0m\u001b[0;34m.\u001b[0m\u001b[0mshape\u001b[0m\u001b[0;34m)\u001b[0m\u001b[0;34m\u001b[0m\u001b[0;34m\u001b[0m\u001b[0m\n\u001b[0;32m----> 3\u001b[0;31m \u001b[0mget_vote_counts\u001b[0m\u001b[0;34m(\u001b[0m\u001b[0mdfs\u001b[0m\u001b[0;34m[\u001b[0m\u001b[0;36m0\u001b[0m\u001b[0;34m]\u001b[0m\u001b[0;34m,\u001b[0m \u001b[0macros\u001b[0m\u001b[0;34m)\u001b[0m\u001b[0;34m\u001b[0m\u001b[0;34m\u001b[0m\u001b[0m\n\u001b[0m",
      "\u001b[0;32m/tmp/ipykernel_8663/2594820929.py\u001b[0m in \u001b[0;36mget_vote_counts\u001b[0;34m(df, acros)\u001b[0m\n\u001b[1;32m    166\u001b[0m     \u001b[0mdct\u001b[0m \u001b[0;34m=\u001b[0m \u001b[0;34m{\u001b[0m\u001b[0;34m}\u001b[0m\u001b[0;34m\u001b[0m\u001b[0;34m\u001b[0m\u001b[0m\n\u001b[1;32m    167\u001b[0m     \u001b[0;32mfor\u001b[0m \u001b[0macr\u001b[0m \u001b[0;32min\u001b[0m \u001b[0macros\u001b[0m\u001b[0;34m:\u001b[0m\u001b[0;34m\u001b[0m\u001b[0;34m\u001b[0m\u001b[0m\n\u001b[0;32m--> 168\u001b[0;31m         \u001b[0mdct\u001b[0m\u001b[0;34m[\u001b[0m\u001b[0macr\u001b[0m\u001b[0;34m]\u001b[0m \u001b[0;34m=\u001b[0m \u001b[0mlen\u001b[0m\u001b[0;34m(\u001b[0m\u001b[0mdf\u001b[0m\u001b[0;34m[\u001b[0m\u001b[0macr\u001b[0m\u001b[0;34m]\u001b[0m\u001b[0;34m.\u001b[0m\u001b[0mnonzero\u001b[0m\u001b[0;34m(\u001b[0m\u001b[0;34m)\u001b[0m\u001b[0;34m)\u001b[0m\u001b[0;34m\u001b[0m\u001b[0;34m\u001b[0m\u001b[0m\n\u001b[0m\u001b[1;32m    169\u001b[0m \u001b[0;34m\u001b[0m\u001b[0m\n\u001b[1;32m    170\u001b[0m     \u001b[0mdct\u001b[0m\u001b[0;34m[\u001b[0m\u001b[0;34m\"totoal\"\u001b[0m\u001b[0;34m]\u001b[0m \u001b[0;34m=\u001b[0m \u001b[0mlist\u001b[0m\u001b[0;34m(\u001b[0m\u001b[0mdct\u001b[0m\u001b[0;34m.\u001b[0m\u001b[0mvalues\u001b[0m\u001b[0;34m(\u001b[0m\u001b[0;34m)\u001b[0m\u001b[0;34m)\u001b[0m\u001b[0;34m.\u001b[0m\u001b[0msum\u001b[0m\u001b[0;34m(\u001b[0m\u001b[0;34m)\u001b[0m\u001b[0;34m\u001b[0m\u001b[0;34m\u001b[0m\u001b[0m\n",
      "\u001b[0;32m~/.local/lib/python3.8/site-packages/pandas/core/frame.py\u001b[0m in \u001b[0;36m__getitem__\u001b[0;34m(self, key)\u001b[0m\n\u001b[1;32m   3453\u001b[0m             \u001b[0;32mif\u001b[0m \u001b[0mself\u001b[0m\u001b[0;34m.\u001b[0m\u001b[0mcolumns\u001b[0m\u001b[0;34m.\u001b[0m\u001b[0mnlevels\u001b[0m \u001b[0;34m>\u001b[0m \u001b[0;36m1\u001b[0m\u001b[0;34m:\u001b[0m\u001b[0;34m\u001b[0m\u001b[0;34m\u001b[0m\u001b[0m\n\u001b[1;32m   3454\u001b[0m                 \u001b[0;32mreturn\u001b[0m \u001b[0mself\u001b[0m\u001b[0;34m.\u001b[0m\u001b[0m_getitem_multilevel\u001b[0m\u001b[0;34m(\u001b[0m\u001b[0mkey\u001b[0m\u001b[0;34m)\u001b[0m\u001b[0;34m\u001b[0m\u001b[0;34m\u001b[0m\u001b[0m\n\u001b[0;32m-> 3455\u001b[0;31m             \u001b[0mindexer\u001b[0m \u001b[0;34m=\u001b[0m \u001b[0mself\u001b[0m\u001b[0;34m.\u001b[0m\u001b[0mcolumns\u001b[0m\u001b[0;34m.\u001b[0m\u001b[0mget_loc\u001b[0m\u001b[0;34m(\u001b[0m\u001b[0mkey\u001b[0m\u001b[0;34m)\u001b[0m\u001b[0;34m\u001b[0m\u001b[0;34m\u001b[0m\u001b[0m\n\u001b[0m\u001b[1;32m   3456\u001b[0m             \u001b[0;32mif\u001b[0m \u001b[0mis_integer\u001b[0m\u001b[0;34m(\u001b[0m\u001b[0mindexer\u001b[0m\u001b[0;34m)\u001b[0m\u001b[0;34m:\u001b[0m\u001b[0;34m\u001b[0m\u001b[0;34m\u001b[0m\u001b[0m\n\u001b[1;32m   3457\u001b[0m                 \u001b[0mindexer\u001b[0m \u001b[0;34m=\u001b[0m \u001b[0;34m[\u001b[0m\u001b[0mindexer\u001b[0m\u001b[0;34m]\u001b[0m\u001b[0;34m\u001b[0m\u001b[0;34m\u001b[0m\u001b[0m\n",
      "\u001b[0;32m~/.local/lib/python3.8/site-packages/pandas/core/indexes/base.py\u001b[0m in \u001b[0;36mget_loc\u001b[0;34m(self, key, method, tolerance)\u001b[0m\n\u001b[1;32m   3361\u001b[0m                 \u001b[0;32mreturn\u001b[0m \u001b[0mself\u001b[0m\u001b[0;34m.\u001b[0m\u001b[0m_engine\u001b[0m\u001b[0;34m.\u001b[0m\u001b[0mget_loc\u001b[0m\u001b[0;34m(\u001b[0m\u001b[0mcasted_key\u001b[0m\u001b[0;34m)\u001b[0m\u001b[0;34m\u001b[0m\u001b[0;34m\u001b[0m\u001b[0m\n\u001b[1;32m   3362\u001b[0m             \u001b[0;32mexcept\u001b[0m \u001b[0mKeyError\u001b[0m \u001b[0;32mas\u001b[0m \u001b[0merr\u001b[0m\u001b[0;34m:\u001b[0m\u001b[0;34m\u001b[0m\u001b[0;34m\u001b[0m\u001b[0m\n\u001b[0;32m-> 3363\u001b[0;31m                 \u001b[0;32mraise\u001b[0m \u001b[0mKeyError\u001b[0m\u001b[0;34m(\u001b[0m\u001b[0mkey\u001b[0m\u001b[0;34m)\u001b[0m \u001b[0;32mfrom\u001b[0m \u001b[0merr\u001b[0m\u001b[0;34m\u001b[0m\u001b[0;34m\u001b[0m\u001b[0m\n\u001b[0m\u001b[1;32m   3364\u001b[0m \u001b[0;34m\u001b[0m\u001b[0m\n\u001b[1;32m   3365\u001b[0m         \u001b[0;32mif\u001b[0m \u001b[0mis_scalar\u001b[0m\u001b[0;34m(\u001b[0m\u001b[0mkey\u001b[0m\u001b[0;34m)\u001b[0m \u001b[0;32mand\u001b[0m \u001b[0misna\u001b[0m\u001b[0;34m(\u001b[0m\u001b[0mkey\u001b[0m\u001b[0;34m)\u001b[0m \u001b[0;32mand\u001b[0m \u001b[0;32mnot\u001b[0m \u001b[0mself\u001b[0m\u001b[0;34m.\u001b[0m\u001b[0mhasnans\u001b[0m\u001b[0;34m:\u001b[0m\u001b[0;34m\u001b[0m\u001b[0;34m\u001b[0m\u001b[0m\n",
      "\u001b[0;31mKeyError\u001b[0m: 'info'"
     ]
    }
   ],
   "source": [
    "dfs, acros = get_data(normalised=0, weighted=True, title_prepend=0, topics_separate=False)\n",
    "print(dfs[0].shape)\n",
    "get_vote_counts(dfs[0], acros)\n"
   ]
  },
  {
   "cell_type": "code",
   "execution_count": 18,
   "id": "a653ab97",
   "metadata": {},
   "outputs": [
    {
     "name": "stdout",
     "output_type": "stream",
     "text": [
      "{'reactions_weighted_INFO': 54117, 'reactions_weighted_YTA': 65610, 'reactions_weighted_NAH': 49810, 'reactions_weighted_ESH': 793, 'reactions_weighted_NTA': 104988, 'total': 275318}\n"
     ]
    }
   ],
   "source": [
    "get_vote_counts(dfs[0], acros)"
   ]
  },
  {
   "cell_type": "code",
   "execution_count": 3,
   "id": "26498e3e",
   "metadata": {},
   "outputs": [
    {
     "name": "stdout",
     "output_type": "stream",
     "text": [
      "5212385013\n"
     ]
    }
   ],
   "source": [
    "print(np.sum(train))"
   ]
  },
  {
   "cell_type": "code",
   "execution_count": 4,
   "id": "9c93424d",
   "metadata": {},
   "outputs": [
    {
     "name": "stdout",
     "output_type": "stream",
     "text": [
      "df original shape (618203, 189)\n",
      "Removed 493178 rows b.c. no votes. Now (125025, 194)\n",
      "Removed 0 rows b.c. not enough agreement. Now (125025, 194)\n",
      "(125025, 180)\n"
     ]
    },
    {
     "data": {
      "image/png": "[encoded data removed]",
      "text/plain": [
       "<Figure size 432x288 with 1 Axes>"
      ]
     },
     "metadata": {
      "needs_background": "light"
     },
     "output_type": "display_data"
    }
   ],
   "source": [
    "df_opp = dfs[0].copy()\n",
    "#print(df_opp[\"reactions_weighted_YTA\"].idxmin())\n",
    "X, y, feat_name_lst = get_data_classes(df_opp, ratio=0.5, acros=acros, predict=\"ratio\",judgement_weighted=True, mapping=\"opposite\", verbose=True)    \n",
    "train, test = train_test_split(range(124698), test_size=0.33, random_state=42)\n",
    "X_train = X[train, :]\n",
    "y_train = y[train]\n",
    "X_test = X[test, :]\n",
    "y_test = y[test]\n",
    "\n",
    "\n",
    "#plt.hist(y[train], bins=10*32)\n",
    "#plt.show()\n",
    "\n",
    "oppoiste_y = y[train]"
   ]
  },
  {
   "cell_type": "code",
   "execution_count": 4,
   "id": "e4c53f5d",
   "metadata": {},
   "outputs": [
    {
     "name": "stdout",
     "output_type": "stream",
     "text": [
      "df original shape (618203, 189)\n",
      "Removed 493505 rows b.c. no votes. Now (124698, 190)\n",
      "Removed 0 rows b.c. not enough agreement. Now (124698, 190)\n",
      "(124698, 180)\n",
      "range(0, 124698)\n"
     ]
    }
   ],
   "source": [
    "df_clip = dfs[0].copy()\n",
    "X, y, feat_name_lst = get_data_classes(df_clip, ratio=0.5, acros=acros, predict=\"ratio\",judgement_weighted=True, mapping=\"clip\", verbose=True)    \n",
    "print(range(len(X)))\n",
    "train, test = train_test_split(range(len(X)), test_size=0.33, random_state=42)\n",
    "X_train = X[train, :]\n",
    "y_train = y[train]\n",
    "X_test = X[test, :]\n",
    "y_test = y[test]\n",
    "\n",
    "clip_y = y[train]\n",
    "\n",
    "#plt.hist(y[train], bins=10*32)\n",
    "#plt.show()"
   ]
  },
  {
   "cell_type": "code",
   "execution_count": 6,
   "id": "488da53d",
   "metadata": {},
   "outputs": [
    {
     "name": "stdout",
     "output_type": "stream",
     "text": [
      "(83547,)\n",
      "(83547,)\n",
      "23832.585573427223\n",
      "24038.707803211913\n"
     ]
    },
    {
     "data": {
      "text/plain": [
       "(0.005407888612947739, 0.11802646684971047)"
      ]
     },
     "execution_count": 6,
     "metadata": {},
     "output_type": "execute_result"
    }
   ],
   "source": [
    "import pandas as pd\n",
    "import numpy as np\n",
    "from scipy import stats\n",
    "y_clip = pd.read_csv(\"y_clip.csv\").drop(columns=[\"Unnamed: 0\"]).to_numpy().flatten()\n",
    "y_opposite = pd.read_csv(\"y_opposite.csv\").drop(columns=[\"Unnamed: 0\"]).to_numpy().flatten()\n",
    "print(y_clip.shape)\n",
    "print(y_opposite.shape)\n",
    "print(y_clip.sum())\n",
    "print(y_opposite.sum())\n",
    "stats.pearsonr(y_clip, y_opposite[:83547])\n",
    "#np.corrcoef(y_clip, y_opposite)"
   ]
  },
  {
   "cell_type": "code",
   "execution_count": 7,
   "id": "353aa0b2",
   "metadata": {},
   "outputs": [
    {
     "name": "stdout",
     "output_type": "stream",
     "text": [
      "[0.28571429 1.         0.66666667 0.92156863 0.         0.16666667\n",
      " 0.1        0.6162963  0.28571429 0.45833333]\n",
      "[0.5        0.6        0.         0.09090909 0.         0.88235294\n",
      " 0.95774648 0.66666667 0.         0.        ]\n"
     ]
    }
   ],
   "source": [
    "print(y_clip[:10])\n",
    "print(y_opposite[:10])"
   ]
  },
  {
   "cell_type": "code",
   "execution_count": 5,
   "id": "e309ca0d",
   "metadata": {},
   "outputs": [],
   "source": [
    "df_n = pd.DataFrame(data=y[train])\n",
    "df_n.to_csv(\"y_clip.csv\")"
   ]
  },
  {
   "cell_type": "code",
   "execution_count": 12,
   "id": "ce46898d",
   "metadata": {},
   "outputs": [
    {
     "name": "stdout",
     "output_type": "stream",
     "text": [
      "(83547,)\n"
     ]
    },
    {
     "data": {
      "image/png": "[encoded data removed]",
      "text/plain": [
       "<Figure size 432x288 with 1 Axes>"
      ]
     },
     "metadata": {
      "needs_background": "light"
     },
     "output_type": "display_data"
    }
   ],
   "source": [
    "import matplotlib.pyplot as plt\n",
    "print(y_clip.shape)\n",
    "plt.hist(y_clip, bins=10*32)\n",
    "plt.show()"
   ]
  },
  {
   "cell_type": "code",
   "execution_count": 13,
   "id": "9782f3cf",
   "metadata": {},
   "outputs": [
    {
     "name": "stdout",
     "output_type": "stream",
     "text": [
      "(83766,)\n"
     ]
    },
    {
     "data": {
      "image/png": "[encoded data removed]",
      "text/plain": [
       "<Figure size 432x288 with 1 Axes>"
      ]
     },
     "metadata": {
      "needs_background": "light"
     },
     "output_type": "display_data"
    }
   ],
   "source": [
    "print(y_opposite.shape)\n",
    "plt.hist(y_opposite, bins=10*32)\n",
    "plt.show()"
   ]
  },
  {
   "cell_type": "code",
   "execution_count": 10,
   "id": "bca2f1cd",
   "metadata": {},
   "outputs": [
    {
     "name": "stdout",
     "output_type": "stream",
     "text": [
      "[94883, 123137, 60980, 94428, 50133, 27063, 89476, 71162, 54119, 75808]\n"
     ]
    }
   ],
   "source": [
    "train, test = train_test_split(range(124698), test_size=0.33, random_state=42)\n",
    "print(train[:10])"
   ]
  },
  {
   "cell_type": "code",
   "execution_count": null,
   "id": "de48b8c7",
   "metadata": {},
   "outputs": [],
   "source": []
  }
 ],
 "metadata": {
  "kernelspec": {
   "display_name": "Python 3 (ipykernel)",
   "language": "python",
   "name": "python3"
  },
  "language_info": {
   "codemirror_mode": {
    "name": "ipython",
    "version": 3
   },
   "file_extension": ".py",
   "mimetype": "text/x-python",
   "name": "python",
   "nbconvert_exporter": "python",
   "pygments_lexer": "ipython3",
   "version": "3.8.10"
  }
 },
 "nbformat": 4,
 "nbformat_minor": 5
}
