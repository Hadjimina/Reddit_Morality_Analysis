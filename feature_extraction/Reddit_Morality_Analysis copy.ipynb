{
 "cells": [
  {
   "cell_type": "code",
   "execution_count": 1,
   "metadata": {},
   "outputs": [],
   "source": [
    "import pandas as pd\n",
    "df = pd.read_csv(\"/mnt/g/My Drive/Msc/Thesis/Coding/dataset_output/spacy/100k+1- 200k/features_output_27_11_2021_mini.csv\")\n",
    "df2 = pd.read_csv(\"/mnt/g/My Drive/Msc/Thesis/Coding/dataset_output/spacy/0-100k/features_output_26_11_2021_mini.csv\")\n",
    "df3 = pd.read_csv(\"/mnt/g/My Drive/Msc/Thesis/Coding/dataset_output/spacy/200k+1- 300k/features_output_27_11_2021.csv\")\n",
    "df4 = pd.read_csv(\"/mnt/g/My Drive/Msc/Thesis/Coding/dataset_output/spacy/300k+1- 400k/features_output_28_11_2021.csv\")\n",
    "df5 = pd.read_csv(\"/mnt/g/My Drive/Msc/Thesis/Coding/dataset_output/spacy/400k+1- 500k/features_output_29_11_2021.csv\")\n",
    "df6 = pd.read_csv(\"/mnt/g/My Drive/Msc/Thesis/Coding/dataset_output/spacy/500k+1- 600k/features_output_29_11_2021.csv\")\n",
    "df7 = pd.read_csv(\"/mnt/g/My Drive/Msc/Thesis/Coding/dataset_output/spacy/600k+/features_output_30_11_2021.csv\")\n",
    "df8 = pd.read_csv(\"/mnt/g/My Drive/Msc/Thesis/Coding/dataset_output/spacy/600k+/features_output_30_11_2021.csv\")\n",
    "\n",
    "dfs = [df, df2,df3,df4]"
   ]
  },
  {
   "cell_type": "code",
   "execution_count": 2,
   "metadata": {},
   "outputs": [
    {
     "name": "stdout",
     "output_type": "stream",
     "text": [
      "df 0 has shape (99988, 73)\n",
      "df 1 has shape (99413, 73)\n",
      "df 2 has shape (99939, 73)\n",
      "df 3 has shape (99957, 73)\n",
      "df 4 has shape (99992, 73)\n",
      "df 5 has shape (99996, 73)\n",
      "df 6 has shape (18919, 73)\n",
      "\n",
      "df 0 intersect df1 = 1\n",
      "df 0 intersect df2 = 0\n",
      "df 0 intersect df3 = 0\n",
      "df 0 intersect df4 = 0\n",
      "df 0 intersect df5 = 0\n",
      "df 0 intersect df6 = 0\n",
      "df 1 intersect df2 = 0\n",
      "df 1 intersect df3 = 0\n",
      "df 1 intersect df4 = 0\n",
      "df 1 intersect df5 = 0\n",
      "df 1 intersect df6 = 0\n",
      "df 2 intersect df3 = 0\n",
      "df 2 intersect df4 = 0\n",
      "df 2 intersect df5 = 0\n",
      "df 2 intersect df6 = 0\n",
      "df 3 intersect df4 = 0\n",
      "df 3 intersect df5 = 0\n",
      "df 3 intersect df6 = 0\n",
      "df 4 intersect df5 = 0\n",
      "df 4 intersect df6 = 0\n",
      "df 5 intersect df6 = 0\n"
     ]
    }
   ],
   "source": [
    "dfs = [df, df2,df3,df4, df5,df6,df7]\n",
    "q = 0\n",
    "for i in dfs:\n",
    "    print(f\"df {q} has shape {i.shape}\")\n",
    "    q+=1\n",
    "\n",
    "\n",
    "print(\"\")\n",
    "checked = dict.fromkeys(range(len(dfs)),[])\n",
    "\n",
    "\n",
    "for x in range(len(dfs)):\n",
    "    for y in range(len(dfs)):\n",
    "        if not x == y and not y in checked[x] and not x in checked[y]:\n",
    "            id_x = dfs[x][\"post_id\"]\n",
    "            id_y = dfs[y][\"post_id\"]\n",
    "            intersect = list(set(id_x).intersection(id_y))\n",
    "            print(f\"df {x} intersect df{y} = {len(intersect)}\")\n",
    "            checked[x] = checked[x]+[y]\n",
    "            \n",
    "\n",
    "\n"
   ]
  },
  {
   "cell_type": "code",
   "execution_count": 7,
   "metadata": {},
   "outputs": [
    {
     "name": "stdout",
     "output_type": "stream",
     "text": [
      "(618204, 73)\n",
      "Index(['post_id', 'post_text', 'post_num_comments', 'writing_sty_past_abs',\n",
      "       'writing_sty_present_abs', 'writing_sty_future_abs',\n",
      "       'writing_sty_past_norm', 'writing_sty_present_norm',\n",
      "       'writing_sty_future_norm', 'writing_sty_active_abs',\n",
      "       'writing_sty_passive_abs', 'writing_sty_active_norm',\n",
      "       'writing_sty_passive_norm', 'writing_sty_sent_polarity',\n",
      "       'writing_sty_sent_subjectivity', 'writing_sty_focus_i_subj_abs',\n",
      "       'writing_sty_focus_you_sg_subj_abs', 'writing_sty_focus_he_subj_abs',\n",
      "       'writing_sty_focus_we_subj_abs', 'writing_sty_focus_you_pl_subj_abs',\n",
      "       'writing_sty_focus_they_subj_abs', 'writing_sty_focus_i_obj_abs',\n",
      "       'writing_sty_focus_you_sg_obj_abs', 'writing_sty_focus_he_obj_abs',\n",
      "       'writing_sty_focus_we_obj_abs', 'writing_sty_focus_you_pl_obj_abs',\n",
      "       'writing_sty_focus_they_obj_abs', 'writing_sty_focus_i_poss_abs',\n",
      "       'writing_sty_focus_you_sg_poss_abs', 'writing_sty_focus_he_poss_abs',\n",
      "       'writing_sty_focus_we_poss_abs', 'writing_sty_focus_you_pl_poss_abs',\n",
      "       'writing_sty_focus_they_poss_abs', 'writing_sty_focus_i_subj_norm',\n",
      "       'writing_sty_focus_you_sg_subj_norm', 'writing_sty_focus_he_subj_norm',\n",
      "       'writing_sty_focus_we_subj_norm', 'writing_sty_focus_you_pl_subj_norm',\n",
      "       'writing_sty_focus_they_subj_norm', 'writing_sty_focus_i_obj_norm',\n",
      "       'writing_sty_focus_you_sg_obj_norm', 'writing_sty_focus_he_obj_norm',\n",
      "       'writing_sty_focus_we_obj_norm', 'writing_sty_focus_you_pl_obj_norm',\n",
      "       'writing_sty_focus_they_obj_norm', 'writing_sty_focus_i_poss_norm',\n",
      "       'writing_sty_focus_you_sg_poss_norm', 'writing_sty_focus_he_poss_norm',\n",
      "       'writing_sty_focus_we_poss_norm', 'writing_sty_focus_you_pl_poss_norm',\n",
      "       'writing_sty_focus_they_poss_norm', 'writing_sty_self_fear_norm',\n",
      "       'writing_sty_self_anger_norm', 'writing_sty_self_trust_norm',\n",
      "       'writing_sty_self_surprise_norm', 'writing_sty_self_sadness_norm',\n",
      "       'writing_sty_self_disgust_norm', 'writing_sty_self_joy_norm',\n",
      "       'writing_sty_self_anticipation_norm', 'writing_sty_self_positive_norm',\n",
      "       'writing_sty_self_negative_norm', 'writing_sty_other_fear_norm',\n",
      "       'writing_sty_other_anger_norm', 'writing_sty_other_trust_norm',\n",
      "       'writing_sty_other_surprise_norm', 'writing_sty_other_sadness_norm',\n",
      "       'writing_sty_other_disgust_norm', 'writing_sty_other_joy_norm',\n",
      "       'writing_sty_other_anticipation_norm',\n",
      "       'writing_sty_other_positive_norm', 'writing_sty_other_negative_norm',\n",
      "       'writing_sty_self_prof', 'writing_sty_other_prof'],\n",
      "      dtype='object')\n"
     ]
    }
   ],
   "source": [
    "df_spacy = pd.concat(dfs, ignore_index=True)\n",
    "print(df_spacy.shape)\n",
    "print(df.columns)\n",
    "df_spacy.to_csv(\"/mnt/g/My Drive/Msc/Thesis/Coding/dataset_output/spacy/spacy.csv\",index=False,)\n"
   ]
  },
  {
   "cell_type": "markdown",
   "metadata": {},
   "source": [
    "# non Spacy"
   ]
  },
  {
   "cell_type": "code",
   "execution_count": 2,
   "metadata": {},
   "outputs": [
    {
     "name": "stderr",
     "output_type": "stream",
     "text": [
      "/home/philipp/.local/lib/python3.8/site-packages/IPython/core/interactiveshell.py:3444: DtypeWarning: Columns (117,118) have mixed types.Specify dtype option on import or set low_memory=False.\n",
      "  exec(code_obj, self.user_global_ns, self.user_ns)\n"
     ]
    }
   ],
   "source": [
    "import pandas as pd\n",
    "df_id_utc = pd.read_csv(\"/mnt/g/My Drive/Msc/Thesis/Coding/dataset_output/ids_to_utc.csv\",)\n",
    "df_prepend = pd.read_csv(\"/mnt/g/My Drive/Msc/Thesis/Coding/dataset_output/prepend_scores.csv\")\n",
    "\n",
    "#df_standalone = pd.read_csv(\"/mnt/g/My Drive/Msc/Thesis/Coding/dataset_output/standalone.csv\", )\n",
    "#print(df_prepend.shape)\n",
    "#print(df_standalone.shape)\n"
   ]
  },
  {
   "cell_type": "code",
   "execution_count": 3,
   "metadata": {},
   "outputs": [
    {
     "name": "stdout",
     "output_type": "stream",
     "text": [
      "(618918, 3)\n",
      "(618203, 246)\n",
      "(618203, 247)\n"
     ]
    }
   ],
   "source": [
    "#liwc_cols = list(filter(lambda x: \"liwc\" in x.lower(), list(df_prepend.columns)))\n",
    "#mf_cols = list(filter(lambda x: \"foundation\" in x.lower(), list(df_prepend.columns)))\n",
    "#print(liwc_cols)\n",
    "print(df_id_utc.shape)\n",
    "print(df_prepend.shape)\n",
    "df = df_prepend.merge(df_id_utc, left_on=\"post_id\", right_on=\"post_id\", validate=\"1:1\",suffixes=('', '_DROP')).filter(regex='^(?!.*_DROP)')\n",
    "print(df.shape)"
   ]
  },
  {
   "cell_type": "code",
   "execution_count": 7,
   "metadata": {},
   "outputs": [
    {
     "name": "stdout",
     "output_type": "stream",
     "text": [
      "[]\n"
     ]
    }
   ],
   "source": [
    "to_drop = list(filter(lambda x:  (\"post_created_utc\" in x), list(df_prepend.columns)))\n",
    "print(to_drop)\n",
    "#print(df.dropna().shape)\n",
    "#df.to_csv(\"/mnt/g/My Drive/Msc/Thesis/Coding/dataset_output/prepend_scores.csv\")"
   ]
  },
  {
   "cell_type": "code",
   "execution_count": 10,
   "metadata": {},
   "outputs": [
    {
     "name": "stdout",
     "output_type": "stream",
     "text": [
      "['post_text', 'post_title', 'post_author_id', 'post_score', 'post_num_comments', 'post_ups', 'post_downs', 'post_ratio', 'post_flair']\n",
      "9\n"
     ]
    }
   ],
   "source": [
    "#df_posts = df_posts.drop\n",
    "to_drop = list(filter(lambda x: not (\"post_id\" in x or \"post_created_utc\" in x), list(df_posts.columns)))\n",
    "print(to_drop)\n",
    "print(len(to_drop))\n"
   ]
  },
  {
   "cell_type": "code",
   "execution_count": 11,
   "metadata": {},
   "outputs": [],
   "source": [
    "df_posts = df_posts.drop(columns=to_drop)"
   ]
  },
  {
   "cell_type": "code",
   "execution_count": 10,
   "metadata": {},
   "outputs": [
    {
     "name": "stdout",
     "output_type": "stream",
     "text": [
      "(618918, 11)\n"
     ]
    }
   ],
   "source": [
    "df_posts = pd.read_csv(\"datasets/data/posts_cleaned_27_6_2021.csv\")\n",
    "print(df_posts.shape)"
   ]
  },
  {
   "cell_type": "code",
   "execution_count": 13,
   "metadata": {},
   "outputs": [
    {
     "name": "stdout",
     "output_type": "stream",
     "text": [
      "  post_id  post_created_utc\n",
      "0  1fy0bx      1.370724e+09\n",
      "1  1ytr72      1.393275e+09\n",
      "2  1ytxov      1.393279e+09\n",
      "3  1yu29c      1.393281e+09\n",
      "4  1yu41e      1.393282e+09\n",
      "5  1yu8hi      1.393285e+09\n",
      "6  1yuc78      1.393287e+09\n",
      "7  1yugsc      1.393289e+09\n",
      "8  1yuj95      1.393291e+09\n",
      "9  1yukgb      1.393291e+09\n"
     ]
    }
   ],
   "source": [
    "print(df_posts.head(10))"
   ]
  },
  {
   "cell_type": "code",
   "execution_count": null,
   "metadata": {},
   "outputs": [],
   "source": []
  }
 ],
 "metadata": {
  "interpreter": {
   "hash": "916dbcbb3f70747c44a77c7bcd40155683ae19c65e1c03b4aa3499c5328201f1"
  },
  "kernelspec": {
   "display_name": "Python 3 (ipykernel)",
   "language": "python",
   "name": "python3"
  },
  "language_info": {
   "codemirror_mode": {
    "name": "ipython",
    "version": 3
   },
   "file_extension": ".py",
   "mimetype": "text/x-python",
   "name": "python",
   "nbconvert_exporter": "python",
   "pygments_lexer": "ipython3",
   "version": "3.8.10"
  }
 },
 "nbformat": 4,
 "nbformat_minor": 2
}
